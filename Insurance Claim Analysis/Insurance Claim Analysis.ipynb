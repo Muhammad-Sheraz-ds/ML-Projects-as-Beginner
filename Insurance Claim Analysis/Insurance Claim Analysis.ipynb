{
 "cells": [
  {
   "cell_type": "code",
   "execution_count": 52,
   "id": "d12e304d",
   "metadata": {},
   "outputs": [],
   "source": [
    "import numpy as np\n",
    "import pandas as pd\n",
    "import matplotlib.pyplot as plt\n",
    "from sklearn.linear_model import LinearRegression\n",
    "from sklearn.preprocessing import OneHotEncoder\n",
    "from sklearn.compose import ColumnTransformer\n",
    "from sklearn.preprocessing import OrdinalEncoder\n",
    "from sklearn.model_selection import train_test_split\n",
    "from sklearn.preprocessing import StandardScaler\n",
    "import sklearn.metrics as metrics\n",
    "import seaborn as sns\n",
    "from sklearn.preprocessing import MinMaxScaler\n",
    "from sklearn.impute import SimpleImputer"
   ]
  },
  {
   "cell_type": "code",
   "execution_count": 53,
   "id": "4431dad1",
   "metadata": {},
   "outputs": [
    {
     "data": {
      "text/html": [
       "<div>\n",
       "<style scoped>\n",
       "    .dataframe tbody tr th:only-of-type {\n",
       "        vertical-align: middle;\n",
       "    }\n",
       "\n",
       "    .dataframe tbody tr th {\n",
       "        vertical-align: top;\n",
       "    }\n",
       "\n",
       "    .dataframe thead th {\n",
       "        text-align: right;\n",
       "    }\n",
       "</style>\n",
       "<table border=\"1\" class=\"dataframe\">\n",
       "  <thead>\n",
       "    <tr style=\"text-align: right;\">\n",
       "      <th></th>\n",
       "      <th>age</th>\n",
       "      <th>gender</th>\n",
       "      <th>bmi</th>\n",
       "      <th>bloodpressure</th>\n",
       "      <th>diabetic</th>\n",
       "      <th>children</th>\n",
       "      <th>smoker</th>\n",
       "      <th>region</th>\n",
       "      <th>claim</th>\n",
       "    </tr>\n",
       "  </thead>\n",
       "  <tbody>\n",
       "    <tr>\n",
       "      <th>480</th>\n",
       "      <td>48.0</td>\n",
       "      <td>male</td>\n",
       "      <td>21.1</td>\n",
       "      <td>82</td>\n",
       "      <td>No</td>\n",
       "      <td>3</td>\n",
       "      <td>No</td>\n",
       "      <td>southeast</td>\n",
       "      <td>6652.53</td>\n",
       "    </tr>\n",
       "    <tr>\n",
       "      <th>1169</th>\n",
       "      <td>27.0</td>\n",
       "      <td>male</td>\n",
       "      <td>36.7</td>\n",
       "      <td>130</td>\n",
       "      <td>No</td>\n",
       "      <td>1</td>\n",
       "      <td>No</td>\n",
       "      <td>northwest</td>\n",
       "      <td>28468.92</td>\n",
       "    </tr>\n",
       "    <tr>\n",
       "      <th>868</th>\n",
       "      <td>44.0</td>\n",
       "      <td>male</td>\n",
       "      <td>27.5</td>\n",
       "      <td>104</td>\n",
       "      <td>Yes</td>\n",
       "      <td>1</td>\n",
       "      <td>No</td>\n",
       "      <td>southwest</td>\n",
       "      <td>12333.83</td>\n",
       "    </tr>\n",
       "    <tr>\n",
       "      <th>554</th>\n",
       "      <td>34.0</td>\n",
       "      <td>female</td>\n",
       "      <td>33.2</td>\n",
       "      <td>83</td>\n",
       "      <td>No</td>\n",
       "      <td>1</td>\n",
       "      <td>No</td>\n",
       "      <td>southeast</td>\n",
       "      <td>7639.42</td>\n",
       "    </tr>\n",
       "    <tr>\n",
       "      <th>237</th>\n",
       "      <td>48.0</td>\n",
       "      <td>female</td>\n",
       "      <td>25.2</td>\n",
       "      <td>82</td>\n",
       "      <td>No</td>\n",
       "      <td>0</td>\n",
       "      <td>No</td>\n",
       "      <td>southeast</td>\n",
       "      <td>3558.62</td>\n",
       "    </tr>\n",
       "    <tr>\n",
       "      <th>441</th>\n",
       "      <td>39.0</td>\n",
       "      <td>female</td>\n",
       "      <td>31.0</td>\n",
       "      <td>97</td>\n",
       "      <td>No</td>\n",
       "      <td>0</td>\n",
       "      <td>No</td>\n",
       "      <td>southeast</td>\n",
       "      <td>6185.32</td>\n",
       "    </tr>\n",
       "    <tr>\n",
       "      <th>163</th>\n",
       "      <td>28.0</td>\n",
       "      <td>male</td>\n",
       "      <td>38.1</td>\n",
       "      <td>81</td>\n",
       "      <td>Yes</td>\n",
       "      <td>0</td>\n",
       "      <td>No</td>\n",
       "      <td>southeast</td>\n",
       "      <td>2689.50</td>\n",
       "    </tr>\n",
       "    <tr>\n",
       "      <th>1137</th>\n",
       "      <td>58.0</td>\n",
       "      <td>female</td>\n",
       "      <td>38.1</td>\n",
       "      <td>94</td>\n",
       "      <td>No</td>\n",
       "      <td>2</td>\n",
       "      <td>No</td>\n",
       "      <td>northeast</td>\n",
       "      <td>24915.05</td>\n",
       "    </tr>\n",
       "    <tr>\n",
       "      <th>628</th>\n",
       "      <td>56.0</td>\n",
       "      <td>female</td>\n",
       "      <td>36.6</td>\n",
       "      <td>100</td>\n",
       "      <td>No</td>\n",
       "      <td>0</td>\n",
       "      <td>No</td>\n",
       "      <td>northwest</td>\n",
       "      <td>8671.19</td>\n",
       "    </tr>\n",
       "    <tr>\n",
       "      <th>263</th>\n",
       "      <td>46.0</td>\n",
       "      <td>female</td>\n",
       "      <td>31.2</td>\n",
       "      <td>88</td>\n",
       "      <td>Yes</td>\n",
       "      <td>0</td>\n",
       "      <td>No</td>\n",
       "      <td>northeast</td>\n",
       "      <td>3943.60</td>\n",
       "    </tr>\n",
       "  </tbody>\n",
       "</table>\n",
       "</div>"
      ],
      "text/plain": [
       "       age  gender   bmi  bloodpressure diabetic  children smoker     region  \\\n",
       "480   48.0    male  21.1             82       No         3     No  southeast   \n",
       "1169  27.0    male  36.7            130       No         1     No  northwest   \n",
       "868   44.0    male  27.5            104      Yes         1     No  southwest   \n",
       "554   34.0  female  33.2             83       No         1     No  southeast   \n",
       "237   48.0  female  25.2             82       No         0     No  southeast   \n",
       "441   39.0  female  31.0             97       No         0     No  southeast   \n",
       "163   28.0    male  38.1             81      Yes         0     No  southeast   \n",
       "1137  58.0  female  38.1             94       No         2     No  northeast   \n",
       "628   56.0  female  36.6            100       No         0     No  northwest   \n",
       "263   46.0  female  31.2             88      Yes         0     No  northeast   \n",
       "\n",
       "         claim  \n",
       "480    6652.53  \n",
       "1169  28468.92  \n",
       "868   12333.83  \n",
       "554    7639.42  \n",
       "237    3558.62  \n",
       "441    6185.32  \n",
       "163    2689.50  \n",
       "1137  24915.05  \n",
       "628    8671.19  \n",
       "263    3943.60  "
      ]
     },
     "execution_count": 53,
     "metadata": {},
     "output_type": "execute_result"
    }
   ],
   "source": [
    "df = pd.read_csv('insurance_data.csv')\n",
    "df = df.iloc[:,2:]\n",
    "df.sample(10)"
   ]
  },
  {
   "cell_type": "code",
   "execution_count": null,
   "id": "4ecfb009",
   "metadata": {},
   "outputs": [],
   "source": []
  },
  {
   "cell_type": "code",
   "execution_count": 54,
   "id": "4030ca00",
   "metadata": {},
   "outputs": [
    {
     "data": {
      "text/plain": [
       "age              5\n",
       "gender           0\n",
       "bmi              0\n",
       "bloodpressure    0\n",
       "diabetic         0\n",
       "children         0\n",
       "smoker           0\n",
       "region           3\n",
       "claim            0\n",
       "dtype: int64"
      ]
     },
     "execution_count": 54,
     "metadata": {},
     "output_type": "execute_result"
    }
   ],
   "source": [
    "df.isnull().sum()"
   ]
  },
  {
   "cell_type": "code",
   "execution_count": 55,
   "id": "e97377f9",
   "metadata": {},
   "outputs": [
    {
     "name": "stdout",
     "output_type": "stream",
     "text": [
      "<class 'pandas.core.frame.DataFrame'>\n",
      "RangeIndex: 1340 entries, 0 to 1339\n",
      "Data columns (total 9 columns):\n",
      " #   Column         Non-Null Count  Dtype  \n",
      "---  ------         --------------  -----  \n",
      " 0   age            1335 non-null   float64\n",
      " 1   gender         1340 non-null   object \n",
      " 2   bmi            1340 non-null   float64\n",
      " 3   bloodpressure  1340 non-null   int64  \n",
      " 4   diabetic       1340 non-null   object \n",
      " 5   children       1340 non-null   int64  \n",
      " 6   smoker         1340 non-null   object \n",
      " 7   region         1337 non-null   object \n",
      " 8   claim          1340 non-null   float64\n",
      "dtypes: float64(3), int64(2), object(4)\n",
      "memory usage: 94.3+ KB\n"
     ]
    }
   ],
   "source": [
    "df.info()"
   ]
  },
  {
   "cell_type": "markdown",
   "id": "d879fbb7",
   "metadata": {},
   "source": [
    "# UniVariant EDA"
   ]
  },
  {
   "cell_type": "markdown",
   "id": "2bdf6c34",
   "metadata": {},
   "source": [
    "# Column Types\n",
    "\n",
    "- **Numerical** - age,bmi,bloodpressure,claim\n",
    "- **Categorical** -gender, diabetic,children,smoker, region"
   ]
  },
  {
   "cell_type": "code",
   "execution_count": 62,
   "id": "a97ae97a",
   "metadata": {},
   "outputs": [
    {
     "data": {
      "text/plain": [
       "<AxesSubplot: xlabel='age', ylabel='Frequency'>"
      ]
     },
     "execution_count": 62,
     "metadata": {},
     "output_type": "execute_result"
    }
   ],
   "source": [
    "df['age'].plot(kind='hist')"
   ]
  },
  {
   "cell_type": "code",
   "execution_count": 61,
   "id": "2bc37ca0",
   "metadata": {},
   "outputs": [
    {
     "data": {
      "text/plain": [
       "<AxesSubplot: xlabel='age', ylabel='age'>"
      ]
     },
     "execution_count": 61,
     "metadata": {},
     "output_type": "execute_result"
    }
   ],
   "source": [
    "df['age'].value_counts().plot(kind='pie')"
   ]
  },
  {
   "cell_type": "code",
   "execution_count": 57,
   "id": "8d1d5709",
   "metadata": {},
   "outputs": [
    {
     "data": {
      "text/plain": [
       "<AxesSubplot: xlabel='age', ylabel='Frequency'>"
      ]
     },
     "execution_count": 57,
     "metadata": {},
     "output_type": "execute_result"
    }
   ],
   "source": [
    "sns.histplot()"
   ]
  },
  {
   "cell_type": "code",
   "execution_count": 58,
   "id": "6329dffa",
   "metadata": {},
   "outputs": [],
   "source": [
    "df['age'].fillna(df['age'].mean(),inplace=True)"
   ]
  },
  {
   "cell_type": "code",
   "execution_count": 59,
   "id": "8ed524b4",
   "metadata": {},
   "outputs": [
    {
     "data": {
      "text/plain": [
       "0       39.000000\n",
       "1       24.000000\n",
       "2       38.078652\n",
       "3       38.078652\n",
       "4       38.078652\n",
       "          ...    \n",
       "1335    44.000000\n",
       "1336    59.000000\n",
       "1337    30.000000\n",
       "1338    37.000000\n",
       "1339    30.000000\n",
       "Name: age, Length: 1340, dtype: float64"
      ]
     },
     "execution_count": 59,
     "metadata": {},
     "output_type": "execute_result"
    }
   ],
   "source": [
    "df['age']"
   ]
  },
  {
   "cell_type": "code",
   "execution_count": null,
   "id": "0a339fd3",
   "metadata": {},
   "outputs": [],
   "source": []
  },
  {
   "cell_type": "code",
   "execution_count": null,
   "id": "0c27a167",
   "metadata": {},
   "outputs": [],
   "source": []
  }
 ],
 "metadata": {
  "kernelspec": {
   "display_name": "Python 3 (ipykernel)",
   "language": "python",
   "name": "python3"
  },
  "language_info": {
   "codemirror_mode": {
    "name": "ipython",
    "version": 3
   },
   "file_extension": ".py",
   "mimetype": "text/x-python",
   "name": "python",
   "nbconvert_exporter": "python",
   "pygments_lexer": "ipython3",
   "version": "3.10.9"
  }
 },
 "nbformat": 4,
 "nbformat_minor": 5
}
