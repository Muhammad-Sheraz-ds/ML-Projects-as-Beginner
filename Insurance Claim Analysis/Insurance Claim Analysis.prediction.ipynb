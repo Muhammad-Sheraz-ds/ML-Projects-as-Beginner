{
 "cells": [
  {
   "cell_type": "code",
   "execution_count": 1,
   "id": "92a996c9",
   "metadata": {},
   "outputs": [],
   "source": [
    "import numpy as np\n",
    "import pandas as pd\n",
    "import matplotlib.pyplot as plt\n",
    "import seaborn as sns"
   ]
  },
  {
   "cell_type": "code",
   "execution_count": 52,
   "id": "7d5d7c58",
   "metadata": {},
   "outputs": [
    {
     "data": {
      "text/html": [
       "<div>\n",
       "<style scoped>\n",
       "    .dataframe tbody tr th:only-of-type {\n",
       "        vertical-align: middle;\n",
       "    }\n",
       "\n",
       "    .dataframe tbody tr th {\n",
       "        vertical-align: top;\n",
       "    }\n",
       "\n",
       "    .dataframe thead th {\n",
       "        text-align: right;\n",
       "    }\n",
       "</style>\n",
       "<table border=\"1\" class=\"dataframe\">\n",
       "  <thead>\n",
       "    <tr style=\"text-align: right;\">\n",
       "      <th></th>\n",
       "      <th>index</th>\n",
       "      <th>PatientID</th>\n",
       "      <th>age</th>\n",
       "      <th>gender</th>\n",
       "      <th>bmi</th>\n",
       "      <th>bloodpressure</th>\n",
       "      <th>diabetic</th>\n",
       "      <th>children</th>\n",
       "      <th>smoker</th>\n",
       "      <th>region</th>\n",
       "      <th>claim</th>\n",
       "    </tr>\n",
       "  </thead>\n",
       "  <tbody>\n",
       "    <tr>\n",
       "      <th>539</th>\n",
       "      <td>539</td>\n",
       "      <td>540</td>\n",
       "      <td>51.0</td>\n",
       "      <td>female</td>\n",
       "      <td>26.4</td>\n",
       "      <td>97</td>\n",
       "      <td>No</td>\n",
       "      <td>0</td>\n",
       "      <td>No</td>\n",
       "      <td>northwest</td>\n",
       "      <td>7419.48</td>\n",
       "    </tr>\n",
       "    <tr>\n",
       "      <th>598</th>\n",
       "      <td>598</td>\n",
       "      <td>599</td>\n",
       "      <td>40.0</td>\n",
       "      <td>male</td>\n",
       "      <td>33.4</td>\n",
       "      <td>94</td>\n",
       "      <td>No</td>\n",
       "      <td>1</td>\n",
       "      <td>No</td>\n",
       "      <td>northeast</td>\n",
       "      <td>8334.59</td>\n",
       "    </tr>\n",
       "    <tr>\n",
       "      <th>1009</th>\n",
       "      <td>1009</td>\n",
       "      <td>1010</td>\n",
       "      <td>22.0</td>\n",
       "      <td>male</td>\n",
       "      <td>27.1</td>\n",
       "      <td>86</td>\n",
       "      <td>Yes</td>\n",
       "      <td>0</td>\n",
       "      <td>Yes</td>\n",
       "      <td>southeast</td>\n",
       "      <td>17043.34</td>\n",
       "    </tr>\n",
       "    <tr>\n",
       "      <th>190</th>\n",
       "      <td>190</td>\n",
       "      <td>191</td>\n",
       "      <td>28.0</td>\n",
       "      <td>male</td>\n",
       "      <td>46.5</td>\n",
       "      <td>94</td>\n",
       "      <td>No</td>\n",
       "      <td>1</td>\n",
       "      <td>No</td>\n",
       "      <td>southeast</td>\n",
       "      <td>2927.06</td>\n",
       "    </tr>\n",
       "    <tr>\n",
       "      <th>374</th>\n",
       "      <td>374</td>\n",
       "      <td>375</td>\n",
       "      <td>38.0</td>\n",
       "      <td>female</td>\n",
       "      <td>26.1</td>\n",
       "      <td>81</td>\n",
       "      <td>Yes</td>\n",
       "      <td>0</td>\n",
       "      <td>No</td>\n",
       "      <td>southeast</td>\n",
       "      <td>5227.99</td>\n",
       "    </tr>\n",
       "    <tr>\n",
       "      <th>1337</th>\n",
       "      <td>1337</td>\n",
       "      <td>1338</td>\n",
       "      <td>30.0</td>\n",
       "      <td>male</td>\n",
       "      <td>34.5</td>\n",
       "      <td>91</td>\n",
       "      <td>Yes</td>\n",
       "      <td>3</td>\n",
       "      <td>Yes</td>\n",
       "      <td>northwest</td>\n",
       "      <td>60021.40</td>\n",
       "    </tr>\n",
       "    <tr>\n",
       "      <th>1046</th>\n",
       "      <td>1046</td>\n",
       "      <td>1047</td>\n",
       "      <td>60.0</td>\n",
       "      <td>female</td>\n",
       "      <td>18.3</td>\n",
       "      <td>82</td>\n",
       "      <td>Yes</td>\n",
       "      <td>5</td>\n",
       "      <td>Yes</td>\n",
       "      <td>southwest</td>\n",
       "      <td>19023.26</td>\n",
       "    </tr>\n",
       "    <tr>\n",
       "      <th>1140</th>\n",
       "      <td>1140</td>\n",
       "      <td>1141</td>\n",
       "      <td>19.0</td>\n",
       "      <td>male</td>\n",
       "      <td>29.8</td>\n",
       "      <td>89</td>\n",
       "      <td>No</td>\n",
       "      <td>3</td>\n",
       "      <td>Yes</td>\n",
       "      <td>southwest</td>\n",
       "      <td>25309.49</td>\n",
       "    </tr>\n",
       "    <tr>\n",
       "      <th>110</th>\n",
       "      <td>110</td>\n",
       "      <td>111</td>\n",
       "      <td>27.0</td>\n",
       "      <td>female</td>\n",
       "      <td>27.1</td>\n",
       "      <td>88</td>\n",
       "      <td>Yes</td>\n",
       "      <td>0</td>\n",
       "      <td>No</td>\n",
       "      <td>southwest</td>\n",
       "      <td>2154.36</td>\n",
       "    </tr>\n",
       "    <tr>\n",
       "      <th>218</th>\n",
       "      <td>218</td>\n",
       "      <td>219</td>\n",
       "      <td>48.0</td>\n",
       "      <td>male</td>\n",
       "      <td>25.8</td>\n",
       "      <td>82</td>\n",
       "      <td>Yes</td>\n",
       "      <td>1</td>\n",
       "      <td>No</td>\n",
       "      <td>northeast</td>\n",
       "      <td>3309.79</td>\n",
       "    </tr>\n",
       "  </tbody>\n",
       "</table>\n",
       "</div>"
      ],
      "text/plain": [
       "      index  PatientID   age  gender   bmi  bloodpressure diabetic  children  \\\n",
       "539     539        540  51.0  female  26.4             97       No         0   \n",
       "598     598        599  40.0    male  33.4             94       No         1   \n",
       "1009   1009       1010  22.0    male  27.1             86      Yes         0   \n",
       "190     190        191  28.0    male  46.5             94       No         1   \n",
       "374     374        375  38.0  female  26.1             81      Yes         0   \n",
       "1337   1337       1338  30.0    male  34.5             91      Yes         3   \n",
       "1046   1046       1047  60.0  female  18.3             82      Yes         5   \n",
       "1140   1140       1141  19.0    male  29.8             89       No         3   \n",
       "110     110        111  27.0  female  27.1             88      Yes         0   \n",
       "218     218        219  48.0    male  25.8             82      Yes         1   \n",
       "\n",
       "     smoker     region     claim  \n",
       "539      No  northwest   7419.48  \n",
       "598      No  northeast   8334.59  \n",
       "1009    Yes  southeast  17043.34  \n",
       "190      No  southeast   2927.06  \n",
       "374      No  southeast   5227.99  \n",
       "1337    Yes  northwest  60021.40  \n",
       "1046    Yes  southwest  19023.26  \n",
       "1140    Yes  southwest  25309.49  \n",
       "110      No  southwest   2154.36  \n",
       "218      No  northeast   3309.79  "
      ]
     },
     "execution_count": 52,
     "metadata": {},
     "output_type": "execute_result"
    }
   ],
   "source": [
    "df = pd.read_csv('insurance_data.csv')\n",
    "df.sample(10)"
   ]
  },
  {
   "cell_type": "markdown",
   "id": "ada0d8e9",
   "metadata": {},
   "source": [
    "# Drop Unnecessary Columns"
   ]
  },
  {
   "cell_type": "code",
   "execution_count": 3,
   "id": "92ce0748",
   "metadata": {},
   "outputs": [
    {
     "data": {
      "text/html": [
       "<div>\n",
       "<style scoped>\n",
       "    .dataframe tbody tr th:only-of-type {\n",
       "        vertical-align: middle;\n",
       "    }\n",
       "\n",
       "    .dataframe tbody tr th {\n",
       "        vertical-align: top;\n",
       "    }\n",
       "\n",
       "    .dataframe thead th {\n",
       "        text-align: right;\n",
       "    }\n",
       "</style>\n",
       "<table border=\"1\" class=\"dataframe\">\n",
       "  <thead>\n",
       "    <tr style=\"text-align: right;\">\n",
       "      <th></th>\n",
       "      <th>age</th>\n",
       "      <th>gender</th>\n",
       "      <th>bmi</th>\n",
       "      <th>bloodpressure</th>\n",
       "      <th>diabetic</th>\n",
       "      <th>children</th>\n",
       "      <th>smoker</th>\n",
       "      <th>region</th>\n",
       "      <th>claim</th>\n",
       "    </tr>\n",
       "  </thead>\n",
       "  <tbody>\n",
       "    <tr>\n",
       "      <th>0</th>\n",
       "      <td>39.0</td>\n",
       "      <td>male</td>\n",
       "      <td>23.2</td>\n",
       "      <td>91</td>\n",
       "      <td>Yes</td>\n",
       "      <td>0</td>\n",
       "      <td>No</td>\n",
       "      <td>southeast</td>\n",
       "      <td>1121.87</td>\n",
       "    </tr>\n",
       "    <tr>\n",
       "      <th>1</th>\n",
       "      <td>24.0</td>\n",
       "      <td>male</td>\n",
       "      <td>30.1</td>\n",
       "      <td>87</td>\n",
       "      <td>No</td>\n",
       "      <td>0</td>\n",
       "      <td>No</td>\n",
       "      <td>southeast</td>\n",
       "      <td>1131.51</td>\n",
       "    </tr>\n",
       "    <tr>\n",
       "      <th>2</th>\n",
       "      <td>NaN</td>\n",
       "      <td>male</td>\n",
       "      <td>33.3</td>\n",
       "      <td>82</td>\n",
       "      <td>Yes</td>\n",
       "      <td>0</td>\n",
       "      <td>No</td>\n",
       "      <td>southeast</td>\n",
       "      <td>1135.94</td>\n",
       "    </tr>\n",
       "    <tr>\n",
       "      <th>3</th>\n",
       "      <td>NaN</td>\n",
       "      <td>male</td>\n",
       "      <td>33.7</td>\n",
       "      <td>80</td>\n",
       "      <td>No</td>\n",
       "      <td>0</td>\n",
       "      <td>No</td>\n",
       "      <td>northwest</td>\n",
       "      <td>1136.40</td>\n",
       "    </tr>\n",
       "    <tr>\n",
       "      <th>4</th>\n",
       "      <td>NaN</td>\n",
       "      <td>male</td>\n",
       "      <td>34.1</td>\n",
       "      <td>100</td>\n",
       "      <td>No</td>\n",
       "      <td>0</td>\n",
       "      <td>No</td>\n",
       "      <td>northwest</td>\n",
       "      <td>1137.01</td>\n",
       "    </tr>\n",
       "  </tbody>\n",
       "</table>\n",
       "</div>"
      ],
      "text/plain": [
       "    age gender   bmi  bloodpressure diabetic  children smoker     region  \\\n",
       "0  39.0   male  23.2             91      Yes         0     No  southeast   \n",
       "1  24.0   male  30.1             87       No         0     No  southeast   \n",
       "2   NaN   male  33.3             82      Yes         0     No  southeast   \n",
       "3   NaN   male  33.7             80       No         0     No  northwest   \n",
       "4   NaN   male  34.1            100       No         0     No  northwest   \n",
       "\n",
       "     claim  \n",
       "0  1121.87  \n",
       "1  1131.51  \n",
       "2  1135.94  \n",
       "3  1136.40  \n",
       "4  1137.01  "
      ]
     },
     "execution_count": 3,
     "metadata": {},
     "output_type": "execute_result"
    }
   ],
   "source": [
    "df.drop(columns=['index','PatientID'],inplace=True)\n",
    "df.head()"
   ]
  },
  {
   "cell_type": "markdown",
   "id": "49edcea4",
   "metadata": {},
   "source": [
    "# Shape of Data"
   ]
  },
  {
   "cell_type": "code",
   "execution_count": 4,
   "id": "139dd27c",
   "metadata": {},
   "outputs": [
    {
     "data": {
      "text/plain": [
       "(1340, 9)"
      ]
     },
     "execution_count": 4,
     "metadata": {},
     "output_type": "execute_result"
    }
   ],
   "source": [
    "df.shape"
   ]
  },
  {
   "cell_type": "markdown",
   "id": "642f257c",
   "metadata": {},
   "source": [
    "# Null Values"
   ]
  },
  {
   "cell_type": "code",
   "execution_count": 5,
   "id": "d05fcce0",
   "metadata": {},
   "outputs": [
    {
     "data": {
      "text/plain": [
       "age              5\n",
       "gender           0\n",
       "bmi              0\n",
       "bloodpressure    0\n",
       "diabetic         0\n",
       "children         0\n",
       "smoker           0\n",
       "region           3\n",
       "claim            0\n",
       "dtype: int64"
      ]
     },
     "execution_count": 5,
     "metadata": {},
     "output_type": "execute_result"
    }
   ],
   "source": [
    "df.isnull().sum()"
   ]
  },
  {
   "cell_type": "code",
   "execution_count": 6,
   "id": "55c10b53",
   "metadata": {},
   "outputs": [
    {
     "name": "stdout",
     "output_type": "stream",
     "text": [
      "<class 'pandas.core.frame.DataFrame'>\n",
      "RangeIndex: 1340 entries, 0 to 1339\n",
      "Data columns (total 9 columns):\n",
      " #   Column         Non-Null Count  Dtype  \n",
      "---  ------         --------------  -----  \n",
      " 0   age            1335 non-null   float64\n",
      " 1   gender         1340 non-null   object \n",
      " 2   bmi            1340 non-null   float64\n",
      " 3   bloodpressure  1340 non-null   int64  \n",
      " 4   diabetic       1340 non-null   object \n",
      " 5   children       1340 non-null   int64  \n",
      " 6   smoker         1340 non-null   object \n",
      " 7   region         1337 non-null   object \n",
      " 8   claim          1340 non-null   float64\n",
      "dtypes: float64(3), int64(2), object(4)\n",
      "memory usage: 94.3+ KB\n"
     ]
    }
   ],
   "source": [
    "df.info()"
   ]
  },
  {
   "cell_type": "markdown",
   "id": "4214003f",
   "metadata": {},
   "source": [
    "# Column Types\n",
    "\n",
    "- **Numerical** - age,bmi,bloodpressure,claim\n",
    "- **Categorical** -gender, diabetic,children,smoker, region"
   ]
  },
  {
   "cell_type": "markdown",
   "id": "9b40db0d",
   "metadata": {},
   "source": [
    "#  UniVariant EDA"
   ]
  },
  {
   "cell_type": "code",
   "execution_count": 7,
   "id": "a7450e5c",
   "metadata": {},
   "outputs": [
    {
     "data": {
      "text/plain": [
       "count    1335.000000\n",
       "mean       38.078652\n",
       "std        11.102924\n",
       "min        18.000000\n",
       "25%        29.000000\n",
       "50%        38.000000\n",
       "75%        47.000000\n",
       "max        60.000000\n",
       "Name: age, dtype: float64"
      ]
     },
     "execution_count": 7,
     "metadata": {},
     "output_type": "execute_result"
    }
   ],
   "source": [
    "df['age'].describe()"
   ]
  },
  {
   "cell_type": "code",
   "execution_count": 24,
   "id": "d79417e0",
   "metadata": {},
   "outputs": [
    {
     "data": {
      "text/plain": [
       "0.11382341584545372"
      ]
     },
     "execution_count": 24,
     "metadata": {},
     "output_type": "execute_result"
    }
   ],
   "source": [
    "df['age'].skew()"
   ]
  },
  {
   "cell_type": "code",
   "execution_count": 8,
   "id": "a30f9ebf",
   "metadata": {},
   "outputs": [
    {
     "data": {
      "text/plain": [
       "<AxesSubplot: xlabel='age', ylabel='Count'>"
      ]
     },
     "execution_count": 8,
     "metadata": {},
     "output_type": "execute_result"
    },
    {
     "data": {
      "image/png": "[encoded data removed]",
      "text/plain": [
       "<Figure size 432x288 with 1 Axes>"
      ]
     },
     "metadata": {
      "needs_background": "light"
     },
     "output_type": "display_data"
    }
   ],
   "source": [
    "sns.histplot(df['age'],kde=True)"
   ]
  },
  {
   "cell_type": "markdown",
   "id": "9e7863bb",
   "metadata": {},
   "source": [
    "Data is almost Normally Distributed\n",
    "Mostly Patience are of age 30 to 35 and 40 to 45"
   ]
  },
  {
   "cell_type": "code",
   "execution_count": 20,
   "id": "49c1f9af",
   "metadata": {},
   "outputs": [],
   "source": [
    "#Impute the null value with mean \n",
    "df['age'].fillna(df['age'].mean(),inplace=True)"
   ]
  },
  {
   "cell_type": "code",
   "execution_count": 21,
   "id": "5aa6468a",
   "metadata": {},
   "outputs": [
    {
     "data": {
      "text/plain": [
       "0"
      ]
     },
     "execution_count": 21,
     "metadata": {},
     "output_type": "execute_result"
    }
   ],
   "source": [
    "df['age'].isnull().sum()"
   ]
  },
  {
   "cell_type": "code",
   "execution_count": 22,
   "id": "fa7ef9a1",
   "metadata": {},
   "outputs": [
    {
     "data": {
      "text/plain": [
       "<AxesSubplot: >"
      ]
     },
     "execution_count": 22,
     "metadata": {},
     "output_type": "execute_result"
    },
    {
     "data": {
      "image/png": "[encoded data removed]",
      "text/plain": [
       "<Figure size 432x288 with 1 Axes>"
      ]
     },
     "metadata": {
      "needs_background": "light"
     },
     "output_type": "display_data"
    }
   ],
   "source": [
    "sns.boxplot(df['age'])"
   ]
  },
  {
   "cell_type": "markdown",
   "id": "f56ab42b",
   "metadata": {},
   "source": [
    "25% of patients are of age less than 28 and 75% of patients are of age less than 48"
   ]
  },
  {
   "cell_type": "code",
   "execution_count": 23,
   "id": "c6614d61",
   "metadata": {},
   "outputs": [
    {
     "data": {
      "image/png": "[encoded data removed]",
      "text/plain": [
       "<Figure size 432x288 with 1 Axes>"
      ]
     },
     "metadata": {
      "needs_background": "light"
     },
     "output_type": "display_data"
    }
   ],
   "source": [
    "sns.ecdfplot(df['age'], marker='.', linestyle='-', color='b')\n",
    "\n",
    "# Customize labels and title\n",
    "plt.xlabel('Age')\n",
    "plt.ylabel('ECDF')\n",
    "plt.title('Empirical Cumulative Distribution Function (ECDF) of Age')\n",
    "\n",
    "# Show the plot\n",
    "plt.grid(True)\n",
    "plt.show()\n"
   ]
  },
  {
   "cell_type": "code",
   "execution_count": 25,
   "id": "049abd67",
   "metadata": {},
   "outputs": [
    {
     "data": {
      "text/plain": [
       "count    1340.000000\n",
       "mean       30.668955\n",
       "std         6.106735\n",
       "min        16.000000\n",
       "25%        26.275000\n",
       "50%        30.400000\n",
       "75%        34.700000\n",
       "max        53.100000\n",
       "Name: bmi, dtype: float64"
      ]
     },
     "execution_count": 25,
     "metadata": {},
     "output_type": "execute_result"
    }
   ],
   "source": [
    "df['bmi'].describe()"
   ]
  },
  {
   "cell_type": "code",
   "execution_count": 26,
   "id": "7a3ccec9",
   "metadata": {},
   "outputs": [
    {
     "data": {
      "text/plain": [
       "<AxesSubplot: xlabel='bmi', ylabel='Count'>"
      ]
     },
     "execution_count": 26,
     "metadata": {},
     "output_type": "execute_result"
    },
    {
     "data": {
      "image/png": "[encoded data removed]",
      "text/plain": [
       "<Figure size 432x288 with 1 Axes>"
      ]
     },
     "metadata": {
      "needs_background": "light"
     },
     "output_type": "display_data"
    }
   ],
   "source": [
    "sns.histplot(df['bmi'],kde=True)"
   ]
  },
  {
   "cell_type": "code",
   "execution_count": 28,
   "id": "b621efb2",
   "metadata": {},
   "outputs": [
    {
     "data": {
      "text/plain": [
       "<AxesSubplot: >"
      ]
     },
     "execution_count": 28,
     "metadata": {},
     "output_type": "execute_result"
    },
    {
     "data": {
      "image/png": "[encoded data removed]",
      "text/plain": [
       "<Figure size 432x288 with 1 Axes>"
      ]
     },
     "metadata": {
      "needs_background": "light"
     },
     "output_type": "display_data"
    }
   ],
   "source": [
    "sns.boxplot(df['bmi'])"
   ]
  },
  {
   "cell_type": "code",
   "execution_count": 33,
   "id": "570f10c7",
   "metadata": {},
   "outputs": [
    {
     "data": {
      "text/plain": [
       "(0, 9)"
      ]
     },
     "execution_count": 33,
     "metadata": {},
     "output_type": "execute_result"
    }
   ],
   "source": [
    "# iqr = df['bmi'].quantile(0.75) - df['bmi'].quantile(0.25)\n",
    "upper_limit= df['bmi'].quantile(0.75) + iqr *1.5\n",
    "df[df['bmi']>upper_limit].shape"
   ]
  },
  {
   "cell_type": "code",
   "execution_count": null,
   "id": "299450d1",
   "metadata": {},
   "outputs": [],
   "source": []
  },
  {
   "cell_type": "markdown",
   "id": "21ec4083",
   "metadata": {},
   "source": [
    "# BMI\n",
    "\n",
    "- **Missing Values**     0 \n",
    "- **Shape** Noraml Distriubution\n",
    "- **Outliers** 9 max  Outliers"
   ]
  },
  {
   "cell_type": "code",
   "execution_count": 34,
   "id": "10f4c126",
   "metadata": {},
   "outputs": [],
   "source": [
    "df['bmi']= np.where(df['bmi'] >upper_limit,upper_limit,df['bmi'])"
   ]
  },
  {
   "cell_type": "markdown",
   "id": "3fdb14d0",
   "metadata": {},
   "source": [
    "# After Outlier Detection"
   ]
  },
  {
   "cell_type": "code",
   "execution_count": 36,
   "id": "0f2e45c2",
   "metadata": {},
   "outputs": [
    {
     "data": {
      "text/plain": [
       "<AxesSubplot: >"
      ]
     },
     "execution_count": 36,
     "metadata": {},
     "output_type": "execute_result"
    },
    {
     "data": {
      "image/png": "[encoded data removed]",
      "text/plain": [
       "<Figure size 432x288 with 1 Axes>"
      ]
     },
     "metadata": {
      "needs_background": "light"
     },
     "output_type": "display_data"
    }
   ],
   "source": [
    "sns.boxplot(df['bmi'])"
   ]
  },
  {
   "cell_type": "code",
   "execution_count": null,
   "id": "da399479",
   "metadata": {},
   "outputs": [],
   "source": []
  },
  {
   "cell_type": "code",
   "execution_count": 37,
   "id": "edb0f2eb",
   "metadata": {},
   "outputs": [
    {
     "data": {
      "text/plain": [
       "count    1340.000000\n",
       "mean       94.157463\n",
       "std        11.434712\n",
       "min        80.000000\n",
       "25%        86.000000\n",
       "50%        92.000000\n",
       "75%        99.000000\n",
       "max       140.000000\n",
       "Name: bloodpressure, dtype: float64"
      ]
     },
     "execution_count": 37,
     "metadata": {},
     "output_type": "execute_result"
    }
   ],
   "source": [
    "df['bloodpressure'].describe()"
   ]
  },
  {
   "cell_type": "code",
   "execution_count": 40,
   "id": "dcb7acd0",
   "metadata": {},
   "outputs": [
    {
     "data": {
      "text/plain": [
       "<AxesSubplot: xlabel='bloodpressure', ylabel='Count'>"
      ]
     },
     "execution_count": 40,
     "metadata": {},
     "output_type": "execute_result"
    },
    {
     "data": {
      "image/png": "[encoded data removed]",
      "text/plain": [
       "<Figure size 432x288 with 1 Axes>"
      ]
     },
     "metadata": {
      "needs_background": "light"
     },
     "output_type": "display_data"
    }
   ],
   "source": [
    "sns.histplot(df['bloodpressure'],kde=True)"
   ]
  },
  {
   "cell_type": "code",
   "execution_count": 43,
   "id": "e430bb58",
   "metadata": {},
   "outputs": [
    {
     "data": {
      "text/plain": [
       "<AxesSubplot: xlabel='bloodpressure', ylabel='Density'>"
      ]
     },
     "execution_count": 43,
     "metadata": {},
     "output_type": "execute_result"
    },
    {
     "data": {
      "image/png": "[encoded data removed]",
      "text/plain": [
       "<Figure size 432x288 with 1 Axes>"
      ]
     },
     "metadata": {
      "needs_background": "light"
     },
     "output_type": "display_data"
    }
   ],
   "source": [
    "sns.kdeplot(df['bloodpressure'])"
   ]
  },
  {
   "cell_type": "code",
   "execution_count": 39,
   "id": "e0431dbf",
   "metadata": {},
   "outputs": [
    {
     "data": {
      "text/plain": [
       "1.4835342102293079"
      ]
     },
     "execution_count": 39,
     "metadata": {},
     "output_type": "execute_result"
    }
   ],
   "source": [
    "df['bloodpressure'].skew()"
   ]
  },
  {
   "cell_type": "code",
   "execution_count": 46,
   "id": "eb97b7b1",
   "metadata": {},
   "outputs": [
    {
     "data": {
      "text/plain": [
       "<AxesSubplot: >"
      ]
     },
     "execution_count": 46,
     "metadata": {},
     "output_type": "execute_result"
    },
    {
     "data": {
      "image/png": "[encoded data removed]",
      "text/plain": [
       "<Figure size 432x288 with 1 Axes>"
      ]
     },
     "metadata": {
      "needs_background": "light"
     },
     "output_type": "display_data"
    }
   ],
   "source": [
    "sns.boxplot(df['bloodpressure'])"
   ]
  },
  {
   "cell_type": "code",
   "execution_count": 47,
   "id": "5650132c",
   "metadata": {},
   "outputs": [
    {
     "data": {
      "text/plain": [
       "(62, 9)"
      ]
     },
     "execution_count": 47,
     "metadata": {},
     "output_type": "execute_result"
    }
   ],
   "source": [
    "iqr = df['bloodpressure'].quantile(0.75) - df['bloodpressure'].quantile(0.25)\n",
    "upper_limit= df['bloodpressure'].quantile(0.75) + iqr *1.5\n",
    "df[df['bloodpressure']>upper_limit].shape"
   ]
  },
  {
   "cell_type": "code",
   "execution_count": 50,
   "id": "d41093c0",
   "metadata": {},
   "outputs": [
    {
     "data": {
      "text/plain": [
       "0.0"
      ]
     },
     "execution_count": 50,
     "metadata": {},
     "output_type": "execute_result"
    }
   ],
   "source": [
    "df[df['bloodpressure']>upper_limit].shape[0]/df.shape[0]*100"
   ]
  },
  {
   "cell_type": "code",
   "execution_count": 51,
   "id": "38c1a023",
   "metadata": {},
   "outputs": [],
   "source": [
    "df['bloodpressure']= np.where(df['bloodpressure'] >upper_limit,upper_limit,df['bloodpressure'])"
   ]
  },
  {
   "cell_type": "code",
   "execution_count": null,
   "id": "2443409e",
   "metadata": {},
   "outputs": [],
   "source": []
  }
 ],
 "metadata": {
  "kernelspec": {
   "display_name": "Python 3 (ipykernel)",
   "language": "python",
   "name": "python3"
  },
  "language_info": {
   "codemirror_mode": {
    "name": "ipython",
    "version": 3
   },
   "file_extension": ".py",
   "mimetype": "text/x-python",
   "name": "python",
   "nbconvert_exporter": "python",
   "pygments_lexer": "ipython3",
   "version": "3.10.9"
  }
 },
 "nbformat": 4,
 "nbformat_minor": 5
}
