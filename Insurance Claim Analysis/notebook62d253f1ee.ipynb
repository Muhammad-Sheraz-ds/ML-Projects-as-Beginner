{
 "cells": [
  {
   "cell_type": "markdown",
   "metadata": {
    "id": "ny5g65a5mGXs"
   },
   "source": [
    "# Importing libraries"
   ]
  },
  {
   "cell_type": "code",
   "execution_count": 3,
   "metadata": {
    "execution": {
     "iopub.execute_input": "2023-10-11T21:49:25.791718Z",
     "iopub.status.busy": "2023-10-11T21:49:25.791302Z",
     "iopub.status.idle": "2023-10-11T21:49:25.798034Z",
     "shell.execute_reply": "2023-10-11T21:49:25.79663Z",
     "shell.execute_reply.started": "2023-10-11T21:49:25.79169Z"
    },
    "id": "Vjy-pnhkjEuL"
   },
   "outputs": [],
   "source": [
    "import numpy as np\n",
    "import pandas as pd\n",
    "import matplotlib.pyplot as plt\n",
    "import seaborn as sns\n",
    "from scipy import stats\n",
    "from  scipy.stats import norm"
   ]
  },
  {
   "cell_type": "markdown",
   "metadata": {
    "id": "loghoiiOmDTJ"
   },
   "source": [
    "# Importing data:"
   ]
  },
  {
   "cell_type": "code",
   "execution_count": 6,
   "metadata": {
    "execution": {
     "iopub.execute_input": "2023-10-11T21:49:25.804974Z",
     "iopub.status.busy": "2023-10-11T21:49:25.804626Z",
     "iopub.status.idle": "2023-10-11T21:49:25.839122Z",
     "shell.execute_reply": "2023-10-11T21:49:25.837769Z",
     "shell.execute_reply.started": "2023-10-11T21:49:25.804947Z"
    },
    "id": "Y9gRRoHTTfmv",
    "outputId": "d0d35eea-54ef-4755-a0e4-51b9e91118d0"
   },
   "outputs": [
    {
     "data": {
      "text/html": [
       "<div>\n",
       "<style scoped>\n",
       "    .dataframe tbody tr th:only-of-type {\n",
       "        vertical-align: middle;\n",
       "    }\n",
       "\n",
       "    .dataframe tbody tr th {\n",
       "        vertical-align: top;\n",
       "    }\n",
       "\n",
       "    .dataframe thead th {\n",
       "        text-align: right;\n",
       "    }\n",
       "</style>\n",
       "<table border=\"1\" class=\"dataframe\">\n",
       "  <thead>\n",
       "    <tr style=\"text-align: right;\">\n",
       "      <th></th>\n",
       "      <th>index</th>\n",
       "      <th>PatientID</th>\n",
       "      <th>age</th>\n",
       "      <th>gender</th>\n",
       "      <th>bmi</th>\n",
       "      <th>bloodpressure</th>\n",
       "      <th>diabetic</th>\n",
       "      <th>children</th>\n",
       "      <th>smoker</th>\n",
       "      <th>region</th>\n",
       "      <th>claim</th>\n",
       "    </tr>\n",
       "  </thead>\n",
       "  <tbody>\n",
       "    <tr>\n",
       "      <th>0</th>\n",
       "      <td>0</td>\n",
       "      <td>1</td>\n",
       "      <td>39.0</td>\n",
       "      <td>male</td>\n",
       "      <td>23.2</td>\n",
       "      <td>91</td>\n",
       "      <td>Yes</td>\n",
       "      <td>0</td>\n",
       "      <td>No</td>\n",
       "      <td>southeast</td>\n",
       "      <td>1121.87</td>\n",
       "    </tr>\n",
       "    <tr>\n",
       "      <th>1</th>\n",
       "      <td>1</td>\n",
       "      <td>2</td>\n",
       "      <td>24.0</td>\n",
       "      <td>male</td>\n",
       "      <td>30.1</td>\n",
       "      <td>87</td>\n",
       "      <td>No</td>\n",
       "      <td>0</td>\n",
       "      <td>No</td>\n",
       "      <td>southeast</td>\n",
       "      <td>1131.51</td>\n",
       "    </tr>\n",
       "    <tr>\n",
       "      <th>2</th>\n",
       "      <td>2</td>\n",
       "      <td>3</td>\n",
       "      <td>NaN</td>\n",
       "      <td>male</td>\n",
       "      <td>33.3</td>\n",
       "      <td>82</td>\n",
       "      <td>Yes</td>\n",
       "      <td>0</td>\n",
       "      <td>No</td>\n",
       "      <td>southeast</td>\n",
       "      <td>1135.94</td>\n",
       "    </tr>\n",
       "    <tr>\n",
       "      <th>3</th>\n",
       "      <td>3</td>\n",
       "      <td>4</td>\n",
       "      <td>NaN</td>\n",
       "      <td>male</td>\n",
       "      <td>33.7</td>\n",
       "      <td>80</td>\n",
       "      <td>No</td>\n",
       "      <td>0</td>\n",
       "      <td>No</td>\n",
       "      <td>northwest</td>\n",
       "      <td>1136.40</td>\n",
       "    </tr>\n",
       "    <tr>\n",
       "      <th>4</th>\n",
       "      <td>4</td>\n",
       "      <td>5</td>\n",
       "      <td>NaN</td>\n",
       "      <td>male</td>\n",
       "      <td>34.1</td>\n",
       "      <td>100</td>\n",
       "      <td>No</td>\n",
       "      <td>0</td>\n",
       "      <td>No</td>\n",
       "      <td>northwest</td>\n",
       "      <td>1137.01</td>\n",
       "    </tr>\n",
       "    <tr>\n",
       "      <th>...</th>\n",
       "      <td>...</td>\n",
       "      <td>...</td>\n",
       "      <td>...</td>\n",
       "      <td>...</td>\n",
       "      <td>...</td>\n",
       "      <td>...</td>\n",
       "      <td>...</td>\n",
       "      <td>...</td>\n",
       "      <td>...</td>\n",
       "      <td>...</td>\n",
       "      <td>...</td>\n",
       "    </tr>\n",
       "    <tr>\n",
       "      <th>1335</th>\n",
       "      <td>1335</td>\n",
       "      <td>1336</td>\n",
       "      <td>44.0</td>\n",
       "      <td>female</td>\n",
       "      <td>35.5</td>\n",
       "      <td>88</td>\n",
       "      <td>Yes</td>\n",
       "      <td>0</td>\n",
       "      <td>Yes</td>\n",
       "      <td>northwest</td>\n",
       "      <td>55135.40</td>\n",
       "    </tr>\n",
       "    <tr>\n",
       "      <th>1336</th>\n",
       "      <td>1336</td>\n",
       "      <td>1337</td>\n",
       "      <td>59.0</td>\n",
       "      <td>female</td>\n",
       "      <td>38.1</td>\n",
       "      <td>120</td>\n",
       "      <td>No</td>\n",
       "      <td>1</td>\n",
       "      <td>Yes</td>\n",
       "      <td>northeast</td>\n",
       "      <td>58571.07</td>\n",
       "    </tr>\n",
       "    <tr>\n",
       "      <th>1337</th>\n",
       "      <td>1337</td>\n",
       "      <td>1338</td>\n",
       "      <td>30.0</td>\n",
       "      <td>male</td>\n",
       "      <td>34.5</td>\n",
       "      <td>91</td>\n",
       "      <td>Yes</td>\n",
       "      <td>3</td>\n",
       "      <td>Yes</td>\n",
       "      <td>northwest</td>\n",
       "      <td>60021.40</td>\n",
       "    </tr>\n",
       "    <tr>\n",
       "      <th>1338</th>\n",
       "      <td>1338</td>\n",
       "      <td>1339</td>\n",
       "      <td>37.0</td>\n",
       "      <td>male</td>\n",
       "      <td>30.4</td>\n",
       "      <td>106</td>\n",
       "      <td>No</td>\n",
       "      <td>0</td>\n",
       "      <td>Yes</td>\n",
       "      <td>southeast</td>\n",
       "      <td>62592.87</td>\n",
       "    </tr>\n",
       "    <tr>\n",
       "      <th>1339</th>\n",
       "      <td>1339</td>\n",
       "      <td>1340</td>\n",
       "      <td>30.0</td>\n",
       "      <td>female</td>\n",
       "      <td>47.4</td>\n",
       "      <td>101</td>\n",
       "      <td>No</td>\n",
       "      <td>0</td>\n",
       "      <td>Yes</td>\n",
       "      <td>southeast</td>\n",
       "      <td>63770.43</td>\n",
       "    </tr>\n",
       "  </tbody>\n",
       "</table>\n",
       "<p>1340 rows × 11 columns</p>\n",
       "</div>"
      ],
      "text/plain": [
       "      index  PatientID   age  gender   bmi  bloodpressure diabetic  children  \\\n",
       "0         0          1  39.0    male  23.2             91      Yes         0   \n",
       "1         1          2  24.0    male  30.1             87       No         0   \n",
       "2         2          3   NaN    male  33.3             82      Yes         0   \n",
       "3         3          4   NaN    male  33.7             80       No         0   \n",
       "4         4          5   NaN    male  34.1            100       No         0   \n",
       "...     ...        ...   ...     ...   ...            ...      ...       ...   \n",
       "1335   1335       1336  44.0  female  35.5             88      Yes         0   \n",
       "1336   1336       1337  59.0  female  38.1            120       No         1   \n",
       "1337   1337       1338  30.0    male  34.5             91      Yes         3   \n",
       "1338   1338       1339  37.0    male  30.4            106       No         0   \n",
       "1339   1339       1340  30.0  female  47.4            101       No         0   \n",
       "\n",
       "     smoker     region     claim  \n",
       "0        No  southeast   1121.87  \n",
       "1        No  southeast   1131.51  \n",
       "2        No  southeast   1135.94  \n",
       "3        No  northwest   1136.40  \n",
       "4        No  northwest   1137.01  \n",
       "...     ...        ...       ...  \n",
       "1335    Yes  northwest  55135.40  \n",
       "1336    Yes  northeast  58571.07  \n",
       "1337    Yes  northwest  60021.40  \n",
       "1338    Yes  southeast  62592.87  \n",
       "1339    Yes  southeast  63770.43  \n",
       "\n",
       "[1340 rows x 11 columns]"
      ]
     },
     "execution_count": 6,
     "metadata": {},
     "output_type": "execute_result"
    }
   ],
   "source": [
    "#df_train = pd.read_csv('/kaggle/input/insurance-claim-analysis-demographic-and-health/insurance_data.csv')\n",
    "df_train = pd.read_csv('insurance_data.csv')\n",
    "df_train"
   ]
  },
  {
   "cell_type": "markdown",
   "metadata": {
    "id": "fK0ke4sQmOjj"
   },
   "source": [
    "# About each feature\n",
    "\n",
    "PatientID (Index): Category - Identifier, Type - Categorical\n",
    "\n",
    "An identifier for each row.\n",
    "age: Category - Demographic, Type - Numerical\n",
    "\n",
    "The age of the patient.\n",
    "gender: Category - Demographic, Type - Categorical\n",
    "\n",
    "The gender of the patient (e.g., male).\n",
    "bmi: Category - Health, Type - Numerical\n",
    "\n",
    "The Body Mass Index (BMI) of the patient.\n",
    "bloodpressure: Category - Health, Type - Numerical\n",
    "\n",
    "The blood pressure of the patient.\n",
    "diabetic: Category - Health, Type - Categorical\n",
    "\n",
    "Indicates whether the patient is diabetic (e.g., Yes or No).\n",
    "children: Category - Demographic, Type - Numerical\n",
    "\n",
    "The number of children the patient has.\n",
    "smoker: Category - Lifestyle, Type - Categorical\n",
    "\n",
    "Indicates whether the patient is a smoker (e.g., Yes or No).\n",
    "region: Category - Demographic, Type - Categorical\n",
    "\n",
    "The region where the patient is located (e.g., southeast or northwest).\n",
    "claim: Category - Financial, Type - Numerical\n",
    "\n",
    "The insurance claim amount associated with the patient.\n"
   ]
  },
  {
   "cell_type": "markdown",
   "metadata": {
    "id": "mE4W1ErmUGTv"
   },
   "source": [
    "# Data cleaning"
   ]
  },
  {
   "cell_type": "code",
   "execution_count": 7,
   "metadata": {
    "execution": {
     "iopub.execute_input": "2023-10-11T21:49:25.841706Z",
     "iopub.status.busy": "2023-10-11T21:49:25.841388Z",
     "iopub.status.idle": "2023-10-11T21:49:25.853975Z",
     "shell.execute_reply": "2023-10-11T21:49:25.85253Z",
     "shell.execute_reply.started": "2023-10-11T21:49:25.841681Z"
    },
    "id": "RXZtWW3mT5VI",
    "outputId": "505bb301-ab71-4905-fd6a-c405d3b842a1"
   },
   "outputs": [
    {
     "name": "stdout",
     "output_type": "stream",
     "text": [
      "               Total   Percent\n",
      "index              0  0.000000\n",
      "PatientID          0  0.000000\n",
      "age                5  0.373134\n",
      "gender             0  0.000000\n",
      "bmi                0  0.000000\n",
      "bloodpressure      0  0.000000\n",
      "diabetic           0  0.000000\n",
      "children           0  0.000000\n",
      "smoker             0  0.000000\n",
      "region             3  0.223881\n",
      "claim              0  0.000000\n"
     ]
    }
   ],
   "source": [
    "total = df_train.isnull().sum()\n",
    "percent = (total / len(df_train)) * 100\n",
    "missing_values = pd.concat([total, percent], axis=1, keys=['Total', 'Percent'])\n",
    "print(missing_values)\n",
    "df_train = df_train.drop('index',axis=1)"
   ]
  },
  {
   "cell_type": "code",
   "execution_count": 8,
   "metadata": {
    "execution": {
     "iopub.execute_input": "2023-10-11T21:49:25.855633Z",
     "iopub.status.busy": "2023-10-11T21:49:25.855253Z",
     "iopub.status.idle": "2023-10-11T21:49:25.868994Z",
     "shell.execute_reply": "2023-10-11T21:49:25.867606Z",
     "shell.execute_reply.started": "2023-10-11T21:49:25.855603Z"
    },
    "id": "lfW7vyEzDHpW",
    "outputId": "52f9031e-0d5e-4d7f-ec59-92432e52f455"
   },
   "outputs": [
    {
     "name": "stdout",
     "output_type": "stream",
     "text": [
      "Missing values in 'age' column after filling: 0\n"
     ]
    }
   ],
   "source": [
    "mean_age = np.mean(df_train['age'])\n",
    "# Fill null values in the 'age' column with the mean age\n",
    "df_train['age'].fillna(mean_age, inplace=True)\n",
    "\n",
    "# Check if there are any missing values in the 'age' column after filling\n",
    "missing_values = df_train['age'].isnull().sum()\n",
    "print(\"Missing values in 'age' column after filling:\", missing_values)\n"
   ]
  },
  {
   "cell_type": "code",
   "execution_count": 9,
   "metadata": {
    "execution": {
     "iopub.execute_input": "2023-10-11T21:49:25.872195Z",
     "iopub.status.busy": "2023-10-11T21:49:25.871857Z",
     "iopub.status.idle": "2023-10-11T21:49:25.890667Z",
     "shell.execute_reply": "2023-10-11T21:49:25.889443Z",
     "shell.execute_reply.started": "2023-10-11T21:49:25.872167Z"
    },
    "id": "w3BTdsE2FSGs",
    "outputId": "ecf8754e-d61c-4407-890e-d63a7986a140"
   },
   "outputs": [
    {
     "name": "stdout",
     "output_type": "stream",
     "text": [
      "Missing values in 'region' column after filling: 0\n"
     ]
    }
   ],
   "source": [
    "df_train.dropna(subset=['region'],inplace=True)\n",
    "\n",
    "# Check if there are any missing values in the 'region' column after droping\n",
    "missing_values = df_train['region'].isnull().sum()\n",
    "print(\"Missing values in 'region' column after filling:\", missing_values)"
   ]
  },
  {
   "cell_type": "markdown",
   "metadata": {
    "id": "q2QAmsBBWGHu"
   },
   "source": []
  },
  {
   "cell_type": "code",
   "execution_count": 10,
   "metadata": {
    "execution": {
     "iopub.execute_input": "2023-10-11T21:49:25.893743Z",
     "iopub.status.busy": "2023-10-11T21:49:25.892444Z",
     "iopub.status.idle": "2023-10-11T21:49:25.932275Z",
     "shell.execute_reply": "2023-10-11T21:49:25.930793Z",
     "shell.execute_reply.started": "2023-10-11T21:49:25.893698Z"
    },
    "id": "CkE42HXyUWWO",
    "outputId": "ec59dde1-43dd-4573-dac8-b7ea80967f55"
   },
   "outputs": [
    {
     "data": {
      "text/html": [
       "<div>\n",
       "<style scoped>\n",
       "    .dataframe tbody tr th:only-of-type {\n",
       "        vertical-align: middle;\n",
       "    }\n",
       "\n",
       "    .dataframe tbody tr th {\n",
       "        vertical-align: top;\n",
       "    }\n",
       "\n",
       "    .dataframe thead th {\n",
       "        text-align: right;\n",
       "    }\n",
       "</style>\n",
       "<table border=\"1\" class=\"dataframe\">\n",
       "  <thead>\n",
       "    <tr style=\"text-align: right;\">\n",
       "      <th></th>\n",
       "      <th>PatientID</th>\n",
       "      <th>age</th>\n",
       "      <th>bmi</th>\n",
       "      <th>bloodpressure</th>\n",
       "      <th>children</th>\n",
       "      <th>claim</th>\n",
       "    </tr>\n",
       "  </thead>\n",
       "  <tbody>\n",
       "    <tr>\n",
       "      <th>count</th>\n",
       "      <td>1337.000000</td>\n",
       "      <td>1337.000000</td>\n",
       "      <td>1337.000000</td>\n",
       "      <td>1337.000000</td>\n",
       "      <td>1337.000000</td>\n",
       "      <td>1337.000000</td>\n",
       "    </tr>\n",
       "    <tr>\n",
       "      <th>mean</th>\n",
       "      <td>671.970830</td>\n",
       "      <td>38.086308</td>\n",
       "      <td>30.672924</td>\n",
       "      <td>94.169035</td>\n",
       "      <td>1.095737</td>\n",
       "      <td>13279.668295</td>\n",
       "    </tr>\n",
       "    <tr>\n",
       "      <th>std</th>\n",
       "      <td>386.153126</td>\n",
       "      <td>11.091990</td>\n",
       "      <td>6.112768</td>\n",
       "      <td>11.438582</td>\n",
       "      <td>1.205571</td>\n",
       "      <td>12109.827623</td>\n",
       "    </tr>\n",
       "    <tr>\n",
       "      <th>min</th>\n",
       "      <td>1.000000</td>\n",
       "      <td>18.000000</td>\n",
       "      <td>16.000000</td>\n",
       "      <td>80.000000</td>\n",
       "      <td>0.000000</td>\n",
       "      <td>1121.870000</td>\n",
       "    </tr>\n",
       "    <tr>\n",
       "      <th>25%</th>\n",
       "      <td>338.000000</td>\n",
       "      <td>29.000000</td>\n",
       "      <td>26.200000</td>\n",
       "      <td>86.000000</td>\n",
       "      <td>0.000000</td>\n",
       "      <td>4746.340000</td>\n",
       "    </tr>\n",
       "    <tr>\n",
       "      <th>50%</th>\n",
       "      <td>672.000000</td>\n",
       "      <td>38.000000</td>\n",
       "      <td>30.400000</td>\n",
       "      <td>92.000000</td>\n",
       "      <td>1.000000</td>\n",
       "      <td>9386.160000</td>\n",
       "    </tr>\n",
       "    <tr>\n",
       "      <th>75%</th>\n",
       "      <td>1006.000000</td>\n",
       "      <td>47.000000</td>\n",
       "      <td>34.700000</td>\n",
       "      <td>99.000000</td>\n",
       "      <td>2.000000</td>\n",
       "      <td>16657.720000</td>\n",
       "    </tr>\n",
       "    <tr>\n",
       "      <th>max</th>\n",
       "      <td>1340.000000</td>\n",
       "      <td>60.000000</td>\n",
       "      <td>53.100000</td>\n",
       "      <td>140.000000</td>\n",
       "      <td>5.000000</td>\n",
       "      <td>63770.430000</td>\n",
       "    </tr>\n",
       "  </tbody>\n",
       "</table>\n",
       "</div>"
      ],
      "text/plain": [
       "         PatientID          age          bmi  bloodpressure     children  \\\n",
       "count  1337.000000  1337.000000  1337.000000    1337.000000  1337.000000   \n",
       "mean    671.970830    38.086308    30.672924      94.169035     1.095737   \n",
       "std     386.153126    11.091990     6.112768      11.438582     1.205571   \n",
       "min       1.000000    18.000000    16.000000      80.000000     0.000000   \n",
       "25%     338.000000    29.000000    26.200000      86.000000     0.000000   \n",
       "50%     672.000000    38.000000    30.400000      92.000000     1.000000   \n",
       "75%    1006.000000    47.000000    34.700000      99.000000     2.000000   \n",
       "max    1340.000000    60.000000    53.100000     140.000000     5.000000   \n",
       "\n",
       "              claim  \n",
       "count   1337.000000  \n",
       "mean   13279.668295  \n",
       "std    12109.827623  \n",
       "min     1121.870000  \n",
       "25%     4746.340000  \n",
       "50%     9386.160000  \n",
       "75%    16657.720000  \n",
       "max    63770.430000  "
      ]
     },
     "execution_count": 10,
     "metadata": {},
     "output_type": "execute_result"
    }
   ],
   "source": [
    "df_train.describe()"
   ]
  },
  {
   "cell_type": "markdown",
   "metadata": {
    "id": "KACsLCBLWLfo"
   },
   "source": [
    "# Column types"
   ]
  },
  {
   "cell_type": "markdown",
   "metadata": {
    "id": "RkGBxvmgWTie"
   },
   "source": [
    "## Numerical : Patient ID, age,bmi,bloodpressure,children,claim\n",
    "\n",
    "## Categorical : gender,diabetic,smoker,region\n"
   ]
  },
  {
   "cell_type": "code",
   "execution_count": 11,
   "metadata": {
    "execution": {
     "iopub.execute_input": "2023-10-11T21:49:25.934642Z",
     "iopub.status.busy": "2023-10-11T21:49:25.934081Z",
     "iopub.status.idle": "2023-10-11T21:49:25.952948Z",
     "shell.execute_reply": "2023-10-11T21:49:25.951441Z",
     "shell.execute_reply.started": "2023-10-11T21:49:25.934602Z"
    },
    "id": "FblG1XpZV3K9",
    "outputId": "25afef99-1935-4983-9583-84fcac521fc1"
   },
   "outputs": [
    {
     "data": {
      "text/html": [
       "<div>\n",
       "<style scoped>\n",
       "    .dataframe tbody tr th:only-of-type {\n",
       "        vertical-align: middle;\n",
       "    }\n",
       "\n",
       "    .dataframe tbody tr th {\n",
       "        vertical-align: top;\n",
       "    }\n",
       "\n",
       "    .dataframe thead th {\n",
       "        text-align: right;\n",
       "    }\n",
       "</style>\n",
       "<table border=\"1\" class=\"dataframe\">\n",
       "  <thead>\n",
       "    <tr style=\"text-align: right;\">\n",
       "      <th></th>\n",
       "      <th>PatientID</th>\n",
       "      <th>age</th>\n",
       "      <th>gender</th>\n",
       "      <th>bmi</th>\n",
       "      <th>bloodpressure</th>\n",
       "      <th>diabetic</th>\n",
       "      <th>children</th>\n",
       "      <th>smoker</th>\n",
       "      <th>region</th>\n",
       "      <th>claim</th>\n",
       "    </tr>\n",
       "  </thead>\n",
       "  <tbody>\n",
       "    <tr>\n",
       "      <th>361</th>\n",
       "      <td>362</td>\n",
       "      <td>27.0</td>\n",
       "      <td>female</td>\n",
       "      <td>26.7</td>\n",
       "      <td>99</td>\n",
       "      <td>No</td>\n",
       "      <td>1</td>\n",
       "      <td>No</td>\n",
       "      <td>southeast</td>\n",
       "      <td>5002.78</td>\n",
       "    </tr>\n",
       "    <tr>\n",
       "      <th>811</th>\n",
       "      <td>812</td>\n",
       "      <td>59.0</td>\n",
       "      <td>female</td>\n",
       "      <td>32.3</td>\n",
       "      <td>97</td>\n",
       "      <td>Yes</td>\n",
       "      <td>1</td>\n",
       "      <td>No</td>\n",
       "      <td>northeast</td>\n",
       "      <td>11512.41</td>\n",
       "    </tr>\n",
       "    <tr>\n",
       "      <th>732</th>\n",
       "      <td>733</td>\n",
       "      <td>53.0</td>\n",
       "      <td>female</td>\n",
       "      <td>31.2</td>\n",
       "      <td>86</td>\n",
       "      <td>Yes</td>\n",
       "      <td>0</td>\n",
       "      <td>No</td>\n",
       "      <td>southeast</td>\n",
       "      <td>10338.93</td>\n",
       "    </tr>\n",
       "    <tr>\n",
       "      <th>59</th>\n",
       "      <td>60</td>\n",
       "      <td>47.0</td>\n",
       "      <td>male</td>\n",
       "      <td>33.8</td>\n",
       "      <td>90</td>\n",
       "      <td>No</td>\n",
       "      <td>1</td>\n",
       "      <td>No</td>\n",
       "      <td>southeast</td>\n",
       "      <td>1725.55</td>\n",
       "    </tr>\n",
       "    <tr>\n",
       "      <th>308</th>\n",
       "      <td>309</td>\n",
       "      <td>41.0</td>\n",
       "      <td>male</td>\n",
       "      <td>26.9</td>\n",
       "      <td>90</td>\n",
       "      <td>No</td>\n",
       "      <td>1</td>\n",
       "      <td>No</td>\n",
       "      <td>southeast</td>\n",
       "      <td>4441.21</td>\n",
       "    </tr>\n",
       "  </tbody>\n",
       "</table>\n",
       "</div>"
      ],
      "text/plain": [
       "     PatientID   age  gender   bmi  bloodpressure diabetic  children smoker  \\\n",
       "361        362  27.0  female  26.7             99       No         1     No   \n",
       "811        812  59.0  female  32.3             97      Yes         1     No   \n",
       "732        733  53.0  female  31.2             86      Yes         0     No   \n",
       "59          60  47.0    male  33.8             90       No         1     No   \n",
       "308        309  41.0    male  26.9             90       No         1     No   \n",
       "\n",
       "        region     claim  \n",
       "361  southeast   5002.78  \n",
       "811  northeast  11512.41  \n",
       "732  southeast  10338.93  \n",
       "59   southeast   1725.55  \n",
       "308  southeast   4441.21  "
      ]
     },
     "execution_count": 11,
     "metadata": {},
     "output_type": "execute_result"
    }
   ],
   "source": [
    "df_train.sample(5)"
   ]
  },
  {
   "cell_type": "code",
   "execution_count": null,
   "metadata": {
    "id": "bfaEdUrTUODL"
   },
   "outputs": [],
   "source": []
  },
  {
   "cell_type": "markdown",
   "metadata": {
    "id": "EWpQE0guXdqX"
   },
   "source": [
    "# Univariate analysis"
   ]
  },
  {
   "cell_type": "markdown",
   "metadata": {
    "id": "fjwCOGwNYpWe"
   },
   "source": [
    "### Age"
   ]
  },
  {
   "cell_type": "markdown",
   "metadata": {
    "id": "kR_2UaiKceY1"
   },
   "source": [
    "Conclusion:\n",
    "\n",
    "-> Age has 5 missing values\n",
    "\n",
    "-> data has two peaks and skewness of  0.11 so data is distriubuted bimodaly which means two age groups have claimed insurance most so one new column can be added to identify these age groups\n",
    "\n",
    "-> there are no outliers\n",
    "\n",
    "-> max age is recorded 60 and mean age is 38 which shows very old people have not been insured"
   ]
  },
  {
   "cell_type": "code",
   "execution_count": 12,
   "metadata": {
    "execution": {
     "iopub.execute_input": "2023-10-11T21:49:25.955581Z",
     "iopub.status.busy": "2023-10-11T21:49:25.954854Z",
     "iopub.status.idle": "2023-10-11T21:49:25.97254Z",
     "shell.execute_reply": "2023-10-11T21:49:25.970886Z",
     "shell.execute_reply.started": "2023-10-11T21:49:25.955539Z"
    },
    "id": "BysGBF_aV-cE",
    "outputId": "10fa3ae8-86de-4473-b21c-bf42919deade"
   },
   "outputs": [
    {
     "data": {
      "text/plain": [
       "count    1337.000000\n",
       "mean       38.086308\n",
       "std        11.091990\n",
       "min        18.000000\n",
       "25%        29.000000\n",
       "50%        38.000000\n",
       "75%        47.000000\n",
       "max        60.000000\n",
       "Name: age, dtype: float64"
      ]
     },
     "execution_count": 12,
     "metadata": {},
     "output_type": "execute_result"
    }
   ],
   "source": [
    "df_train['age'].describe()"
   ]
  },
  {
   "cell_type": "code",
   "execution_count": 13,
   "metadata": {
    "execution": {
     "iopub.execute_input": "2023-10-11T21:49:25.974683Z",
     "iopub.status.busy": "2023-10-11T21:49:25.974044Z",
     "iopub.status.idle": "2023-10-11T21:49:26.451238Z",
     "shell.execute_reply": "2023-10-11T21:49:26.450069Z",
     "shell.execute_reply.started": "2023-10-11T21:49:25.974647Z"
    },
    "id": "DJOxjQ6oYv0j",
    "outputId": "f0891784-7c87-4adf-912d-a642a54d8b1f"
   },
   "outputs": [
    {
     "data": {
      "text/plain": [
       "<seaborn.axisgrid.FacetGrid at 0x18db3f5c820>"
      ]
     },
     "execution_count": 13,
     "metadata": {},
     "output_type": "execute_result"
    },
    {
     "data": {
      "image/png": "[encoded data removed]",
      "text/plain": [
       "<Figure size 360x360 with 1 Axes>"
      ]
     },
     "metadata": {
      "needs_background": "light"
     },
     "output_type": "display_data"
    }
   ],
   "source": [
    "sns.displot(df_train['age'],kde=True)"
   ]
  },
  {
   "cell_type": "code",
   "execution_count": 14,
   "metadata": {
    "execution": {
     "iopub.execute_input": "2023-10-11T21:49:26.453033Z",
     "iopub.status.busy": "2023-10-11T21:49:26.452705Z",
     "iopub.status.idle": "2023-10-11T21:49:26.72889Z",
     "shell.execute_reply": "2023-10-11T21:49:26.727705Z",
     "shell.execute_reply.started": "2023-10-11T21:49:26.453004Z"
    },
    "id": "YK1hmf7FY5B8",
    "outputId": "cf7359d1-a39a-489f-e6a6-66d5dd6be69f"
   },
   "outputs": [
    {
     "data": {
      "text/plain": [
       "<AxesSubplot: ylabel='Density'>"
      ]
     },
     "execution_count": 14,
     "metadata": {},
     "output_type": "execute_result"
    },
    {
     "data": {
      "image/png": "[encoded data removed]",
      "text/plain": [
       "<Figure size 432x288 with 1 Axes>"
      ]
     },
     "metadata": {
      "needs_background": "light"
     },
     "output_type": "display_data"
    }
   ],
   "source": [
    "df_train['age'].plot(kind='kde')"
   ]
  },
  {
   "cell_type": "code",
   "execution_count": 15,
   "metadata": {
    "execution": {
     "iopub.execute_input": "2023-10-11T21:49:26.732679Z",
     "iopub.status.busy": "2023-10-11T21:49:26.732177Z",
     "iopub.status.idle": "2023-10-11T21:49:26.739043Z",
     "shell.execute_reply": "2023-10-11T21:49:26.737775Z",
     "shell.execute_reply.started": "2023-10-11T21:49:26.732649Z"
    },
    "id": "o6mvytUcZXNU",
    "outputId": "1acd597f-3cbb-4f47-bdc4-5f2fb08975eb"
   },
   "outputs": [
    {
     "name": "stdout",
     "output_type": "stream",
     "text": [
      "skewness in age is  0.11194591001235128\n"
     ]
    }
   ],
   "source": [
    "print('skewness in age is ' ,df_train['age'].skew())"
   ]
  },
  {
   "cell_type": "code",
   "execution_count": 16,
   "metadata": {
    "execution": {
     "iopub.execute_input": "2023-10-11T21:49:26.742538Z",
     "iopub.status.busy": "2023-10-11T21:49:26.741184Z",
     "iopub.status.idle": "2023-10-11T21:49:26.959382Z",
     "shell.execute_reply": "2023-10-11T21:49:26.958221Z",
     "shell.execute_reply.started": "2023-10-11T21:49:26.742402Z"
    },
    "id": "0STNGPNlZi17",
    "outputId": "4760cd36-4861-4acf-ec54-177761989305"
   },
   "outputs": [
    {
     "data": {
      "text/plain": [
       "<AxesSubplot: >"
      ]
     },
     "execution_count": 16,
     "metadata": {},
     "output_type": "execute_result"
    },
    {
     "data": {
      "image/png": "[encoded data removed]",
      "text/plain": [
       "<Figure size 432x288 with 1 Axes>"
      ]
     },
     "metadata": {
      "needs_background": "light"
     },
     "output_type": "display_data"
    }
   ],
   "source": [
    "df_train['age'].plot(kind='box')"
   ]
  },
  {
   "cell_type": "markdown",
   "metadata": {
    "id": "8NEQfBlrb5u5"
   },
   "source": [
    "### Feature engineering on age:\n",
    "#### Categorizing age:"
   ]
  },
  {
   "cell_type": "code",
   "execution_count": 17,
   "metadata": {
    "execution": {
     "iopub.execute_input": "2023-10-11T21:49:26.962588Z",
     "iopub.status.busy": "2023-10-11T21:49:26.961637Z",
     "iopub.status.idle": "2023-10-11T21:49:26.970174Z",
     "shell.execute_reply": "2023-10-11T21:49:26.969217Z",
     "shell.execute_reply.started": "2023-10-11T21:49:26.962539Z"
    },
    "id": "3pd1fxWqb4pq"
   },
   "outputs": [],
   "source": [
    "def age_categorizer(age):\n",
    "  if 18<age<24:\n",
    "    return \"Young adult\"\n",
    "  if 24<=age<=39:\n",
    "    return \"Adults\"\n",
    "  if 40<=age:\n",
    "    return \"Senior adults\"\n",
    "df_train['age_category']=df_train['age'].apply(age_categorizer)"
   ]
  },
  {
   "cell_type": "markdown",
   "metadata": {
    "id": "s8x9phERrmjs"
   },
   "source": [
    "analyzing age categories:"
   ]
  },
  {
   "cell_type": "markdown",
   "metadata": {
    "id": "x9bpsjLfsMVX"
   },
   "source": [
    "finding:                                                                               -> 46% persons are senior adults age above 40 and 44.2% persons are adults which is causing two peaks in data\n"
   ]
  },
  {
   "cell_type": "code",
   "execution_count": 18,
   "metadata": {
    "execution": {
     "iopub.execute_input": "2023-10-11T21:49:26.972864Z",
     "iopub.status.busy": "2023-10-11T21:49:26.971626Z",
     "iopub.status.idle": "2023-10-11T21:49:27.106817Z",
     "shell.execute_reply": "2023-10-11T21:49:27.105565Z",
     "shell.execute_reply.started": "2023-10-11T21:49:26.97282Z"
    },
    "id": "UJZO1qmwrl6s",
    "outputId": "983e1ecf-c668-4685-a5ab-f99baf58efdc"
   },
   "outputs": [
    {
     "data": {
      "image/png": "[encoded data removed]",
      "text/plain": [
       "<Figure size 432x288 with 1 Axes>"
      ]
     },
     "metadata": {},
     "output_type": "display_data"
    }
   ],
   "source": [
    "age_count=df_train['age_category'].value_counts()\n",
    "plt.pie(age_count,labels=age_count.index,autopct='%1.1f%%')\n",
    "plt.show()"
   ]
  },
  {
   "cell_type": "code",
   "execution_count": null,
   "metadata": {
    "id": "d2jxu_vXDA_v"
   },
   "outputs": [],
   "source": []
  },
  {
   "cell_type": "markdown",
   "metadata": {
    "id": "QS9ef3PrAmdP"
   },
   "source": [
    "### bmi"
   ]
  },
  {
   "cell_type": "markdown",
   "metadata": {
    "id": "1uWF7YaBDIzb"
   },
   "source": [
    "Conclusion :\n",
    "\n",
    "->distribution is perfectly normal\n",
    "\n",
    "->  skewness is very minimal\n",
    "\n",
    "-> boxplot indicated some serious outliers ,, bmi above 50 shows very obese and its very fatal"
   ]
  },
  {
   "cell_type": "code",
   "execution_count": 19,
   "metadata": {
    "execution": {
     "iopub.execute_input": "2023-10-11T21:49:27.109609Z",
     "iopub.status.busy": "2023-10-11T21:49:27.108497Z",
     "iopub.status.idle": "2023-10-11T21:49:27.433652Z",
     "shell.execute_reply": "2023-10-11T21:49:27.432891Z",
     "shell.execute_reply.started": "2023-10-11T21:49:27.109561Z"
    },
    "id": "dpARxQgoApf4",
    "outputId": "10ae2e6c-256d-4322-b440-0d0c3e9a4f74"
   },
   "outputs": [
    {
     "name": "stderr",
     "output_type": "stream",
     "text": [
      "C:\\Users\\LENOVO\\AppData\\Local\\Temp\\ipykernel_15848\\2163789744.py:1: UserWarning: \n",
      "\n",
      "`distplot` is a deprecated function and will be removed in seaborn v0.14.0.\n",
      "\n",
      "Please adapt your code to use either `displot` (a figure-level function with\n",
      "similar flexibility) or `histplot` (an axes-level function for histograms).\n",
      "\n",
      "For a guide to updating your code to use the new functions, please see\n",
      "https://gist.github.com/mwaskom/de44147ed2974457ad6372750bbe5751\n",
      "\n",
      "  sns.distplot(df_train['bmi'])\n"
     ]
    },
    {
     "data": {
      "text/plain": [
       "<AxesSubplot: xlabel='bmi', ylabel='Density'>"
      ]
     },
     "execution_count": 19,
     "metadata": {},
     "output_type": "execute_result"
    },
    {
     "data": {
      "image/png": "[encoded data removed]",
      "text/plain": [
       "<Figure size 432x288 with 1 Axes>"
      ]
     },
     "metadata": {
      "needs_background": "light"
     },
     "output_type": "display_data"
    }
   ],
   "source": [
    "sns.distplot(df_train['bmi'])"
   ]
  },
  {
   "cell_type": "markdown",
   "metadata": {
    "id": "64Xu8x6qd0H1"
   },
   "source": []
  },
  {
   "cell_type": "code",
   "execution_count": 20,
   "metadata": {
    "execution": {
     "iopub.execute_input": "2023-10-11T21:49:27.435191Z",
     "iopub.status.busy": "2023-10-11T21:49:27.434784Z",
     "iopub.status.idle": "2023-10-11T21:49:27.445855Z",
     "shell.execute_reply": "2023-10-11T21:49:27.444539Z",
     "shell.execute_reply.started": "2023-10-11T21:49:27.435166Z"
    },
    "id": "ici0CG0Bb3L_",
    "outputId": "20d76922-cbb1-4ab4-eede-7444ec3c15f8"
   },
   "outputs": [
    {
     "data": {
      "text/plain": [
       "count    1337.000000\n",
       "mean       30.672924\n",
       "std         6.112768\n",
       "min        16.000000\n",
       "25%        26.200000\n",
       "50%        30.400000\n",
       "75%        34.700000\n",
       "max        53.100000\n",
       "Name: bmi, dtype: float64"
      ]
     },
     "execution_count": 20,
     "metadata": {},
     "output_type": "execute_result"
    }
   ],
   "source": [
    "df_train['bmi'].describe()"
   ]
  },
  {
   "cell_type": "code",
   "execution_count": 21,
   "metadata": {
    "execution": {
     "iopub.execute_input": "2023-10-11T21:49:27.447908Z",
     "iopub.status.busy": "2023-10-11T21:49:27.447401Z",
     "iopub.status.idle": "2023-10-11T21:49:27.783996Z",
     "shell.execute_reply": "2023-10-11T21:49:27.782614Z",
     "shell.execute_reply.started": "2023-10-11T21:49:27.447873Z"
    },
    "id": "qKfJofY0Bnr_",
    "outputId": "f98044ca-0ae4-48d8-aa02-71372f1a7264"
   },
   "outputs": [
    {
     "data": {
      "text/plain": [
       "<AxesSubplot: ylabel='Density'>"
      ]
     },
     "execution_count": 21,
     "metadata": {},
     "output_type": "execute_result"
    },
    {
     "data": {
      "image/png": "[encoded data removed]",
      "text/plain": [
       "<Figure size 432x288 with 1 Axes>"
      ]
     },
     "metadata": {
      "needs_background": "light"
     },
     "output_type": "display_data"
    }
   ],
   "source": [
    "df_train['bmi'].plot(kind='kde')"
   ]
  },
  {
   "cell_type": "code",
   "execution_count": 22,
   "metadata": {
    "execution": {
     "iopub.execute_input": "2023-10-11T21:49:27.786803Z",
     "iopub.status.busy": "2023-10-11T21:49:27.786292Z",
     "iopub.status.idle": "2023-10-11T21:49:27.795599Z",
     "shell.execute_reply": "2023-10-11T21:49:27.794375Z",
     "shell.execute_reply.started": "2023-10-11T21:49:27.786758Z"
    },
    "id": "oGqBnl5UB1qm",
    "outputId": "e1e60eac-403e-44a6-d592-30b596e2d6b0"
   },
   "outputs": [
    {
     "data": {
      "text/plain": [
       "0.28393685213280595"
      ]
     },
     "execution_count": 22,
     "metadata": {},
     "output_type": "execute_result"
    }
   ],
   "source": [
    "df_train['bmi'].skew()"
   ]
  },
  {
   "cell_type": "code",
   "execution_count": 23,
   "metadata": {
    "execution": {
     "iopub.execute_input": "2023-10-11T21:49:27.797574Z",
     "iopub.status.busy": "2023-10-11T21:49:27.797217Z",
     "iopub.status.idle": "2023-10-11T21:49:28.025199Z",
     "shell.execute_reply": "2023-10-11T21:49:28.023598Z",
     "shell.execute_reply.started": "2023-10-11T21:49:27.797537Z"
    },
    "id": "ezg69sg9B5kE",
    "outputId": "fb47311a-cb9d-48cf-bee9-81a89bceddd6"
   },
   "outputs": [
    {
     "data": {
      "text/plain": [
       "<AxesSubplot: >"
      ]
     },
     "execution_count": 23,
     "metadata": {},
     "output_type": "execute_result"
    },
    {
     "data": {
      "image/png": "[encoded data removed]",
      "text/plain": [
       "<Figure size 432x288 with 1 Axes>"
      ]
     },
     "metadata": {
      "needs_background": "light"
     },
     "output_type": "display_data"
    }
   ],
   "source": [
    "df_train['bmi'].plot(kind='box')"
   ]
  },
  {
   "cell_type": "code",
   "execution_count": 24,
   "metadata": {
    "execution": {
     "iopub.execute_input": "2023-10-11T21:49:28.027824Z",
     "iopub.status.busy": "2023-10-11T21:49:28.027314Z",
     "iopub.status.idle": "2023-10-11T21:49:28.04259Z",
     "shell.execute_reply": "2023-10-11T21:49:28.040992Z",
     "shell.execute_reply.started": "2023-10-11T21:49:28.027781Z"
    },
    "id": "rSuX-x2ECDtE",
    "outputId": "1fb77361-0839-4f59-d4d2-dc5659de3183"
   },
   "outputs": [
    {
     "data": {
      "text/plain": [
       "PatientID        317\n",
       "age              317\n",
       "gender           317\n",
       "bmi              317\n",
       "bloodpressure    317\n",
       "diabetic         317\n",
       "children         317\n",
       "smoker           317\n",
       "region           317\n",
       "claim            317\n",
       "age_category     313\n",
       "dtype: int64"
      ]
     },
     "execution_count": 24,
     "metadata": {},
     "output_type": "execute_result"
    }
   ],
   "source": [
    "df_train[df_train['bmi']>35].count()"
   ]
  },
  {
   "cell_type": "markdown",
   "metadata": {
    "id": "SEvGr3CUexaa"
   },
   "source": [
    "### Feature engineering on bmi (categorizing)"
   ]
  },
  {
   "cell_type": "code",
   "execution_count": 25,
   "metadata": {
    "execution": {
     "iopub.execute_input": "2023-10-11T21:49:28.044738Z",
     "iopub.status.busy": "2023-10-11T21:49:28.044137Z",
     "iopub.status.idle": "2023-10-11T21:49:28.057378Z",
     "shell.execute_reply": "2023-10-11T21:49:28.056031Z",
     "shell.execute_reply.started": "2023-10-11T21:49:28.044705Z"
    },
    "id": "sjAeqtS_e5IB"
   },
   "outputs": [],
   "source": [
    "def bmi_categorizer(bmi):\n",
    "    if bmi < 18.5:\n",
    "        return \"Underweight\"\n",
    "    elif 18.5 <= bmi < 24.9:\n",
    "        return \"Healthy\"\n",
    "    elif 25 <= bmi < 29.9:\n",
    "        return \"Overweight\"\n",
    "    elif bmi >= 30 and bmi < 40:\n",
    "        return \"Obese\"\n",
    "    else:\n",
    "        return \"Very Obese\"\n",
    "\n",
    "# Assuming you have a 'bmi' column in your DataFrame 'df_train'\n",
    "df_train['bmi_category'] = df_train['bmi'].apply(bmi_categorizer)\n"
   ]
  },
  {
   "cell_type": "markdown",
   "metadata": {
    "id": "0PwBX5iFoD1B"
   },
   "source": [
    "### Analysis on bmi category feature"
   ]
  },
  {
   "cell_type": "markdown",
   "metadata": {
    "id": "ROzq2waWql_k"
   },
   "source": [
    "finding:                                                                                          \n",
    "     -> Most of people almost 46% are obese i.e 615 persons                                                        \n",
    "     -> 8.1% i.e 92 person were severely obese causing health problems\n"
   ]
  },
  {
   "cell_type": "code",
   "execution_count": 26,
   "metadata": {
    "execution": {
     "iopub.execute_input": "2023-10-11T21:49:28.059502Z",
     "iopub.status.busy": "2023-10-11T21:49:28.058996Z",
     "iopub.status.idle": "2023-10-11T21:49:28.214335Z",
     "shell.execute_reply": "2023-10-11T21:49:28.212801Z",
     "shell.execute_reply.started": "2023-10-11T21:49:28.059472Z"
    },
    "id": "loZYhKKCoNjx",
    "outputId": "9d0bdaa0-2c97-4dc2-bffa-6450cbac2eff"
   },
   "outputs": [
    {
     "data": {
      "image/png": "[encoded data removed]",
      "text/plain": [
       "<Figure size 432x288 with 1 Axes>"
      ]
     },
     "metadata": {},
     "output_type": "display_data"
    }
   ],
   "source": [
    "#plotting pie chart\n",
    "bmi_count = df_train['bmi_category'].value_counts()\n",
    "plt.pie(bmi_count,labels=bmi_count.index,autopct='%1.1f%%')\n",
    "plt.show()"
   ]
  },
  {
   "cell_type": "code",
   "execution_count": 27,
   "metadata": {
    "execution": {
     "iopub.execute_input": "2023-10-11T21:49:28.218209Z",
     "iopub.status.busy": "2023-10-11T21:49:28.217036Z",
     "iopub.status.idle": "2023-10-11T21:49:28.235956Z",
     "shell.execute_reply": "2023-10-11T21:49:28.234218Z",
     "shell.execute_reply.started": "2023-10-11T21:49:28.218151Z"
    },
    "id": "Ax62HshEprVk",
    "outputId": "85e2f7b8-f388-4cf8-bd4f-177816aa6462"
   },
   "outputs": [
    {
     "data": {
      "text/plain": [
       "PatientID        92\n",
       "age              92\n",
       "gender           92\n",
       "bmi              92\n",
       "bloodpressure    92\n",
       "diabetic         92\n",
       "children         92\n",
       "smoker           92\n",
       "region           92\n",
       "claim            92\n",
       "age_category     90\n",
       "bmi_category     92\n",
       "dtype: int64"
      ]
     },
     "execution_count": 27,
     "metadata": {},
     "output_type": "execute_result"
    }
   ],
   "source": [
    "df_train[df_train['bmi']>40].count()"
   ]
  },
  {
   "cell_type": "code",
   "execution_count": 28,
   "metadata": {
    "execution": {
     "iopub.execute_input": "2023-10-11T21:49:28.240359Z",
     "iopub.status.busy": "2023-10-11T21:49:28.239067Z",
     "iopub.status.idle": "2023-10-11T21:49:28.257961Z",
     "shell.execute_reply": "2023-10-11T21:49:28.256357Z",
     "shell.execute_reply.started": "2023-10-11T21:49:28.2403Z"
    },
    "id": "IBspYIXwqEkc",
    "outputId": "4873b2f5-7a56-43af-827a-9dd38b815766"
   },
   "outputs": [
    {
     "data": {
      "text/plain": [
       "PatientID        220\n",
       "age              220\n",
       "gender           220\n",
       "bmi              220\n",
       "bloodpressure    220\n",
       "diabetic         220\n",
       "children         220\n",
       "smoker           220\n",
       "region           220\n",
       "claim            220\n",
       "age_category     220\n",
       "bmi_category     220\n",
       "dtype: int64"
      ]
     },
     "execution_count": 28,
     "metadata": {},
     "output_type": "execute_result"
    }
   ],
   "source": [
    "df_train[df_train['bmi_category']=='Healthy'].count()"
   ]
  },
  {
   "cell_type": "code",
   "execution_count": 29,
   "metadata": {
    "execution": {
     "iopub.execute_input": "2023-10-11T21:49:28.261977Z",
     "iopub.status.busy": "2023-10-11T21:49:28.260757Z",
     "iopub.status.idle": "2023-10-11T21:49:28.282408Z",
     "shell.execute_reply": "2023-10-11T21:49:28.281263Z",
     "shell.execute_reply.started": "2023-10-11T21:49:28.26192Z"
    },
    "id": "ooJp9Om6qcFw",
    "outputId": "d349755c-4aad-401d-c4b1-d66d6c4367c6"
   },
   "outputs": [
    {
     "data": {
      "text/plain": [
       "PatientID        614\n",
       "age              614\n",
       "gender           614\n",
       "bmi              614\n",
       "bloodpressure    614\n",
       "diabetic         614\n",
       "children         614\n",
       "smoker           614\n",
       "region           614\n",
       "claim            614\n",
       "age_category     607\n",
       "bmi_category     614\n",
       "dtype: int64"
      ]
     },
     "execution_count": 29,
     "metadata": {},
     "output_type": "execute_result"
    }
   ],
   "source": [
    "df_train[df_train['bmi_category']=='Obese'].count()"
   ]
  },
  {
   "cell_type": "markdown",
   "metadata": {
    "id": "qiBKfcffEFwb"
   },
   "source": [
    "### bloodpressure"
   ]
  },
  {
   "cell_type": "markdown",
   "metadata": {
    "id": "u91yLsykGkx4"
   },
   "source": [
    "conclusion:\n",
    "\n",
    "-> data is highly positively skewed with skewness of 1.48\n",
    "\n",
    "-> boxplot shows some serious outliers which is cause of positive skewness\n",
    "\n",
    "-> bp higher than 120 is counted 55 , so 55 persons  due to bp shootup"
   ]
  },
  {
   "cell_type": "code",
   "execution_count": 30,
   "metadata": {
    "execution": {
     "iopub.execute_input": "2023-10-11T21:49:28.284837Z",
     "iopub.status.busy": "2023-10-11T21:49:28.284393Z",
     "iopub.status.idle": "2023-10-11T21:49:28.61375Z",
     "shell.execute_reply": "2023-10-11T21:49:28.612601Z",
     "shell.execute_reply.started": "2023-10-11T21:49:28.2848Z"
    },
    "id": "5JUV5Nq4EEpD",
    "outputId": "46b2240f-86c4-424b-cba3-cf619f0b8c6c"
   },
   "outputs": [
    {
     "name": "stderr",
     "output_type": "stream",
     "text": [
      "C:\\Users\\LENOVO\\AppData\\Local\\Temp\\ipykernel_15848\\2871198053.py:1: UserWarning: \n",
      "\n",
      "`distplot` is a deprecated function and will be removed in seaborn v0.14.0.\n",
      "\n",
      "Please adapt your code to use either `displot` (a figure-level function with\n",
      "similar flexibility) or `histplot` (an axes-level function for histograms).\n",
      "\n",
      "For a guide to updating your code to use the new functions, please see\n",
      "https://gist.github.com/mwaskom/de44147ed2974457ad6372750bbe5751\n",
      "\n",
      "  sns.distplot(df_train['bloodpressure'])\n"
     ]
    },
    {
     "data": {
      "text/plain": [
       "<AxesSubplot: xlabel='bloodpressure', ylabel='Density'>"
      ]
     },
     "execution_count": 30,
     "metadata": {},
     "output_type": "execute_result"
    },
    {
     "data": {
      "image/png": "[encoded data removed]",
      "text/plain": [
       "<Figure size 432x288 with 1 Axes>"
      ]
     },
     "metadata": {
      "needs_background": "light"
     },
     "output_type": "display_data"
    }
   ],
   "source": [
    "sns.distplot(df_train['bloodpressure'])"
   ]
  },
  {
   "cell_type": "code",
   "execution_count": 31,
   "metadata": {
    "execution": {
     "iopub.execute_input": "2023-10-11T21:49:28.62282Z",
     "iopub.status.busy": "2023-10-11T21:49:28.621754Z",
     "iopub.status.idle": "2023-10-11T21:49:28.631635Z",
     "shell.execute_reply": "2023-10-11T21:49:28.630125Z",
     "shell.execute_reply.started": "2023-10-11T21:49:28.622783Z"
    },
    "id": "lmwClsQhDyzK",
    "outputId": "cdb8fa09-8e8e-48f1-d3c1-0a8204ed8321"
   },
   "outputs": [
    {
     "data": {
      "text/plain": [
       "1.4836348354148527"
      ]
     },
     "execution_count": 31,
     "metadata": {},
     "output_type": "execute_result"
    }
   ],
   "source": [
    "df_train['bloodpressure'].skew()"
   ]
  },
  {
   "cell_type": "code",
   "execution_count": 32,
   "metadata": {
    "execution": {
     "iopub.execute_input": "2023-10-11T21:49:28.634283Z",
     "iopub.status.busy": "2023-10-11T21:49:28.6334Z",
     "iopub.status.idle": "2023-10-11T21:49:28.963875Z",
     "shell.execute_reply": "2023-10-11T21:49:28.962647Z",
     "shell.execute_reply.started": "2023-10-11T21:49:28.634237Z"
    },
    "id": "0kQJ7YgvC7rM",
    "outputId": "3a641dac-8140-47b4-c98c-de9cd8bc72c0"
   },
   "outputs": [
    {
     "data": {
      "text/plain": [
       "<AxesSubplot: ylabel='Density'>"
      ]
     },
     "execution_count": 32,
     "metadata": {},
     "output_type": "execute_result"
    },
    {
     "data": {
      "image/png": "[encoded data removed]",
      "text/plain": [
       "<Figure size 432x288 with 1 Axes>"
      ]
     },
     "metadata": {
      "needs_background": "light"
     },
     "output_type": "display_data"
    }
   ],
   "source": [
    "df_train['bloodpressure'].plot(kind='kde')"
   ]
  },
  {
   "cell_type": "code",
   "execution_count": 33,
   "metadata": {
    "execution": {
     "iopub.execute_input": "2023-10-11T21:49:28.966336Z",
     "iopub.status.busy": "2023-10-11T21:49:28.965292Z",
     "iopub.status.idle": "2023-10-11T21:49:29.232022Z",
     "shell.execute_reply": "2023-10-11T21:49:29.230666Z",
     "shell.execute_reply.started": "2023-10-11T21:49:28.966302Z"
    },
    "id": "uKAeTWiCWsR5",
    "outputId": "451c2c2d-2514-487c-93da-c803976f0adb"
   },
   "outputs": [
    {
     "data": {
      "text/plain": [
       "<AxesSubplot: ylabel='Frequency'>"
      ]
     },
     "execution_count": 33,
     "metadata": {},
     "output_type": "execute_result"
    },
    {
     "data": {
      "image/png": "[encoded data removed]",
      "text/plain": [
       "<Figure size 432x288 with 1 Axes>"
      ]
     },
     "metadata": {
      "needs_background": "light"
     },
     "output_type": "display_data"
    }
   ],
   "source": [
    "col=df_train[df_train['bloodpressure']>130]\n",
    "col['bloodpressure'].plot(kind='hist')"
   ]
  },
  {
   "cell_type": "code",
   "execution_count": 34,
   "metadata": {
    "execution": {
     "iopub.execute_input": "2023-10-11T21:49:29.23401Z",
     "iopub.status.busy": "2023-10-11T21:49:29.233602Z",
     "iopub.status.idle": "2023-10-11T21:49:29.24507Z",
     "shell.execute_reply": "2023-10-11T21:49:29.244006Z",
     "shell.execute_reply.started": "2023-10-11T21:49:29.233972Z"
    },
    "id": "voVXcN7rEd-J",
    "outputId": "19c9c5c1-bb30-4cb0-9d56-b0f6722662af"
   },
   "outputs": [
    {
     "data": {
      "text/plain": [
       "count    1337.000000\n",
       "mean       94.169035\n",
       "std        11.438582\n",
       "min        80.000000\n",
       "25%        86.000000\n",
       "50%        92.000000\n",
       "75%        99.000000\n",
       "max       140.000000\n",
       "Name: bloodpressure, dtype: float64"
      ]
     },
     "execution_count": 34,
     "metadata": {},
     "output_type": "execute_result"
    }
   ],
   "source": [
    "df_train['bloodpressure'].describe()"
   ]
  },
  {
   "cell_type": "code",
   "execution_count": 35,
   "metadata": {
    "execution": {
     "iopub.execute_input": "2023-10-11T21:49:29.247177Z",
     "iopub.status.busy": "2023-10-11T21:49:29.246454Z",
     "iopub.status.idle": "2023-10-11T21:49:29.47134Z",
     "shell.execute_reply": "2023-10-11T21:49:29.470082Z",
     "shell.execute_reply.started": "2023-10-11T21:49:29.247139Z"
    },
    "id": "17kzQDr8Et5w",
    "outputId": "a2319ef6-64aa-4c6e-acc5-337730ec737c"
   },
   "outputs": [
    {
     "data": {
      "text/plain": [
       "<AxesSubplot: >"
      ]
     },
     "execution_count": 35,
     "metadata": {},
     "output_type": "execute_result"
    },
    {
     "data": {
      "image/png": "[encoded data removed]",
      "text/plain": [
       "<Figure size 432x288 with 1 Axes>"
      ]
     },
     "metadata": {
      "needs_background": "light"
     },
     "output_type": "display_data"
    }
   ],
   "source": [
    "df_train['bloodpressure'].plot(kind='box')"
   ]
  },
  {
   "cell_type": "code",
   "execution_count": 36,
   "metadata": {
    "execution": {
     "iopub.execute_input": "2023-10-11T21:49:29.473752Z",
     "iopub.status.busy": "2023-10-11T21:49:29.473249Z",
     "iopub.status.idle": "2023-10-11T21:49:29.507651Z",
     "shell.execute_reply": "2023-10-11T21:49:29.506101Z",
     "shell.execute_reply.started": "2023-10-11T21:49:29.473707Z"
    },
    "id": "RsA3ykbaFd91",
    "outputId": "e5582a9a-7969-4fef-89ac-9cd28c8feadd"
   },
   "outputs": [
    {
     "data": {
      "text/html": [
       "<div>\n",
       "<style scoped>\n",
       "    .dataframe tbody tr th:only-of-type {\n",
       "        vertical-align: middle;\n",
       "    }\n",
       "\n",
       "    .dataframe tbody tr th {\n",
       "        vertical-align: top;\n",
       "    }\n",
       "\n",
       "    .dataframe thead th {\n",
       "        text-align: right;\n",
       "    }\n",
       "</style>\n",
       "<table border=\"1\" class=\"dataframe\">\n",
       "  <thead>\n",
       "    <tr style=\"text-align: right;\">\n",
       "      <th></th>\n",
       "      <th>PatientID</th>\n",
       "      <th>age</th>\n",
       "      <th>gender</th>\n",
       "      <th>bmi</th>\n",
       "      <th>bloodpressure</th>\n",
       "      <th>diabetic</th>\n",
       "      <th>children</th>\n",
       "      <th>smoker</th>\n",
       "      <th>region</th>\n",
       "      <th>claim</th>\n",
       "      <th>age_category</th>\n",
       "      <th>bmi_category</th>\n",
       "    </tr>\n",
       "  </thead>\n",
       "  <tbody>\n",
       "    <tr>\n",
       "      <th>0</th>\n",
       "      <td>1</td>\n",
       "      <td>39.000000</td>\n",
       "      <td>male</td>\n",
       "      <td>23.2</td>\n",
       "      <td>91</td>\n",
       "      <td>Yes</td>\n",
       "      <td>0</td>\n",
       "      <td>No</td>\n",
       "      <td>southeast</td>\n",
       "      <td>1121.87</td>\n",
       "      <td>Adults</td>\n",
       "      <td>Healthy</td>\n",
       "    </tr>\n",
       "    <tr>\n",
       "      <th>1</th>\n",
       "      <td>2</td>\n",
       "      <td>24.000000</td>\n",
       "      <td>male</td>\n",
       "      <td>30.1</td>\n",
       "      <td>87</td>\n",
       "      <td>No</td>\n",
       "      <td>0</td>\n",
       "      <td>No</td>\n",
       "      <td>southeast</td>\n",
       "      <td>1131.51</td>\n",
       "      <td>Adults</td>\n",
       "      <td>Obese</td>\n",
       "    </tr>\n",
       "    <tr>\n",
       "      <th>2</th>\n",
       "      <td>3</td>\n",
       "      <td>38.078652</td>\n",
       "      <td>male</td>\n",
       "      <td>33.3</td>\n",
       "      <td>82</td>\n",
       "      <td>Yes</td>\n",
       "      <td>0</td>\n",
       "      <td>No</td>\n",
       "      <td>southeast</td>\n",
       "      <td>1135.94</td>\n",
       "      <td>Adults</td>\n",
       "      <td>Obese</td>\n",
       "    </tr>\n",
       "    <tr>\n",
       "      <th>3</th>\n",
       "      <td>4</td>\n",
       "      <td>38.078652</td>\n",
       "      <td>male</td>\n",
       "      <td>33.7</td>\n",
       "      <td>80</td>\n",
       "      <td>No</td>\n",
       "      <td>0</td>\n",
       "      <td>No</td>\n",
       "      <td>northwest</td>\n",
       "      <td>1136.40</td>\n",
       "      <td>Adults</td>\n",
       "      <td>Obese</td>\n",
       "    </tr>\n",
       "    <tr>\n",
       "      <th>4</th>\n",
       "      <td>5</td>\n",
       "      <td>38.078652</td>\n",
       "      <td>male</td>\n",
       "      <td>34.1</td>\n",
       "      <td>100</td>\n",
       "      <td>No</td>\n",
       "      <td>0</td>\n",
       "      <td>No</td>\n",
       "      <td>northwest</td>\n",
       "      <td>1137.01</td>\n",
       "      <td>Adults</td>\n",
       "      <td>Obese</td>\n",
       "    </tr>\n",
       "    <tr>\n",
       "      <th>...</th>\n",
       "      <td>...</td>\n",
       "      <td>...</td>\n",
       "      <td>...</td>\n",
       "      <td>...</td>\n",
       "      <td>...</td>\n",
       "      <td>...</td>\n",
       "      <td>...</td>\n",
       "      <td>...</td>\n",
       "      <td>...</td>\n",
       "      <td>...</td>\n",
       "      <td>...</td>\n",
       "      <td>...</td>\n",
       "    </tr>\n",
       "    <tr>\n",
       "      <th>1331</th>\n",
       "      <td>1332</td>\n",
       "      <td>18.000000</td>\n",
       "      <td>male</td>\n",
       "      <td>41.1</td>\n",
       "      <td>104</td>\n",
       "      <td>No</td>\n",
       "      <td>1</td>\n",
       "      <td>Yes</td>\n",
       "      <td>southeast</td>\n",
       "      <td>48970.25</td>\n",
       "      <td>None</td>\n",
       "      <td>Very Obese</td>\n",
       "    </tr>\n",
       "    <tr>\n",
       "      <th>1335</th>\n",
       "      <td>1336</td>\n",
       "      <td>44.000000</td>\n",
       "      <td>female</td>\n",
       "      <td>35.5</td>\n",
       "      <td>88</td>\n",
       "      <td>Yes</td>\n",
       "      <td>0</td>\n",
       "      <td>Yes</td>\n",
       "      <td>northwest</td>\n",
       "      <td>55135.40</td>\n",
       "      <td>Senior adults</td>\n",
       "      <td>Obese</td>\n",
       "    </tr>\n",
       "    <tr>\n",
       "      <th>1337</th>\n",
       "      <td>1338</td>\n",
       "      <td>30.000000</td>\n",
       "      <td>male</td>\n",
       "      <td>34.5</td>\n",
       "      <td>91</td>\n",
       "      <td>Yes</td>\n",
       "      <td>3</td>\n",
       "      <td>Yes</td>\n",
       "      <td>northwest</td>\n",
       "      <td>60021.40</td>\n",
       "      <td>Adults</td>\n",
       "      <td>Obese</td>\n",
       "    </tr>\n",
       "    <tr>\n",
       "      <th>1338</th>\n",
       "      <td>1339</td>\n",
       "      <td>37.000000</td>\n",
       "      <td>male</td>\n",
       "      <td>30.4</td>\n",
       "      <td>106</td>\n",
       "      <td>No</td>\n",
       "      <td>0</td>\n",
       "      <td>Yes</td>\n",
       "      <td>southeast</td>\n",
       "      <td>62592.87</td>\n",
       "      <td>Adults</td>\n",
       "      <td>Obese</td>\n",
       "    </tr>\n",
       "    <tr>\n",
       "      <th>1339</th>\n",
       "      <td>1340</td>\n",
       "      <td>30.000000</td>\n",
       "      <td>female</td>\n",
       "      <td>47.4</td>\n",
       "      <td>101</td>\n",
       "      <td>No</td>\n",
       "      <td>0</td>\n",
       "      <td>Yes</td>\n",
       "      <td>southeast</td>\n",
       "      <td>63770.43</td>\n",
       "      <td>Adults</td>\n",
       "      <td>Very Obese</td>\n",
       "    </tr>\n",
       "  </tbody>\n",
       "</table>\n",
       "<p>1278 rows × 12 columns</p>\n",
       "</div>"
      ],
      "text/plain": [
       "      PatientID        age  gender   bmi  bloodpressure diabetic  children  \\\n",
       "0             1  39.000000    male  23.2             91      Yes         0   \n",
       "1             2  24.000000    male  30.1             87       No         0   \n",
       "2             3  38.078652    male  33.3             82      Yes         0   \n",
       "3             4  38.078652    male  33.7             80       No         0   \n",
       "4             5  38.078652    male  34.1            100       No         0   \n",
       "...         ...        ...     ...   ...            ...      ...       ...   \n",
       "1331       1332  18.000000    male  41.1            104       No         1   \n",
       "1335       1336  44.000000  female  35.5             88      Yes         0   \n",
       "1337       1338  30.000000    male  34.5             91      Yes         3   \n",
       "1338       1339  37.000000    male  30.4            106       No         0   \n",
       "1339       1340  30.000000  female  47.4            101       No         0   \n",
       "\n",
       "     smoker     region     claim   age_category bmi_category  \n",
       "0        No  southeast   1121.87         Adults      Healthy  \n",
       "1        No  southeast   1131.51         Adults        Obese  \n",
       "2        No  southeast   1135.94         Adults        Obese  \n",
       "3        No  northwest   1136.40         Adults        Obese  \n",
       "4        No  northwest   1137.01         Adults        Obese  \n",
       "...     ...        ...       ...            ...          ...  \n",
       "1331    Yes  southeast  48970.25           None   Very Obese  \n",
       "1335    Yes  northwest  55135.40  Senior adults        Obese  \n",
       "1337    Yes  northwest  60021.40         Adults        Obese  \n",
       "1338    Yes  southeast  62592.87         Adults        Obese  \n",
       "1339    Yes  southeast  63770.43         Adults   Very Obese  \n",
       "\n",
       "[1278 rows x 12 columns]"
      ]
     },
     "execution_count": 36,
     "metadata": {},
     "output_type": "execute_result"
    }
   ],
   "source": [
    "df_train[df_train['bloodpressure']<120]"
   ]
  },
  {
   "cell_type": "code",
   "execution_count": 37,
   "metadata": {
    "execution": {
     "iopub.execute_input": "2023-10-11T21:49:29.509868Z",
     "iopub.status.busy": "2023-10-11T21:49:29.509495Z",
     "iopub.status.idle": "2023-10-11T21:49:29.523992Z",
     "shell.execute_reply": "2023-10-11T21:49:29.522257Z",
     "shell.execute_reply.started": "2023-10-11T21:49:29.509838Z"
    },
    "id": "VjTtuqMDF-_r",
    "outputId": "0460a493-652a-4d58-b685-42839d2363c1"
   },
   "outputs": [
    {
     "data": {
      "text/plain": [
       "PatientID        1278\n",
       "age              1278\n",
       "gender           1278\n",
       "bmi              1278\n",
       "bloodpressure    1278\n",
       "diabetic         1278\n",
       "children         1278\n",
       "smoker           1278\n",
       "region           1278\n",
       "claim            1278\n",
       "age_category     1262\n",
       "bmi_category     1278\n",
       "dtype: int64"
      ]
     },
     "execution_count": 37,
     "metadata": {},
     "output_type": "execute_result"
    }
   ],
   "source": [
    "df_train[df_train['bloodpressure']<120].count()"
   ]
  },
  {
   "cell_type": "markdown",
   "metadata": {
    "id": "k7ARTimloqxG"
   },
   "source": [
    "## Feature engineering on bloodpressure (categorizing):\n"
   ]
  },
  {
   "cell_type": "code",
   "execution_count": 38,
   "metadata": {
    "execution": {
     "iopub.execute_input": "2023-10-11T21:49:29.526999Z",
     "iopub.status.busy": "2023-10-11T21:49:29.526327Z",
     "iopub.status.idle": "2023-10-11T21:49:29.543641Z",
     "shell.execute_reply": "2023-10-11T21:49:29.542271Z",
     "shell.execute_reply.started": "2023-10-11T21:49:29.526967Z"
    },
    "id": "EAmquTu9pqln",
    "outputId": "1054d23a-a5ba-4d45-b53c-34ec0964f724"
   },
   "outputs": [
    {
     "data": {
      "text/plain": [
       "PatientID        0\n",
       "age              0\n",
       "gender           0\n",
       "bmi              0\n",
       "bloodpressure    0\n",
       "diabetic         0\n",
       "children         0\n",
       "smoker           0\n",
       "region           0\n",
       "claim            0\n",
       "age_category     0\n",
       "bmi_category     0\n",
       "dtype: int64"
      ]
     },
     "execution_count": 38,
     "metadata": {},
     "output_type": "execute_result"
    }
   ],
   "source": [
    "df_train[df_train['bloodpressure']<80].count()"
   ]
  },
  {
   "cell_type": "markdown",
   "metadata": {
    "id": "AMdjjMtfp6Q4"
   },
   "source": [
    "no one has low bloodpressure"
   ]
  },
  {
   "cell_type": "code",
   "execution_count": 39,
   "metadata": {
    "execution": {
     "iopub.execute_input": "2023-10-11T21:49:29.54587Z",
     "iopub.status.busy": "2023-10-11T21:49:29.545434Z",
     "iopub.status.idle": "2023-10-11T21:49:29.556863Z",
     "shell.execute_reply": "2023-10-11T21:49:29.555865Z",
     "shell.execute_reply.started": "2023-10-11T21:49:29.545831Z"
    },
    "id": "QqNIF3X2ozRg"
   },
   "outputs": [],
   "source": [
    "def bp_categorizer(bp):\n",
    "    if 80<=bp < 89:\n",
    "        return \"elevated\"\n",
    "    elif 90<= bp <= 99:\n",
    "        return \"High\"\n",
    "    elif  99< bp <100:\n",
    "        return \"very high\"\n",
    "    elif 100<=bp<120:\n",
    "        return \"extremely high\"\n",
    "    else:\n",
    "        return \"fatal\"\n",
    "\n",
    "# Assuming you have a 'bmi' column in your DataFrame 'df_train'\n",
    "df_train['bp_category'] = df_train['bloodpressure'].apply(bp_categorizer)\n"
   ]
  },
  {
   "cell_type": "markdown",
   "metadata": {
    "id": "HMBHmsrq93kS"
   },
   "source": [
    "### Lets find which how much people have high bp and their cause of death might be high bp"
   ]
  },
  {
   "cell_type": "markdown",
   "metadata": {
    "id": "IiOfbnziAq8R"
   },
   "source": [
    "### finding:                                         \n",
    "        -> There is high chance that many people have been died due to high bloodpressure or they are patients of hypertension\n",
    "        -> 37.2% of people were suffering from stage 1 hypertension with bp higher than 90 (diastolic)\n",
    "        -> 19.1% have stage 2 hypertension in this all category all are having more than 100 mmHg(diastolic)\n",
    "        -> 8.7% have higher than 120 and some also have higher than 140\n",
    "        bloodpressure which is fatal and we can say bp shootup is cause of\n",
    "        death of these 117 pesons\n",
    "        -> Approx Total 813 persons were suffering from hyper tension,out of\n",
    "        which 498 on stage 1, 315 on stage 2 and 117 were probably died due to\n",
    "        it because they had high bp than 120 and 55 person had higher than 145"
   ]
  },
  {
   "cell_type": "code",
   "execution_count": 40,
   "metadata": {
    "execution": {
     "iopub.execute_input": "2023-10-11T21:49:29.55818Z",
     "iopub.status.busy": "2023-10-11T21:49:29.557884Z",
     "iopub.status.idle": "2023-10-11T21:49:29.703909Z",
     "shell.execute_reply": "2023-10-11T21:49:29.702208Z",
     "shell.execute_reply.started": "2023-10-11T21:49:29.558154Z"
    },
    "id": "CeVTxHRC-GVi",
    "outputId": "e93e5db1-5f0a-493c-d3f3-607aeb9373c0"
   },
   "outputs": [
    {
     "data": {
      "image/png": "[encoded data removed]",
      "text/plain": [
       "<Figure size 432x288 with 1 Axes>"
      ]
     },
     "metadata": {},
     "output_type": "display_data"
    }
   ],
   "source": [
    "category_counts = df_train['bp_category'].value_counts()\n",
    "plt.pie(category_counts,labels= category_counts.index,  autopct='%1.1f%%')\n",
    "plt.show()"
   ]
  },
  {
   "cell_type": "code",
   "execution_count": 41,
   "metadata": {
    "execution": {
     "iopub.execute_input": "2023-10-11T21:49:29.707674Z",
     "iopub.status.busy": "2023-10-11T21:49:29.706067Z",
     "iopub.status.idle": "2023-10-11T21:49:29.726422Z",
     "shell.execute_reply": "2023-10-11T21:49:29.724942Z",
     "shell.execute_reply.started": "2023-10-11T21:49:29.707605Z"
    },
    "id": "jgyIW_9xD0eb",
    "outputId": "1be4f5d1-d1ea-4e84-9a0c-1248b9971393"
   },
   "outputs": [
    {
     "data": {
      "text/plain": [
       "PatientID        812\n",
       "age              812\n",
       "gender           812\n",
       "bmi              812\n",
       "bloodpressure    812\n",
       "diabetic         812\n",
       "children         812\n",
       "smoker           812\n",
       "region           812\n",
       "claim            812\n",
       "age_category     798\n",
       "bmi_category     812\n",
       "bp_category      812\n",
       "dtype: int64"
      ]
     },
     "execution_count": 41,
     "metadata": {},
     "output_type": "execute_result"
    }
   ],
   "source": [
    "df_train[df_train['bloodpressure']>=90].count()"
   ]
  },
  {
   "cell_type": "code",
   "execution_count": 42,
   "metadata": {
    "execution": {
     "iopub.execute_input": "2023-10-11T21:49:29.729915Z",
     "iopub.status.busy": "2023-10-11T21:49:29.728748Z",
     "iopub.status.idle": "2023-10-11T21:49:29.758283Z",
     "shell.execute_reply": "2023-10-11T21:49:29.7567Z",
     "shell.execute_reply.started": "2023-10-11T21:49:29.729856Z"
    },
    "id": "ii2HJaRqEJ1Y",
    "outputId": "6d02fb75-b049-4a36-aede-5a7e6aa7c2f1"
   },
   "outputs": [
    {
     "data": {
      "text/plain": [
       "PatientID        314\n",
       "age              314\n",
       "gender           314\n",
       "bmi              314\n",
       "bloodpressure    314\n",
       "diabetic         314\n",
       "children         314\n",
       "smoker           314\n",
       "region           314\n",
       "claim            314\n",
       "age_category     310\n",
       "bmi_category     314\n",
       "bp_category      314\n",
       "dtype: int64"
      ]
     },
     "execution_count": 42,
     "metadata": {},
     "output_type": "execute_result"
    }
   ],
   "source": [
    "df_train[df_train['bloodpressure']>=100].count()"
   ]
  },
  {
   "cell_type": "code",
   "execution_count": 43,
   "metadata": {
    "execution": {
     "iopub.execute_input": "2023-10-11T21:49:29.761935Z",
     "iopub.status.busy": "2023-10-11T21:49:29.760796Z",
     "iopub.status.idle": "2023-10-11T21:49:29.776438Z",
     "shell.execute_reply": "2023-10-11T21:49:29.775218Z",
     "shell.execute_reply.started": "2023-10-11T21:49:29.761873Z"
    },
    "id": "UvmHKKPNDZGp",
    "outputId": "800aedfe-5e82-46b5-a623-91e044069540"
   },
   "outputs": [
    {
     "data": {
      "text/plain": [
       "PatientID        117\n",
       "age              117\n",
       "gender           117\n",
       "bmi              117\n",
       "bloodpressure    117\n",
       "diabetic         117\n",
       "children         117\n",
       "smoker           117\n",
       "region           117\n",
       "claim            117\n",
       "age_category     117\n",
       "bmi_category     117\n",
       "bp_category      117\n",
       "dtype: int64"
      ]
     },
     "execution_count": 43,
     "metadata": {},
     "output_type": "execute_result"
    }
   ],
   "source": [
    "df_train[df_train['bp_category']=='fatal'].count()"
   ]
  },
  {
   "cell_type": "markdown",
   "metadata": {
    "id": "Pn8_kj15Ivpd"
   },
   "source": [
    "### Claim:"
   ]
  },
  {
   "cell_type": "markdown",
   "metadata": {
    "id": "zs4IlpxbK4h3"
   },
   "source": [
    "conclusion:\n",
    "\n",
    "-> highly skewed data with positve skewness of 1.5\n",
    "\n",
    "-> there are more than 150 outliers which shows some people have been given more claim. there could be multiple reasons we will find in further analysis\n",
    "\n"
   ]
  },
  {
   "cell_type": "code",
   "execution_count": 44,
   "metadata": {
    "execution": {
     "iopub.execute_input": "2023-10-11T21:49:29.779695Z",
     "iopub.status.busy": "2023-10-11T21:49:29.778093Z",
     "iopub.status.idle": "2023-10-11T21:49:30.256934Z",
     "shell.execute_reply": "2023-10-11T21:49:30.25549Z",
     "shell.execute_reply.started": "2023-10-11T21:49:29.779649Z"
    },
    "id": "0NaUL2gWH2T6",
    "outputId": "75278b3e-e36d-4f6c-dd60-bef3d331d0ea"
   },
   "outputs": [
    {
     "data": {
      "image/png": "[encoded data removed]",
      "text/plain": [
       "<Figure size 360x360 with 1 Axes>"
      ]
     },
     "metadata": {
      "needs_background": "light"
     },
     "output_type": "display_data"
    }
   ],
   "source": [
    "sns.displot(df_train['claim'],kde=True)\n",
    "plt.show()"
   ]
  },
  {
   "cell_type": "code",
   "execution_count": 45,
   "metadata": {
    "execution": {
     "iopub.execute_input": "2023-10-11T21:49:30.259334Z",
     "iopub.status.busy": "2023-10-11T21:49:30.258998Z",
     "iopub.status.idle": "2023-10-11T21:49:30.543572Z",
     "shell.execute_reply": "2023-10-11T21:49:30.542345Z",
     "shell.execute_reply.started": "2023-10-11T21:49:30.259298Z"
    },
    "id": "Ank2sY__JIch",
    "outputId": "a5b47be6-caa4-4a67-fc72-28906eb42893"
   },
   "outputs": [
    {
     "data": {
      "text/plain": [
       "<AxesSubplot: ylabel='Density'>"
      ]
     },
     "execution_count": 45,
     "metadata": {},
     "output_type": "execute_result"
    },
    {
     "data": {
      "image/png": "[encoded data removed]",
      "text/plain": [
       "<Figure size 432x288 with 1 Axes>"
      ]
     },
     "metadata": {
      "needs_background": "light"
     },
     "output_type": "display_data"
    }
   ],
   "source": [
    "df_train['claim'].plot(kind='kde')"
   ]
  },
  {
   "cell_type": "code",
   "execution_count": 46,
   "metadata": {
    "execution": {
     "iopub.execute_input": "2023-10-11T21:49:30.546072Z",
     "iopub.status.busy": "2023-10-11T21:49:30.545057Z",
     "iopub.status.idle": "2023-10-11T21:49:30.554286Z",
     "shell.execute_reply": "2023-10-11T21:49:30.553588Z",
     "shell.execute_reply.started": "2023-10-11T21:49:30.54604Z"
    },
    "id": "dRmrskMGJSj0",
    "outputId": "b49fd356-3eab-4c65-cd71-fda59c8043fe"
   },
   "outputs": [
    {
     "data": {
      "text/plain": [
       "1.5155834070803003"
      ]
     },
     "execution_count": 46,
     "metadata": {},
     "output_type": "execute_result"
    }
   ],
   "source": [
    "df_train['claim'].skew()"
   ]
  },
  {
   "cell_type": "code",
   "execution_count": 47,
   "metadata": {
    "execution": {
     "iopub.execute_input": "2023-10-11T21:49:30.556765Z",
     "iopub.status.busy": "2023-10-11T21:49:30.555632Z",
     "iopub.status.idle": "2023-10-11T21:49:30.578938Z",
     "shell.execute_reply": "2023-10-11T21:49:30.57785Z",
     "shell.execute_reply.started": "2023-10-11T21:49:30.55673Z"
    },
    "id": "VfFsZLIRJZyR",
    "outputId": "84b823fe-e629-4485-f471-e66213e3858d"
   },
   "outputs": [
    {
     "data": {
      "text/plain": [
       "count     1337.000000\n",
       "mean     13279.668295\n",
       "std      12109.827623\n",
       "min       1121.870000\n",
       "25%       4746.340000\n",
       "50%       9386.160000\n",
       "75%      16657.720000\n",
       "max      63770.430000\n",
       "Name: claim, dtype: float64"
      ]
     },
     "execution_count": 47,
     "metadata": {},
     "output_type": "execute_result"
    }
   ],
   "source": [
    "df_train['claim'].describe()"
   ]
  },
  {
   "cell_type": "code",
   "execution_count": 48,
   "metadata": {
    "execution": {
     "iopub.execute_input": "2023-10-11T21:49:30.581343Z",
     "iopub.status.busy": "2023-10-11T21:49:30.580438Z",
     "iopub.status.idle": "2023-10-11T21:49:30.773092Z",
     "shell.execute_reply": "2023-10-11T21:49:30.771621Z",
     "shell.execute_reply.started": "2023-10-11T21:49:30.581308Z"
    },
    "id": "T69bdDalJfEQ",
    "outputId": "0c249fc5-659d-4dc5-b7f1-734e8b3d6c89"
   },
   "outputs": [
    {
     "data": {
      "text/plain": [
       "<AxesSubplot: >"
      ]
     },
     "execution_count": 48,
     "metadata": {},
     "output_type": "execute_result"
    },
    {
     "data": {
      "image/png": "[encoded data removed]",
      "text/plain": [
       "<Figure size 432x288 with 1 Axes>"
      ]
     },
     "metadata": {
      "needs_background": "light"
     },
     "output_type": "display_data"
    }
   ],
   "source": [
    "df_train['claim'].plot(kind='box')"
   ]
  },
  {
   "cell_type": "code",
   "execution_count": 49,
   "metadata": {
    "execution": {
     "iopub.execute_input": "2023-10-11T21:49:30.775876Z",
     "iopub.status.busy": "2023-10-11T21:49:30.775352Z",
     "iopub.status.idle": "2023-10-11T21:49:30.790067Z",
     "shell.execute_reply": "2023-10-11T21:49:30.788732Z",
     "shell.execute_reply.started": "2023-10-11T21:49:30.77583Z"
    },
    "id": "9aYGl7CBJpXU",
    "outputId": "13216b4b-89de-454b-d4fa-6cdcf9378b23"
   },
   "outputs": [
    {
     "data": {
      "text/plain": [
       "PatientID        162\n",
       "age              162\n",
       "gender           162\n",
       "bmi              162\n",
       "bloodpressure    162\n",
       "diabetic         162\n",
       "children         162\n",
       "smoker           162\n",
       "region           162\n",
       "claim            162\n",
       "age_category     160\n",
       "bmi_category     162\n",
       "bp_category      162\n",
       "dtype: int64"
      ]
     },
     "execution_count": 49,
     "metadata": {},
     "output_type": "execute_result"
    }
   ],
   "source": [
    "df_train[df_train['claim']>30000].count()"
   ]
  },
  {
   "cell_type": "code",
   "execution_count": 50,
   "metadata": {
    "execution": {
     "iopub.execute_input": "2023-10-11T21:49:30.792805Z",
     "iopub.status.busy": "2023-10-11T21:49:30.792407Z",
     "iopub.status.idle": "2023-10-11T21:49:30.805981Z",
     "shell.execute_reply": "2023-10-11T21:49:30.80474Z",
     "shell.execute_reply.started": "2023-10-11T21:49:30.792774Z"
    },
    "id": "0us7MLd8KGSM",
    "outputId": "9ca976fb-d635-4ef7-ab3c-00fc470736b2"
   },
   "outputs": [
    {
     "data": {
      "text/plain": [
       "PatientID        1175\n",
       "age              1175\n",
       "gender           1175\n",
       "bmi              1175\n",
       "bloodpressure    1175\n",
       "diabetic         1175\n",
       "children         1175\n",
       "smoker           1175\n",
       "region           1175\n",
       "claim            1175\n",
       "age_category     1161\n",
       "bmi_category     1175\n",
       "bp_category      1175\n",
       "dtype: int64"
      ]
     },
     "execution_count": 50,
     "metadata": {},
     "output_type": "execute_result"
    }
   ],
   "source": [
    "df_train[df_train['claim']<30000].count()"
   ]
  },
  {
   "cell_type": "code",
   "execution_count": 51,
   "metadata": {
    "execution": {
     "iopub.execute_input": "2023-10-11T21:49:30.808476Z",
     "iopub.status.busy": "2023-10-11T21:49:30.807649Z",
     "iopub.status.idle": "2023-10-11T21:49:30.821385Z",
     "shell.execute_reply": "2023-10-11T21:49:30.82057Z",
     "shell.execute_reply.started": "2023-10-11T21:49:30.808431Z"
    },
    "id": "KHNQHK0qLQjW",
    "outputId": "4df35d9c-6507-44eb-cd8f-3d95eba147da"
   },
   "outputs": [
    {
     "data": {
      "text/plain": [
       "11911.380000000001"
      ]
     },
     "execution_count": 51,
     "metadata": {},
     "output_type": "execute_result"
    }
   ],
   "source": [
    "stats.iqr(df_train['claim'])"
   ]
  },
  {
   "cell_type": "markdown",
   "metadata": {
    "id": "qfow6jCcOVrG"
   },
   "source": [
    "### Gender"
   ]
  },
  {
   "cell_type": "markdown",
   "metadata": {
    "id": "YEU60h5LPrX9"
   },
   "source": [
    "Conclusion:\n",
    "\n",
    "->  male and female are almost in same quantity"
   ]
  },
  {
   "cell_type": "code",
   "execution_count": 52,
   "metadata": {
    "execution": {
     "iopub.execute_input": "2023-10-11T21:49:30.823638Z",
     "iopub.status.busy": "2023-10-11T21:49:30.822605Z",
     "iopub.status.idle": "2023-10-11T21:49:30.837115Z",
     "shell.execute_reply": "2023-10-11T21:49:30.836246Z",
     "shell.execute_reply.started": "2023-10-11T21:49:30.823597Z"
    },
    "id": "q9r370MaOUPg",
    "outputId": "6fff362f-8026-4479-b1bb-00067055fb1b"
   },
   "outputs": [
    {
     "data": {
      "text/plain": [
       "male      675\n",
       "female    662\n",
       "Name: gender, dtype: int64"
      ]
     },
     "execution_count": 52,
     "metadata": {},
     "output_type": "execute_result"
    }
   ],
   "source": [
    "df_train['gender'].value_counts()"
   ]
  },
  {
   "cell_type": "code",
   "execution_count": 53,
   "metadata": {
    "execution": {
     "iopub.execute_input": "2023-10-11T21:49:30.839055Z",
     "iopub.status.busy": "2023-10-11T21:49:30.838187Z",
     "iopub.status.idle": "2023-10-11T21:49:31.07621Z",
     "shell.execute_reply": "2023-10-11T21:49:31.07493Z",
     "shell.execute_reply.started": "2023-10-11T21:49:30.839018Z"
    },
    "id": "b5xy_ooaOfuH",
    "outputId": "9d110b58-ec49-4c62-e076-d251f2a54145"
   },
   "outputs": [
    {
     "data": {
      "text/plain": [
       "<AxesSubplot: >"
      ]
     },
     "execution_count": 53,
     "metadata": {},
     "output_type": "execute_result"
    },
    {
     "data": {
      "image/png": "[encoded data removed]",
      "text/plain": [
       "<Figure size 432x288 with 1 Axes>"
      ]
     },
     "metadata": {
      "needs_background": "light"
     },
     "output_type": "display_data"
    }
   ],
   "source": [
    "df_train['gender'].value_counts().plot(kind='bar')"
   ]
  },
  {
   "cell_type": "code",
   "execution_count": 54,
   "metadata": {
    "execution": {
     "iopub.execute_input": "2023-10-11T21:49:31.078717Z",
     "iopub.status.busy": "2023-10-11T21:49:31.078286Z",
     "iopub.status.idle": "2023-10-11T21:49:31.215166Z",
     "shell.execute_reply": "2023-10-11T21:49:31.213468Z",
     "shell.execute_reply.started": "2023-10-11T21:49:31.078677Z"
    },
    "id": "p7ugiTa3Om-Y",
    "outputId": "d8b0558c-8855-4ede-eecb-87a7ba9c129f"
   },
   "outputs": [
    {
     "data": {
      "text/plain": [
       "<AxesSubplot: ylabel='gender'>"
      ]
     },
     "execution_count": 54,
     "metadata": {},
     "output_type": "execute_result"
    },
    {
     "data": {
      "image/png": "[encoded data removed]",
      "text/plain": [
       "<Figure size 432x288 with 1 Axes>"
      ]
     },
     "metadata": {},
     "output_type": "display_data"
    }
   ],
   "source": [
    "df_train['gender'].value_counts().plot(kind='pie',autopct='%0.1f%%')"
   ]
  },
  {
   "cell_type": "code",
   "execution_count": 55,
   "metadata": {
    "execution": {
     "iopub.execute_input": "2023-10-11T21:49:31.218774Z",
     "iopub.status.busy": "2023-10-11T21:49:31.21755Z",
     "iopub.status.idle": "2023-10-11T21:49:31.233269Z",
     "shell.execute_reply": "2023-10-11T21:49:31.23121Z",
     "shell.execute_reply.started": "2023-10-11T21:49:31.218712Z"
    },
    "id": "zal1x_UIPDFa",
    "outputId": "eff254a2-cb3e-41a1-e8bf-6a333e0fe430"
   },
   "outputs": [
    {
     "data": {
      "text/plain": [
       "0"
      ]
     },
     "execution_count": 55,
     "metadata": {},
     "output_type": "execute_result"
    }
   ],
   "source": [
    "df_train['gender'].isnull().sum()"
   ]
  },
  {
   "cell_type": "code",
   "execution_count": 56,
   "metadata": {
    "execution": {
     "iopub.execute_input": "2023-10-11T21:49:31.237203Z",
     "iopub.status.busy": "2023-10-11T21:49:31.236072Z",
     "iopub.status.idle": "2023-10-11T21:49:31.25804Z",
     "shell.execute_reply": "2023-10-11T21:49:31.256853Z",
     "shell.execute_reply.started": "2023-10-11T21:49:31.237157Z"
    },
    "id": "r34uDvOmPIaB",
    "outputId": "537222c1-a356-4297-df11-c438c71941c7"
   },
   "outputs": [
    {
     "data": {
      "text/html": [
       "<div>\n",
       "<style scoped>\n",
       "    .dataframe tbody tr th:only-of-type {\n",
       "        vertical-align: middle;\n",
       "    }\n",
       "\n",
       "    .dataframe tbody tr th {\n",
       "        vertical-align: top;\n",
       "    }\n",
       "\n",
       "    .dataframe thead th {\n",
       "        text-align: right;\n",
       "    }\n",
       "</style>\n",
       "<table border=\"1\" class=\"dataframe\">\n",
       "  <thead>\n",
       "    <tr style=\"text-align: right;\">\n",
       "      <th></th>\n",
       "      <th>PatientID</th>\n",
       "      <th>age</th>\n",
       "      <th>gender</th>\n",
       "      <th>bmi</th>\n",
       "      <th>bloodpressure</th>\n",
       "      <th>diabetic</th>\n",
       "      <th>children</th>\n",
       "      <th>smoker</th>\n",
       "      <th>region</th>\n",
       "      <th>claim</th>\n",
       "      <th>age_category</th>\n",
       "      <th>bmi_category</th>\n",
       "      <th>bp_category</th>\n",
       "    </tr>\n",
       "  </thead>\n",
       "  <tbody>\n",
       "    <tr>\n",
       "      <th>0</th>\n",
       "      <td>1</td>\n",
       "      <td>39.000000</td>\n",
       "      <td>male</td>\n",
       "      <td>23.2</td>\n",
       "      <td>91</td>\n",
       "      <td>Yes</td>\n",
       "      <td>0</td>\n",
       "      <td>No</td>\n",
       "      <td>southeast</td>\n",
       "      <td>1121.87</td>\n",
       "      <td>Adults</td>\n",
       "      <td>Healthy</td>\n",
       "      <td>High</td>\n",
       "    </tr>\n",
       "    <tr>\n",
       "      <th>1</th>\n",
       "      <td>2</td>\n",
       "      <td>24.000000</td>\n",
       "      <td>male</td>\n",
       "      <td>30.1</td>\n",
       "      <td>87</td>\n",
       "      <td>No</td>\n",
       "      <td>0</td>\n",
       "      <td>No</td>\n",
       "      <td>southeast</td>\n",
       "      <td>1131.51</td>\n",
       "      <td>Adults</td>\n",
       "      <td>Obese</td>\n",
       "      <td>elevated</td>\n",
       "    </tr>\n",
       "    <tr>\n",
       "      <th>2</th>\n",
       "      <td>3</td>\n",
       "      <td>38.078652</td>\n",
       "      <td>male</td>\n",
       "      <td>33.3</td>\n",
       "      <td>82</td>\n",
       "      <td>Yes</td>\n",
       "      <td>0</td>\n",
       "      <td>No</td>\n",
       "      <td>southeast</td>\n",
       "      <td>1135.94</td>\n",
       "      <td>Adults</td>\n",
       "      <td>Obese</td>\n",
       "      <td>elevated</td>\n",
       "    </tr>\n",
       "    <tr>\n",
       "      <th>3</th>\n",
       "      <td>4</td>\n",
       "      <td>38.078652</td>\n",
       "      <td>male</td>\n",
       "      <td>33.7</td>\n",
       "      <td>80</td>\n",
       "      <td>No</td>\n",
       "      <td>0</td>\n",
       "      <td>No</td>\n",
       "      <td>northwest</td>\n",
       "      <td>1136.40</td>\n",
       "      <td>Adults</td>\n",
       "      <td>Obese</td>\n",
       "      <td>elevated</td>\n",
       "    </tr>\n",
       "    <tr>\n",
       "      <th>4</th>\n",
       "      <td>5</td>\n",
       "      <td>38.078652</td>\n",
       "      <td>male</td>\n",
       "      <td>34.1</td>\n",
       "      <td>100</td>\n",
       "      <td>No</td>\n",
       "      <td>0</td>\n",
       "      <td>No</td>\n",
       "      <td>northwest</td>\n",
       "      <td>1137.01</td>\n",
       "      <td>Adults</td>\n",
       "      <td>Obese</td>\n",
       "      <td>extremely high</td>\n",
       "    </tr>\n",
       "  </tbody>\n",
       "</table>\n",
       "</div>"
      ],
      "text/plain": [
       "   PatientID        age gender   bmi  bloodpressure diabetic  children smoker  \\\n",
       "0          1  39.000000   male  23.2             91      Yes         0     No   \n",
       "1          2  24.000000   male  30.1             87       No         0     No   \n",
       "2          3  38.078652   male  33.3             82      Yes         0     No   \n",
       "3          4  38.078652   male  33.7             80       No         0     No   \n",
       "4          5  38.078652   male  34.1            100       No         0     No   \n",
       "\n",
       "      region    claim age_category bmi_category     bp_category  \n",
       "0  southeast  1121.87       Adults      Healthy            High  \n",
       "1  southeast  1131.51       Adults        Obese        elevated  \n",
       "2  southeast  1135.94       Adults        Obese        elevated  \n",
       "3  northwest  1136.40       Adults        Obese        elevated  \n",
       "4  northwest  1137.01       Adults        Obese  extremely high  "
      ]
     },
     "execution_count": 56,
     "metadata": {},
     "output_type": "execute_result"
    }
   ],
   "source": [
    "df_train.head()"
   ]
  },
  {
   "cell_type": "markdown",
   "metadata": {
    "id": "ww12ttd9QaYQ"
   },
   "source": [
    "### diabetic"
   ]
  },
  {
   "cell_type": "markdown",
   "metadata": {
    "id": "MaSw6pyURG2k"
   },
   "source": [
    "conclusion:\n",
    "-> most patients are non diabetic but there is no more difference"
   ]
  },
  {
   "cell_type": "code",
   "execution_count": 57,
   "metadata": {
    "execution": {
     "iopub.execute_input": "2023-10-11T21:49:31.260984Z",
     "iopub.status.busy": "2023-10-11T21:49:31.26013Z",
     "iopub.status.idle": "2023-10-11T21:49:31.271456Z",
     "shell.execute_reply": "2023-10-11T21:49:31.270282Z",
     "shell.execute_reply.started": "2023-10-11T21:49:31.260944Z"
    },
    "id": "UvMG2D0NPOOZ",
    "outputId": "91044895-59f1-488e-b2b4-f64660ffd68b"
   },
   "outputs": [
    {
     "data": {
      "text/plain": [
       "No     697\n",
       "Yes    640\n",
       "Name: diabetic, dtype: int64"
      ]
     },
     "execution_count": 57,
     "metadata": {},
     "output_type": "execute_result"
    }
   ],
   "source": [
    "df_train['diabetic'].value_counts()"
   ]
  },
  {
   "cell_type": "code",
   "execution_count": 58,
   "metadata": {
    "execution": {
     "iopub.execute_input": "2023-10-11T21:49:31.27402Z",
     "iopub.status.busy": "2023-10-11T21:49:31.27299Z",
     "iopub.status.idle": "2023-10-11T21:49:31.434682Z",
     "shell.execute_reply": "2023-10-11T21:49:31.433595Z",
     "shell.execute_reply.started": "2023-10-11T21:49:31.273982Z"
    },
    "id": "eZC4qM0yQnDp",
    "outputId": "9021b71f-48e4-4d25-e9e0-1f757650c054"
   },
   "outputs": [
    {
     "data": {
      "text/plain": [
       "<AxesSubplot: >"
      ]
     },
     "execution_count": 58,
     "metadata": {},
     "output_type": "execute_result"
    },
    {
     "data": {
      "image/png": "[encoded data removed]",
      "text/plain": [
       "<Figure size 432x288 with 1 Axes>"
      ]
     },
     "metadata": {
      "needs_background": "light"
     },
     "output_type": "display_data"
    }
   ],
   "source": [
    "df_train['diabetic'].value_counts().plot(kind='bar')"
   ]
  },
  {
   "cell_type": "code",
   "execution_count": 59,
   "metadata": {
    "execution": {
     "iopub.execute_input": "2023-10-11T21:49:31.437024Z",
     "iopub.status.busy": "2023-10-11T21:49:31.436369Z",
     "iopub.status.idle": "2023-10-11T21:49:31.533269Z",
     "shell.execute_reply": "2023-10-11T21:49:31.532228Z",
     "shell.execute_reply.started": "2023-10-11T21:49:31.436986Z"
    },
    "id": "TZq4g_0zQ0nQ",
    "outputId": "b5992273-f194-43b0-e18a-148d58a5b353"
   },
   "outputs": [
    {
     "data": {
      "text/plain": [
       "<AxesSubplot: ylabel='diabetic'>"
      ]
     },
     "execution_count": 59,
     "metadata": {},
     "output_type": "execute_result"
    },
    {
     "data": {
      "image/png": "[encoded data removed]",
      "text/plain": [
       "<Figure size 432x288 with 1 Axes>"
      ]
     },
     "metadata": {},
     "output_type": "display_data"
    }
   ],
   "source": [
    "df_train['diabetic'].value_counts().plot(kind='pie',autopct='%0.1f%%')"
   ]
  },
  {
   "cell_type": "markdown",
   "metadata": {
    "id": "y_JyoT4NRW8q"
   },
   "source": [
    "### Children:"
   ]
  },
  {
   "cell_type": "markdown",
   "metadata": {
    "id": "kR3L0srGSQdn"
   },
   "source": [
    "conclusion :  most people are children less and number of children is increasing upto 5"
   ]
  },
  {
   "cell_type": "code",
   "execution_count": 60,
   "metadata": {
    "execution": {
     "iopub.execute_input": "2023-10-11T21:49:31.535712Z",
     "iopub.status.busy": "2023-10-11T21:49:31.534727Z",
     "iopub.status.idle": "2023-10-11T21:49:31.545568Z",
     "shell.execute_reply": "2023-10-11T21:49:31.544423Z",
     "shell.execute_reply.started": "2023-10-11T21:49:31.535674Z"
    },
    "id": "SUk_4mlERAcu",
    "outputId": "1ee1bf0b-4a7b-4455-bdf1-9f3d0acbda00"
   },
   "outputs": [
    {
     "data": {
      "text/plain": [
       "0    573\n",
       "1    324\n",
       "2    240\n",
       "3    157\n",
       "4     25\n",
       "5     18\n",
       "Name: children, dtype: int64"
      ]
     },
     "execution_count": 60,
     "metadata": {},
     "output_type": "execute_result"
    }
   ],
   "source": [
    "df_train['children'].value_counts()"
   ]
  },
  {
   "cell_type": "code",
   "execution_count": 61,
   "metadata": {
    "execution": {
     "iopub.execute_input": "2023-10-11T21:49:31.5482Z",
     "iopub.status.busy": "2023-10-11T21:49:31.54714Z",
     "iopub.status.idle": "2023-10-11T21:49:31.785053Z",
     "shell.execute_reply": "2023-10-11T21:49:31.783683Z",
     "shell.execute_reply.started": "2023-10-11T21:49:31.548161Z"
    },
    "id": "ShfJePVjRlL_",
    "outputId": "1873e146-a621-4d7e-8f84-7ee2f422bde5"
   },
   "outputs": [
    {
     "data": {
      "text/plain": [
       "<AxesSubplot: >"
      ]
     },
     "execution_count": 61,
     "metadata": {},
     "output_type": "execute_result"
    },
    {
     "data": {
      "image/png": "[encoded data removed]",
      "text/plain": [
       "<Figure size 432x288 with 1 Axes>"
      ]
     },
     "metadata": {
      "needs_background": "light"
     },
     "output_type": "display_data"
    }
   ],
   "source": [
    "df_train['children'].value_counts().plot(kind='bar')"
   ]
  },
  {
   "cell_type": "code",
   "execution_count": 62,
   "metadata": {
    "execution": {
     "iopub.execute_input": "2023-10-11T21:49:31.786865Z",
     "iopub.status.busy": "2023-10-11T21:49:31.786495Z",
     "iopub.status.idle": "2023-10-11T21:49:31.913981Z",
     "shell.execute_reply": "2023-10-11T21:49:31.912809Z",
     "shell.execute_reply.started": "2023-10-11T21:49:31.786836Z"
    },
    "id": "tK-bewDuRqGG",
    "outputId": "47e4d137-1a15-48d6-f7f1-c80731fd497e"
   },
   "outputs": [
    {
     "data": {
      "text/plain": [
       "<AxesSubplot: ylabel='children'>"
      ]
     },
     "execution_count": 62,
     "metadata": {},
     "output_type": "execute_result"
    },
    {
     "data": {
      "image/png": "[encoded data removed]",
      "text/plain": [
       "<Figure size 432x288 with 1 Axes>"
      ]
     },
     "metadata": {},
     "output_type": "display_data"
    }
   ],
   "source": [
    "df_train['children'].value_counts().plot(kind='pie',autopct='%0.1f%%')"
   ]
  },
  {
   "cell_type": "markdown",
   "metadata": {
    "id": "_IfE4vQgSqKG"
   },
   "source": [
    "### smoker"
   ]
  },
  {
   "cell_type": "markdown",
   "metadata": {
    "id": "7aDFUalFTKCK"
   },
   "source": [
    "conclusion:\n",
    " 80% percent people are not smokers"
   ]
  },
  {
   "cell_type": "code",
   "execution_count": null,
   "metadata": {
    "id": "YWgcwpCHTJc5"
   },
   "outputs": [],
   "source": []
  },
  {
   "cell_type": "code",
   "execution_count": 63,
   "metadata": {
    "execution": {
     "iopub.execute_input": "2023-10-11T21:49:31.91712Z",
     "iopub.status.busy": "2023-10-11T21:49:31.915954Z",
     "iopub.status.idle": "2023-10-11T21:49:31.93832Z",
     "shell.execute_reply": "2023-10-11T21:49:31.936437Z",
     "shell.execute_reply.started": "2023-10-11T21:49:31.917064Z"
    },
    "id": "tvXTcZXNRyaV",
    "outputId": "12afc25a-1d48-473d-e36d-0eb6c56368e0"
   },
   "outputs": [
    {
     "data": {
      "text/plain": [
       "No     1063\n",
       "Yes     274\n",
       "Name: smoker, dtype: int64"
      ]
     },
     "execution_count": 63,
     "metadata": {},
     "output_type": "execute_result"
    }
   ],
   "source": [
    "df_train['smoker'].value_counts()"
   ]
  },
  {
   "cell_type": "code",
   "execution_count": 64,
   "metadata": {
    "execution": {
     "iopub.execute_input": "2023-10-11T21:49:31.942933Z",
     "iopub.status.busy": "2023-10-11T21:49:31.941275Z",
     "iopub.status.idle": "2023-10-11T21:49:32.234169Z",
     "shell.execute_reply": "2023-10-11T21:49:32.232774Z",
     "shell.execute_reply.started": "2023-10-11T21:49:31.942841Z"
    },
    "id": "5U72RgBZSxUe",
    "outputId": "0c7c897c-92cd-46f3-cd2d-e0b289e6ac14"
   },
   "outputs": [
    {
     "data": {
      "text/plain": [
       "<AxesSubplot: >"
      ]
     },
     "execution_count": 64,
     "metadata": {},
     "output_type": "execute_result"
    },
    {
     "data": {
      "image/png": "[encoded data removed]",
      "text/plain": [
       "<Figure size 432x288 with 1 Axes>"
      ]
     },
     "metadata": {
      "needs_background": "light"
     },
     "output_type": "display_data"
    }
   ],
   "source": [
    "df_train['smoker'].value_counts().plot(kind='bar')"
   ]
  },
  {
   "cell_type": "code",
   "execution_count": 65,
   "metadata": {
    "execution": {
     "iopub.execute_input": "2023-10-11T21:49:32.236739Z",
     "iopub.status.busy": "2023-10-11T21:49:32.236031Z",
     "iopub.status.idle": "2023-10-11T21:49:32.378939Z",
     "shell.execute_reply": "2023-10-11T21:49:32.377717Z",
     "shell.execute_reply.started": "2023-10-11T21:49:32.236699Z"
    },
    "id": "afbLKXAFS2Hd",
    "outputId": "551a6c27-53df-4546-c904-8f483691dddb"
   },
   "outputs": [
    {
     "data": {
      "text/plain": [
       "<AxesSubplot: ylabel='smoker'>"
      ]
     },
     "execution_count": 65,
     "metadata": {},
     "output_type": "execute_result"
    },
    {
     "data": {
      "image/png": "[encoded data removed]",
      "text/plain": [
       "<Figure size 432x288 with 1 Axes>"
      ]
     },
     "metadata": {},
     "output_type": "display_data"
    }
   ],
   "source": [
    "df_train['smoker'].value_counts().plot(kind='pie',autopct='%0.1f%%')"
   ]
  },
  {
   "cell_type": "markdown",
   "metadata": {
    "id": "z9FGlChMTaZk"
   },
   "source": [
    "### region"
   ]
  },
  {
   "cell_type": "markdown",
   "metadata": {
    "id": "SaN3UXdlT11g"
   },
   "source": [
    "conclusion : most people are from southeast then northwest then southwest then northwest"
   ]
  },
  {
   "cell_type": "code",
   "execution_count": 66,
   "metadata": {
    "execution": {
     "iopub.execute_input": "2023-10-11T21:49:32.382155Z",
     "iopub.status.busy": "2023-10-11T21:49:32.381231Z",
     "iopub.status.idle": "2023-10-11T21:49:32.401587Z",
     "shell.execute_reply": "2023-10-11T21:49:32.400093Z",
     "shell.execute_reply.started": "2023-10-11T21:49:32.382097Z"
    },
    "id": "EvebL2tRTCJu",
    "outputId": "036cc4e8-1e15-4869-be26-c96607066d26"
   },
   "outputs": [
    {
     "data": {
      "text/plain": [
       "southeast    443\n",
       "northwest    349\n",
       "southwest    314\n",
       "northeast    231\n",
       "Name: region, dtype: int64"
      ]
     },
     "execution_count": 66,
     "metadata": {},
     "output_type": "execute_result"
    }
   ],
   "source": [
    "df_train['region'].value_counts()"
   ]
  },
  {
   "cell_type": "code",
   "execution_count": 67,
   "metadata": {
    "execution": {
     "iopub.execute_input": "2023-10-11T21:49:32.407383Z",
     "iopub.status.busy": "2023-10-11T21:49:32.405115Z",
     "iopub.status.idle": "2023-10-11T21:49:32.67346Z",
     "shell.execute_reply": "2023-10-11T21:49:32.6722Z",
     "shell.execute_reply.started": "2023-10-11T21:49:32.407328Z"
    },
    "id": "myz0bi_tTgbr",
    "outputId": "ef2ad26e-0fda-4e27-ce13-e83ac8139d5a"
   },
   "outputs": [
    {
     "data": {
      "text/plain": [
       "<AxesSubplot: >"
      ]
     },
     "execution_count": 67,
     "metadata": {},
     "output_type": "execute_result"
    },
    {
     "data": {
      "image/png": "[encoded data removed]",
      "text/plain": [
       "<Figure size 432x288 with 1 Axes>"
      ]
     },
     "metadata": {
      "needs_background": "light"
     },
     "output_type": "display_data"
    }
   ],
   "source": [
    "df_train['region'].value_counts().plot(kind='bar')"
   ]
  },
  {
   "cell_type": "code",
   "execution_count": 68,
   "metadata": {
    "execution": {
     "iopub.execute_input": "2023-10-11T21:49:32.676039Z",
     "iopub.status.busy": "2023-10-11T21:49:32.67549Z",
     "iopub.status.idle": "2023-10-11T21:49:32.847092Z",
     "shell.execute_reply": "2023-10-11T21:49:32.845935Z",
     "shell.execute_reply.started": "2023-10-11T21:49:32.675985Z"
    },
    "id": "0Wi-syovTngg",
    "outputId": "a91ff71c-92e0-40ac-969d-ff0ef24cb3cc"
   },
   "outputs": [
    {
     "data": {
      "text/plain": [
       "<AxesSubplot: ylabel='region'>"
      ]
     },
     "execution_count": 68,
     "metadata": {},
     "output_type": "execute_result"
    },
    {
     "data": {
      "image/png": "[encoded data removed]",
      "text/plain": [
       "<Figure size 432x288 with 1 Axes>"
      ]
     },
     "metadata": {},
     "output_type": "display_data"
    }
   ],
   "source": [
    "df_train['region'].value_counts().plot(kind='pie',autopct='%0.1f%%')"
   ]
  },
  {
   "cell_type": "code",
   "execution_count": 69,
   "metadata": {
    "execution": {
     "iopub.execute_input": "2023-10-11T21:49:32.850261Z",
     "iopub.status.busy": "2023-10-11T21:49:32.848738Z",
     "iopub.status.idle": "2023-10-11T21:49:32.885065Z",
     "shell.execute_reply": "2023-10-11T21:49:32.883715Z",
     "shell.execute_reply.started": "2023-10-11T21:49:32.85021Z"
    },
    "id": "0s4tzk5oTvKL",
    "outputId": "62defad3-0d3b-4060-f55e-3aa11156d29b"
   },
   "outputs": [
    {
     "data": {
      "text/html": [
       "<div>\n",
       "<style scoped>\n",
       "    .dataframe tbody tr th:only-of-type {\n",
       "        vertical-align: middle;\n",
       "    }\n",
       "\n",
       "    .dataframe tbody tr th {\n",
       "        vertical-align: top;\n",
       "    }\n",
       "\n",
       "    .dataframe thead th {\n",
       "        text-align: right;\n",
       "    }\n",
       "</style>\n",
       "<table border=\"1\" class=\"dataframe\">\n",
       "  <thead>\n",
       "    <tr style=\"text-align: right;\">\n",
       "      <th></th>\n",
       "      <th>PatientID</th>\n",
       "      <th>age</th>\n",
       "      <th>gender</th>\n",
       "      <th>bmi</th>\n",
       "      <th>bloodpressure</th>\n",
       "      <th>diabetic</th>\n",
       "      <th>children</th>\n",
       "      <th>smoker</th>\n",
       "      <th>region</th>\n",
       "      <th>claim</th>\n",
       "      <th>age_category</th>\n",
       "      <th>bmi_category</th>\n",
       "      <th>bp_category</th>\n",
       "    </tr>\n",
       "  </thead>\n",
       "  <tbody>\n",
       "    <tr>\n",
       "      <th>1258</th>\n",
       "      <td>1259</td>\n",
       "      <td>38.0</td>\n",
       "      <td>female</td>\n",
       "      <td>34.8</td>\n",
       "      <td>132</td>\n",
       "      <td>No</td>\n",
       "      <td>2</td>\n",
       "      <td>Yes</td>\n",
       "      <td>southwest</td>\n",
       "      <td>39836.52</td>\n",
       "      <td>Adults</td>\n",
       "      <td>Obese</td>\n",
       "      <td>fatal</td>\n",
       "    </tr>\n",
       "    <tr>\n",
       "      <th>615</th>\n",
       "      <td>616</td>\n",
       "      <td>54.0</td>\n",
       "      <td>female</td>\n",
       "      <td>29.4</td>\n",
       "      <td>96</td>\n",
       "      <td>Yes</td>\n",
       "      <td>1</td>\n",
       "      <td>No</td>\n",
       "      <td>southeast</td>\n",
       "      <td>8547.69</td>\n",
       "      <td>Senior adults</td>\n",
       "      <td>Overweight</td>\n",
       "      <td>High</td>\n",
       "    </tr>\n",
       "    <tr>\n",
       "      <th>483</th>\n",
       "      <td>484</td>\n",
       "      <td>48.0</td>\n",
       "      <td>male</td>\n",
       "      <td>42.4</td>\n",
       "      <td>92</td>\n",
       "      <td>Yes</td>\n",
       "      <td>5</td>\n",
       "      <td>No</td>\n",
       "      <td>southwest</td>\n",
       "      <td>6666.24</td>\n",
       "      <td>Senior adults</td>\n",
       "      <td>Very Obese</td>\n",
       "      <td>High</td>\n",
       "    </tr>\n",
       "    <tr>\n",
       "      <th>869</th>\n",
       "      <td>870</td>\n",
       "      <td>40.0</td>\n",
       "      <td>male</td>\n",
       "      <td>37.1</td>\n",
       "      <td>84</td>\n",
       "      <td>Yes</td>\n",
       "      <td>1</td>\n",
       "      <td>No</td>\n",
       "      <td>southwest</td>\n",
       "      <td>12347.17</td>\n",
       "      <td>Senior adults</td>\n",
       "      <td>Obese</td>\n",
       "      <td>elevated</td>\n",
       "    </tr>\n",
       "    <tr>\n",
       "      <th>236</th>\n",
       "      <td>237</td>\n",
       "      <td>59.0</td>\n",
       "      <td>female</td>\n",
       "      <td>34.8</td>\n",
       "      <td>85</td>\n",
       "      <td>Yes</td>\n",
       "      <td>0</td>\n",
       "      <td>No</td>\n",
       "      <td>northwest</td>\n",
       "      <td>3556.92</td>\n",
       "      <td>Senior adults</td>\n",
       "      <td>Obese</td>\n",
       "      <td>elevated</td>\n",
       "    </tr>\n",
       "  </tbody>\n",
       "</table>\n",
       "</div>"
      ],
      "text/plain": [
       "      PatientID   age  gender   bmi  bloodpressure diabetic  children smoker  \\\n",
       "1258       1259  38.0  female  34.8            132       No         2    Yes   \n",
       "615         616  54.0  female  29.4             96      Yes         1     No   \n",
       "483         484  48.0    male  42.4             92      Yes         5     No   \n",
       "869         870  40.0    male  37.1             84      Yes         1     No   \n",
       "236         237  59.0  female  34.8             85      Yes         0     No   \n",
       "\n",
       "         region     claim   age_category bmi_category bp_category  \n",
       "1258  southwest  39836.52         Adults        Obese       fatal  \n",
       "615   southeast   8547.69  Senior adults   Overweight        High  \n",
       "483   southwest   6666.24  Senior adults   Very Obese        High  \n",
       "869   southwest  12347.17  Senior adults        Obese    elevated  \n",
       "236   northwest   3556.92  Senior adults        Obese    elevated  "
      ]
     },
     "execution_count": 69,
     "metadata": {},
     "output_type": "execute_result"
    }
   ],
   "source": [
    "df_train.sample(5)"
   ]
  },
  {
   "cell_type": "markdown",
   "metadata": {
    "id": "3jKnNzmqiiu1"
   },
   "source": [
    "# BiVARIATE ANALYSIS:"
   ]
  },
  {
   "cell_type": "markdown",
   "metadata": {
    "id": "EDTFt6I-MCiQ"
   },
   "source": [
    "## Numerical vs Numerical"
   ]
  },
  {
   "cell_type": "code",
   "execution_count": 70,
   "metadata": {
    "execution": {
     "iopub.execute_input": "2023-10-11T21:49:32.888235Z",
     "iopub.status.busy": "2023-10-11T21:49:32.886689Z",
     "iopub.status.idle": "2023-10-11T21:49:33.18936Z",
     "shell.execute_reply": "2023-10-11T21:49:33.188211Z",
     "shell.execute_reply.started": "2023-10-11T21:49:32.888181Z"
    },
    "id": "EkB2Se6WKYyH",
    "outputId": "dba2a243-a32e-4aad-d189-1cee2445ab70"
   },
   "outputs": [
    {
     "data": {
      "image/png": "[encoded data removed]",
      "text/plain": [
       "<Figure size 432x288 with 1 Axes>"
      ]
     },
     "metadata": {
      "needs_background": "light"
     },
     "output_type": "display_data"
    }
   ],
   "source": [
    "plt.scatter(df_train['age'],df_train['bmi'])\n",
    "plt.title('age VS bmi relation')\n",
    "plt.show()"
   ]
  },
  {
   "cell_type": "markdown",
   "metadata": {
    "id": "zdOASsSwJbyM"
   },
   "source": [
    "### bloodpressure vs claim:"
   ]
  },
  {
   "cell_type": "markdown",
   "metadata": {
    "id": "9n7eqrkcJf2J"
   },
   "source": [
    "correlation between bloodpressure and claim is 0.53 so they are most related with respect to heatmap"
   ]
  },
  {
   "cell_type": "markdown",
   "metadata": {
    "id": "-K43Eo79Jx-J"
   },
   "source": [
    "finding:\n",
    "\n",
    "\n",
    "      -> people having hypertension on stage 1 have low claim and they're in majority\n",
    "      -> some people having fatal hypertension have high claim so high bloospressure can cause high claim"
   ]
  },
  {
   "cell_type": "code",
   "execution_count": 71,
   "metadata": {
    "execution": {
     "iopub.execute_input": "2023-10-11T21:49:33.192822Z",
     "iopub.status.busy": "2023-10-11T21:49:33.191462Z",
     "iopub.status.idle": "2023-10-11T21:49:33.494818Z",
     "shell.execute_reply": "2023-10-11T21:49:33.493282Z",
     "shell.execute_reply.started": "2023-10-11T21:49:33.192773Z"
    },
    "id": "2TOigeqbOgb0",
    "outputId": "539aa203-f33b-4e63-ffa8-130c23bcab08"
   },
   "outputs": [
    {
     "data": {
      "image/png": "[encoded data removed]",
      "text/plain": [
       "<Figure size 432x288 with 1 Axes>"
      ]
     },
     "metadata": {
      "needs_background": "light"
     },
     "output_type": "display_data"
    }
   ],
   "source": [
    "plt.scatter(df_train['bloodpressure'],df_train['claim'])\n",
    "plt.title('bloodpressure vs claim')\n",
    "plt.show()"
   ]
  },
  {
   "cell_type": "markdown",
   "metadata": {
    "id": "bBGiLHnbKHQl"
   },
   "source": [
    "### claim vs bp_category:"
   ]
  },
  {
   "cell_type": "markdown",
   "metadata": {
    "id": "Wp3YrYDRLqtV"
   },
   "source": [
    "### finding:\n",
    "->persons having fatal bp i.e severe hypertension have high claim so high bp caused high claim"
   ]
  },
  {
   "cell_type": "code",
   "execution_count": 72,
   "metadata": {
    "execution": {
     "iopub.execute_input": "2023-10-11T21:49:33.49768Z",
     "iopub.status.busy": "2023-10-11T21:49:33.497147Z",
     "iopub.status.idle": "2023-10-11T21:49:33.831351Z",
     "shell.execute_reply": "2023-10-11T21:49:33.829812Z",
     "shell.execute_reply.started": "2023-10-11T21:49:33.497636Z"
    },
    "id": "FaOPRhjVKPbX",
    "outputId": "c2f7289d-3338-45bd-90ac-a28510baafaf"
   },
   "outputs": [
    {
     "data": {
      "image/png": "[encoded data removed]",
      "text/plain": [
       "<Figure size 432x288 with 1 Axes>"
      ]
     },
     "metadata": {
      "needs_background": "light"
     },
     "output_type": "display_data"
    }
   ],
   "source": [
    "sns.barplot(x=df_train['bp_category'],y=df_train['claim'])\n",
    "plt.xlabel('bp_category')\n",
    "plt.ylabel('claim')\n",
    "plt.show()"
   ]
  },
  {
   "cell_type": "markdown",
   "metadata": {
    "id": "X6q7_KJPSLDn"
   },
   "source": [
    "### age and claim"
   ]
  },
  {
   "cell_type": "markdown",
   "metadata": {
    "id": "Uz-IJp-DT5sI"
   },
   "source": [
    "no relation as corr is only 0.2 AND graphs are constant too"
   ]
  },
  {
   "cell_type": "code",
   "execution_count": 73,
   "metadata": {
    "execution": {
     "iopub.execute_input": "2023-10-11T21:49:33.834589Z",
     "iopub.status.busy": "2023-10-11T21:49:33.833768Z",
     "iopub.status.idle": "2023-10-11T21:49:34.085376Z",
     "shell.execute_reply": "2023-10-11T21:49:34.08373Z",
     "shell.execute_reply.started": "2023-10-11T21:49:33.834535Z"
    },
    "id": "QKfQKC6EQaCp",
    "outputId": "93a78d97-650b-435f-95ed-65fe65eb7fd2"
   },
   "outputs": [
    {
     "data": {
      "image/png": "[encoded data removed]",
      "text/plain": [
       "<Figure size 432x288 with 1 Axes>"
      ]
     },
     "metadata": {
      "needs_background": "light"
     },
     "output_type": "display_data"
    }
   ],
   "source": [
    "plt.scatter(df_train['age'],df_train['claim'])\n",
    "plt.show()"
   ]
  },
  {
   "cell_type": "code",
   "execution_count": 74,
   "metadata": {
    "execution": {
     "iopub.execute_input": "2023-10-11T21:49:34.08729Z",
     "iopub.status.busy": "2023-10-11T21:49:34.086951Z",
     "iopub.status.idle": "2023-10-11T21:49:34.097213Z",
     "shell.execute_reply": "2023-10-11T21:49:34.095994Z",
     "shell.execute_reply.started": "2023-10-11T21:49:34.08726Z"
    },
    "id": "4n8p3zlVMzo2",
    "outputId": "51af7ffa-7769-4ffc-ace9-50268adbf53a"
   },
   "outputs": [
    {
     "data": {
      "text/plain": [
       "-0.028579665479836713"
      ]
     },
     "execution_count": 74,
     "metadata": {},
     "output_type": "execute_result"
    }
   ],
   "source": [
    "correlation = df_train['claim'].corr(df_train['age'])\n",
    "correlation"
   ]
  },
  {
   "cell_type": "markdown",
   "metadata": {
    "id": "aGfQAkBUvwqE"
   },
   "source": [
    "### Gender vs bloodpressure:"
   ]
  },
  {
   "cell_type": "code",
   "execution_count": 75,
   "metadata": {
    "execution": {
     "iopub.execute_input": "2023-10-11T21:49:34.099183Z",
     "iopub.status.busy": "2023-10-11T21:49:34.098783Z",
     "iopub.status.idle": "2023-10-11T21:49:34.398022Z",
     "shell.execute_reply": "2023-10-11T21:49:34.396358Z",
     "shell.execute_reply.started": "2023-10-11T21:49:34.099106Z"
    },
    "id": "UTjAUjaLTSZ6",
    "outputId": "39445a79-193a-4236-e49a-35fd8b4a1599"
   },
   "outputs": [
    {
     "data": {
      "image/png": "[encoded data removed]",
      "text/plain": [
       "<Figure size 432x288 with 1 Axes>"
      ]
     },
     "metadata": {
      "needs_background": "light"
     },
     "output_type": "display_data"
    }
   ],
   "source": [
    "## plotting a barplot to find which gender had the fatal hypertension\n",
    "sns.barplot(x=df_train['gender'],y=df_train['bloodpressure'])\n",
    "plt.xlabel('gender')\n",
    "plt.ylabel('bloodpressure')\n",
    "plt.title('gender vs bloodpressure')\n",
    "plt.show()"
   ]
  },
  {
   "cell_type": "markdown",
   "metadata": {
    "id": "Y89R9X64xqnK"
   },
   "source": [
    "### gender vs bmi_category"
   ]
  },
  {
   "cell_type": "code",
   "execution_count": 76,
   "metadata": {
    "execution": {
     "iopub.execute_input": "2023-10-11T21:49:34.400746Z",
     "iopub.status.busy": "2023-10-11T21:49:34.400342Z",
     "iopub.status.idle": "2023-10-11T21:49:34.4234Z",
     "shell.execute_reply": "2023-10-11T21:49:34.421805Z",
     "shell.execute_reply.started": "2023-10-11T21:49:34.400717Z"
    },
    "id": "iXLR91KDxgI5",
    "outputId": "19a11518-eff1-4d70-c316-13c7012502e3"
   },
   "outputs": [
    {
     "name": "stdout",
     "output_type": "stream",
     "text": [
      "bmi_category   Healthy     Obese  Overweight  Underweight  Very Obese\n",
      "gender                                                               \n",
      "female        0.085266  0.219147    0.142857     0.008975    0.038893\n",
      "male          0.079282  0.240090    0.137622     0.005984    0.041885\n"
     ]
    }
   ],
   "source": [
    "table = pd.crosstab(df_train['gender'],df_train['bmi_category'],normalize=True)\n",
    "print(table)"
   ]
  },
  {
   "cell_type": "markdown",
   "metadata": {
    "id": "rKBeSr0Gycfp"
   },
   "source": [
    "### finding:\n",
    " there is no much difference in male and female bmi_categories which means almost each categories has same amount of distribution of male and female"
   ]
  },
  {
   "cell_type": "markdown",
   "metadata": {
    "id": "Jhuq9j_wcOvE"
   },
   "source": [
    "## smoker vs bp_category:"
   ]
  },
  {
   "cell_type": "code",
   "execution_count": 77,
   "metadata": {
    "execution": {
     "iopub.execute_input": "2023-10-11T21:49:34.425195Z",
     "iopub.status.busy": "2023-10-11T21:49:34.424896Z",
     "iopub.status.idle": "2023-10-11T21:49:34.435015Z",
     "shell.execute_reply": "2023-10-11T21:49:34.433355Z",
     "shell.execute_reply.started": "2023-10-11T21:49:34.425171Z"
    },
    "id": "Bzg3JaTFcTdn",
    "outputId": "23cb3b1c-c5de-4791-842c-51bb35c01ede"
   },
   "outputs": [
    {
     "data": {
      "text/plain": [
       "No     1063\n",
       "Yes     274\n",
       "Name: smoker, dtype: int64"
      ]
     },
     "execution_count": 77,
     "metadata": {},
     "output_type": "execute_result"
    }
   ],
   "source": [
    "\n",
    "smoker_count= df_train['smoker'].value_counts()\n",
    "smoker_count"
   ]
  },
  {
   "cell_type": "code",
   "execution_count": 78,
   "metadata": {
    "execution": {
     "iopub.execute_input": "2023-10-11T21:49:34.437735Z",
     "iopub.status.busy": "2023-10-11T21:49:34.437249Z",
     "iopub.status.idle": "2023-10-11T21:49:34.464815Z",
     "shell.execute_reply": "2023-10-11T21:49:34.463914Z",
     "shell.execute_reply.started": "2023-10-11T21:49:34.437695Z"
    },
    "id": "XRgtnyYhcwnu",
    "outputId": "c4afe7f2-a181-4b3a-83e3-47af10620484"
   },
   "outputs": [
    {
     "data": {
      "text/html": [
       "<div>\n",
       "<style scoped>\n",
       "    .dataframe tbody tr th:only-of-type {\n",
       "        vertical-align: middle;\n",
       "    }\n",
       "\n",
       "    .dataframe tbody tr th {\n",
       "        vertical-align: top;\n",
       "    }\n",
       "\n",
       "    .dataframe thead th {\n",
       "        text-align: right;\n",
       "    }\n",
       "</style>\n",
       "<table border=\"1\" class=\"dataframe\">\n",
       "  <thead>\n",
       "    <tr style=\"text-align: right;\">\n",
       "      <th>bp_category</th>\n",
       "      <th>High</th>\n",
       "      <th>elevated</th>\n",
       "      <th>extremely high</th>\n",
       "      <th>fatal</th>\n",
       "    </tr>\n",
       "    <tr>\n",
       "      <th>smoker</th>\n",
       "      <th></th>\n",
       "      <th></th>\n",
       "      <th></th>\n",
       "      <th></th>\n",
       "    </tr>\n",
       "  </thead>\n",
       "  <tbody>\n",
       "    <tr>\n",
       "      <th>No</th>\n",
       "      <td>0.326851</td>\n",
       "      <td>0.305909</td>\n",
       "      <td>0.118175</td>\n",
       "      <td>0.044129</td>\n",
       "    </tr>\n",
       "    <tr>\n",
       "      <th>Yes</th>\n",
       "      <td>0.045625</td>\n",
       "      <td>0.043381</td>\n",
       "      <td>0.072550</td>\n",
       "      <td>0.043381</td>\n",
       "    </tr>\n",
       "  </tbody>\n",
       "</table>\n",
       "</div>"
      ],
      "text/plain": [
       "bp_category      High  elevated  extremely high     fatal\n",
       "smoker                                                   \n",
       "No           0.326851  0.305909        0.118175  0.044129\n",
       "Yes          0.045625  0.043381        0.072550  0.043381"
      ]
     },
     "execution_count": 78,
     "metadata": {},
     "output_type": "execute_result"
    }
   ],
   "source": [
    "pd.crosstab(df_train['smoker'],df_train['bp_category'],normalize=True)"
   ]
  },
  {
   "cell_type": "markdown",
   "metadata": {
    "id": "iAnVxM5azHQo"
   },
   "source": [
    "## diabetic vs claim:"
   ]
  },
  {
   "cell_type": "markdown",
   "metadata": {
    "id": "SJuHDOqIGYk4"
   },
   "source": [
    " Finding:\n",
    "\n",
    " Both diabetic and non-diabetic individuals show an equal distribution of claims, suggesting that diabetes does not appear to be a significant factor in determining claim frequency.\""
   ]
  },
  {
   "cell_type": "code",
   "execution_count": 79,
   "metadata": {
    "execution": {
     "iopub.execute_input": "2023-10-11T21:49:34.473894Z",
     "iopub.status.busy": "2023-10-11T21:49:34.47328Z",
     "iopub.status.idle": "2023-10-11T21:49:34.481306Z",
     "shell.execute_reply": "2023-10-11T21:49:34.480495Z",
     "shell.execute_reply.started": "2023-10-11T21:49:34.473849Z"
    },
    "id": "a2FYIlRxyOrI",
    "outputId": "82a39ca2-dc7b-4ec1-ba43-11268cff49ef"
   },
   "outputs": [
    {
     "data": {
      "text/plain": [
       "No     697\n",
       "Yes    640\n",
       "Name: diabetic, dtype: int64"
      ]
     },
     "execution_count": 79,
     "metadata": {},
     "output_type": "execute_result"
    }
   ],
   "source": [
    "\n",
    "diabetic_count= df_train['diabetic'].value_counts()\n",
    "diabetic_count"
   ]
  },
  {
   "cell_type": "code",
   "execution_count": 80,
   "metadata": {
    "execution": {
     "iopub.execute_input": "2023-10-11T21:49:34.483538Z",
     "iopub.status.busy": "2023-10-11T21:49:34.483213Z",
     "iopub.status.idle": "2023-10-11T21:49:34.77702Z",
     "shell.execute_reply": "2023-10-11T21:49:34.775682Z",
     "shell.execute_reply.started": "2023-10-11T21:49:34.483495Z"
    },
    "id": "poECRcaJzcs1",
    "outputId": "1fcf6f3b-49d7-4d12-ed89-30c5a0d73fa8"
   },
   "outputs": [
    {
     "data": {
      "text/plain": [
       "<AxesSubplot: xlabel='diabetic', ylabel='claim'>"
      ]
     },
     "execution_count": 80,
     "metadata": {},
     "output_type": "execute_result"
    },
    {
     "data": {
      "image/png": "[encoded data removed]",
      "text/plain": [
       "<Figure size 432x288 with 1 Axes>"
      ]
     },
     "metadata": {
      "needs_background": "light"
     },
     "output_type": "display_data"
    }
   ],
   "source": [
    "sns.barplot(x=df_train['diabetic'],y=df_train['claim'])"
   ]
  },
  {
   "cell_type": "markdown",
   "metadata": {
    "id": "TNSLpxMCdCPm"
   },
   "source": []
  },
  {
   "cell_type": "markdown",
   "metadata": {
    "id": "vOw0PvlMHV13"
   },
   "source": [
    "### bmi vs diabetic"
   ]
  },
  {
   "cell_type": "markdown",
   "metadata": {
    "id": "Sz2lUpNjJJQj"
   },
   "source": [
    "### finding: diabetes is not affecting bmi"
   ]
  },
  {
   "cell_type": "code",
   "execution_count": 81,
   "metadata": {
    "execution": {
     "iopub.execute_input": "2023-10-11T21:49:34.779229Z",
     "iopub.status.busy": "2023-10-11T21:49:34.778938Z",
     "iopub.status.idle": "2023-10-11T21:49:35.062425Z",
     "shell.execute_reply": "2023-10-11T21:49:35.061225Z",
     "shell.execute_reply.started": "2023-10-11T21:49:34.779204Z"
    },
    "id": "6F5as8vSz231",
    "outputId": "0ad0e9b2-34d1-4660-aab8-7210d8642a8a"
   },
   "outputs": [
    {
     "data": {
      "image/png": "[encoded data removed]",
      "text/plain": [
       "<Figure size 432x288 with 1 Axes>"
      ]
     },
     "metadata": {
      "needs_background": "light"
     },
     "output_type": "display_data"
    }
   ],
   "source": [
    "sns.barplot(x=df_train['diabetic'],y=df_train['bmi'])\n",
    "plt.xlabel('diabetic')\n",
    "plt.ylabel('bmi')\n",
    "plt.title('bmi vs diabetic')\n",
    "plt.show()"
   ]
  },
  {
   "cell_type": "code",
   "execution_count": 82,
   "metadata": {
    "execution": {
     "iopub.execute_input": "2023-10-11T21:49:35.064591Z",
     "iopub.status.busy": "2023-10-11T21:49:35.064232Z",
     "iopub.status.idle": "2023-10-11T21:49:35.08848Z",
     "shell.execute_reply": "2023-10-11T21:49:35.08747Z",
     "shell.execute_reply.started": "2023-10-11T21:49:35.064551Z"
    },
    "id": "jCtE_w8LIA-L",
    "outputId": "4e2df521-13d4-4e55-d1d2-1fe7217ff888"
   },
   "outputs": [
    {
     "data": {
      "text/html": [
       "<div>\n",
       "<style scoped>\n",
       "    .dataframe tbody tr th:only-of-type {\n",
       "        vertical-align: middle;\n",
       "    }\n",
       "\n",
       "    .dataframe tbody tr th {\n",
       "        vertical-align: top;\n",
       "    }\n",
       "\n",
       "    .dataframe thead th {\n",
       "        text-align: right;\n",
       "    }\n",
       "</style>\n",
       "<table border=\"1\" class=\"dataframe\">\n",
       "  <thead>\n",
       "    <tr style=\"text-align: right;\">\n",
       "      <th>bmi_category</th>\n",
       "      <th>Healthy</th>\n",
       "      <th>Obese</th>\n",
       "      <th>Overweight</th>\n",
       "      <th>Underweight</th>\n",
       "      <th>Very Obese</th>\n",
       "    </tr>\n",
       "    <tr>\n",
       "      <th>diabetic</th>\n",
       "      <th></th>\n",
       "      <th></th>\n",
       "      <th></th>\n",
       "      <th></th>\n",
       "      <th></th>\n",
       "    </tr>\n",
       "  </thead>\n",
       "  <tbody>\n",
       "    <tr>\n",
       "      <th>No</th>\n",
       "      <td>0.077038</td>\n",
       "      <td>0.242334</td>\n",
       "      <td>0.148841</td>\n",
       "      <td>0.007479</td>\n",
       "      <td>0.045625</td>\n",
       "    </tr>\n",
       "    <tr>\n",
       "      <th>Yes</th>\n",
       "      <td>0.087509</td>\n",
       "      <td>0.216904</td>\n",
       "      <td>0.131638</td>\n",
       "      <td>0.007479</td>\n",
       "      <td>0.035153</td>\n",
       "    </tr>\n",
       "  </tbody>\n",
       "</table>\n",
       "</div>"
      ],
      "text/plain": [
       "bmi_category   Healthy     Obese  Overweight  Underweight  Very Obese\n",
       "diabetic                                                             \n",
       "No            0.077038  0.242334    0.148841     0.007479    0.045625\n",
       "Yes           0.087509  0.216904    0.131638     0.007479    0.035153"
      ]
     },
     "execution_count": 82,
     "metadata": {},
     "output_type": "execute_result"
    }
   ],
   "source": [
    "pd.crosstab(df_train['diabetic'],df_train['bmi_category'],normalize=True)"
   ]
  },
  {
   "cell_type": "code",
   "execution_count": 83,
   "metadata": {
    "execution": {
     "iopub.execute_input": "2023-10-11T21:49:35.091379Z",
     "iopub.status.busy": "2023-10-11T21:49:35.089978Z",
     "iopub.status.idle": "2023-10-11T21:49:35.110891Z",
     "shell.execute_reply": "2023-10-11T21:49:35.109076Z",
     "shell.execute_reply.started": "2023-10-11T21:49:35.09133Z"
    },
    "id": "q8ZCfIUAI1Gc",
    "outputId": "2bf8fdc1-7230-47ff-c96f-d006d6e99447"
   },
   "outputs": [
    {
     "data": {
      "text/html": [
       "<div>\n",
       "<style scoped>\n",
       "    .dataframe tbody tr th:only-of-type {\n",
       "        vertical-align: middle;\n",
       "    }\n",
       "\n",
       "    .dataframe tbody tr th {\n",
       "        vertical-align: top;\n",
       "    }\n",
       "\n",
       "    .dataframe thead th {\n",
       "        text-align: right;\n",
       "    }\n",
       "</style>\n",
       "<table border=\"1\" class=\"dataframe\">\n",
       "  <thead>\n",
       "    <tr style=\"text-align: right;\">\n",
       "      <th></th>\n",
       "      <th>PatientID</th>\n",
       "      <th>age</th>\n",
       "      <th>gender</th>\n",
       "      <th>bmi</th>\n",
       "      <th>bloodpressure</th>\n",
       "      <th>diabetic</th>\n",
       "      <th>children</th>\n",
       "      <th>smoker</th>\n",
       "      <th>region</th>\n",
       "      <th>claim</th>\n",
       "      <th>age_category</th>\n",
       "      <th>bmi_category</th>\n",
       "      <th>bp_category</th>\n",
       "    </tr>\n",
       "  </thead>\n",
       "  <tbody>\n",
       "    <tr>\n",
       "      <th>232</th>\n",
       "      <td>233</td>\n",
       "      <td>49.0</td>\n",
       "      <td>male</td>\n",
       "      <td>32.5</td>\n",
       "      <td>93</td>\n",
       "      <td>Yes</td>\n",
       "      <td>1</td>\n",
       "      <td>No</td>\n",
       "      <td>southeast</td>\n",
       "      <td>3490.55</td>\n",
       "      <td>Senior adults</td>\n",
       "      <td>Obese</td>\n",
       "      <td>High</td>\n",
       "    </tr>\n",
       "    <tr>\n",
       "      <th>1149</th>\n",
       "      <td>1150</td>\n",
       "      <td>57.0</td>\n",
       "      <td>female</td>\n",
       "      <td>24.4</td>\n",
       "      <td>104</td>\n",
       "      <td>Yes</td>\n",
       "      <td>0</td>\n",
       "      <td>Yes</td>\n",
       "      <td>southeast</td>\n",
       "      <td>26125.67</td>\n",
       "      <td>Senior adults</td>\n",
       "      <td>Healthy</td>\n",
       "      <td>extremely high</td>\n",
       "    </tr>\n",
       "    <tr>\n",
       "      <th>1285</th>\n",
       "      <td>1286</td>\n",
       "      <td>49.0</td>\n",
       "      <td>male</td>\n",
       "      <td>34.2</td>\n",
       "      <td>98</td>\n",
       "      <td>Yes</td>\n",
       "      <td>2</td>\n",
       "      <td>Yes</td>\n",
       "      <td>southwest</td>\n",
       "      <td>42856.84</td>\n",
       "      <td>Senior adults</td>\n",
       "      <td>Obese</td>\n",
       "      <td>High</td>\n",
       "    </tr>\n",
       "    <tr>\n",
       "      <th>1250</th>\n",
       "      <td>1251</td>\n",
       "      <td>42.0</td>\n",
       "      <td>male</td>\n",
       "      <td>37.8</td>\n",
       "      <td>106</td>\n",
       "      <td>No</td>\n",
       "      <td>2</td>\n",
       "      <td>Yes</td>\n",
       "      <td>southwest</td>\n",
       "      <td>39241.44</td>\n",
       "      <td>Senior adults</td>\n",
       "      <td>Obese</td>\n",
       "      <td>extremely high</td>\n",
       "    </tr>\n",
       "    <tr>\n",
       "      <th>745</th>\n",
       "      <td>746</td>\n",
       "      <td>40.0</td>\n",
       "      <td>male</td>\n",
       "      <td>22.1</td>\n",
       "      <td>83</td>\n",
       "      <td>Yes</td>\n",
       "      <td>0</td>\n",
       "      <td>No</td>\n",
       "      <td>southwest</td>\n",
       "      <td>10577.09</td>\n",
       "      <td>Senior adults</td>\n",
       "      <td>Healthy</td>\n",
       "      <td>elevated</td>\n",
       "    </tr>\n",
       "  </tbody>\n",
       "</table>\n",
       "</div>"
      ],
      "text/plain": [
       "      PatientID   age  gender   bmi  bloodpressure diabetic  children smoker  \\\n",
       "232         233  49.0    male  32.5             93      Yes         1     No   \n",
       "1149       1150  57.0  female  24.4            104      Yes         0    Yes   \n",
       "1285       1286  49.0    male  34.2             98      Yes         2    Yes   \n",
       "1250       1251  42.0    male  37.8            106       No         2    Yes   \n",
       "745         746  40.0    male  22.1             83      Yes         0     No   \n",
       "\n",
       "         region     claim   age_category bmi_category     bp_category  \n",
       "232   southeast   3490.55  Senior adults        Obese            High  \n",
       "1149  southeast  26125.67  Senior adults      Healthy  extremely high  \n",
       "1285  southwest  42856.84  Senior adults        Obese            High  \n",
       "1250  southwest  39241.44  Senior adults        Obese  extremely high  \n",
       "745   southwest  10577.09  Senior adults      Healthy        elevated  "
      ]
     },
     "execution_count": 83,
     "metadata": {},
     "output_type": "execute_result"
    }
   ],
   "source": [
    "df_train.sample(5)"
   ]
  },
  {
   "cell_type": "markdown",
   "metadata": {
    "id": "2ewtwbOIOW6k"
   },
   "source": [
    "### Children vs claim:"
   ]
  },
  {
   "cell_type": "markdown",
   "metadata": {
    "id": "VmsItg4yQ8iS"
   },
   "source": [
    "### finding:\n",
    "        \n",
    "         -> so people having less children have more claim so we can say relation is inverse somehow"
   ]
  },
  {
   "cell_type": "code",
   "execution_count": 84,
   "metadata": {
    "execution": {
     "iopub.execute_input": "2023-10-11T21:49:35.113114Z",
     "iopub.status.busy": "2023-10-11T21:49:35.112664Z",
     "iopub.status.idle": "2023-10-11T21:49:35.377949Z",
     "shell.execute_reply": "2023-10-11T21:49:35.37649Z",
     "shell.execute_reply.started": "2023-10-11T21:49:35.113072Z"
    },
    "id": "KPgFj3S6OVJZ",
    "outputId": "02a3a25c-8839-4593-e0a8-664f4fc7107e"
   },
   "outputs": [
    {
     "data": {
      "image/png": "[encoded data removed]",
      "text/plain": [
       "<Figure size 432x288 with 1 Axes>"
      ]
     },
     "metadata": {
      "needs_background": "light"
     },
     "output_type": "display_data"
    }
   ],
   "source": [
    "plt.scatter(df_train['children'],df_train['claim'])\n",
    "plt.show()"
   ]
  },
  {
   "cell_type": "markdown",
   "metadata": {
    "id": "jrAPPn_gRmLZ"
   },
   "source": [
    "## Smoker vs Claim:"
   ]
  },
  {
   "cell_type": "markdown",
   "metadata": {
    "id": "RwNZpaD4Sat4"
   },
   "source": [
    "finding:\n",
    "\n",
    "-> smoker persons have high claim"
   ]
  },
  {
   "cell_type": "code",
   "execution_count": 85,
   "metadata": {
    "execution": {
     "iopub.execute_input": "2023-10-11T21:49:35.380312Z",
     "iopub.status.busy": "2023-10-11T21:49:35.379813Z",
     "iopub.status.idle": "2023-10-11T21:49:35.693488Z",
     "shell.execute_reply": "2023-10-11T21:49:35.690623Z",
     "shell.execute_reply.started": "2023-10-11T21:49:35.380269Z"
    },
    "id": "BKBP9eAHQGEu",
    "outputId": "82d793f9-97f6-4c38-b878-471a4f819bad"
   },
   "outputs": [
    {
     "data": {
      "image/png": "[encoded data removed]",
      "text/plain": [
       "<Figure size 432x288 with 1 Axes>"
      ]
     },
     "metadata": {
      "needs_background": "light"
     },
     "output_type": "display_data"
    }
   ],
   "source": [
    "sns.barplot(x=df_train['smoker'],y=df_train['claim'])\n",
    "plt.xlabel('Smoker')\n",
    "plt.ylabel('claim')\n",
    "plt.title('Smoker vs claim')\n",
    "plt.show()"
   ]
  },
  {
   "cell_type": "markdown",
   "metadata": {
    "id": "hkGg9SKkS-DI"
   },
   "source": [
    "## region vs claim:\n",
    "\n",
    "\n"
   ]
  },
  {
   "cell_type": "markdown",
   "metadata": {
    "id": "mrxBeSyYTYNi"
   },
   "source": [
    "### finding:\n",
    "     -> people from northeast have more claim  however only 17.3% people belong from northeast region"
   ]
  },
  {
   "cell_type": "code",
   "execution_count": 86,
   "metadata": {
    "execution": {
     "iopub.execute_input": "2023-10-11T21:49:35.696791Z",
     "iopub.status.busy": "2023-10-11T21:49:35.695403Z",
     "iopub.status.idle": "2023-10-11T21:49:36.077485Z",
     "shell.execute_reply": "2023-10-11T21:49:36.076127Z",
     "shell.execute_reply.started": "2023-10-11T21:49:35.696751Z"
    },
    "id": "NqymO-CUSKxu",
    "outputId": "bce727b5-dcab-41a5-8dfc-3033483f311e"
   },
   "outputs": [
    {
     "data": {
      "image/png": "[encoded data removed]",
      "text/plain": [
       "<Figure size 432x288 with 1 Axes>"
      ]
     },
     "metadata": {
      "needs_background": "light"
     },
     "output_type": "display_data"
    }
   ],
   "source": [
    "sns.barplot(x=df_train['region'],y=df_train['claim'])\n",
    "plt.xlabel('Region')\n",
    "plt.ylabel('claim')\n",
    "plt.title('Region vs claim')\n",
    "plt.show()"
   ]
  },
  {
   "cell_type": "markdown",
   "metadata": {
    "id": "BO1hMUtaVrPt"
   },
   "source": [
    "# Multivariate analysis:"
   ]
  },
  {
   "cell_type": "markdown",
   "metadata": {
    "id": "AjZEDnJNZ2_G"
   },
   "source": [
    "## Smoker vs gender vs claim"
   ]
  },
  {
   "cell_type": "markdown",
   "metadata": {
    "id": "l5kMA0SVaa4n"
   },
   "source": [
    "### finding:\n",
    "       ->  both male and female smokers have  higher claims than non smokers"
   ]
  },
  {
   "cell_type": "code",
   "execution_count": 87,
   "metadata": {
    "execution": {
     "iopub.execute_input": "2023-10-11T21:49:36.080387Z",
     "iopub.status.busy": "2023-10-11T21:49:36.079874Z",
     "iopub.status.idle": "2023-10-11T21:49:36.430349Z",
     "shell.execute_reply": "2023-10-11T21:49:36.429156Z",
     "shell.execute_reply.started": "2023-10-11T21:49:36.080345Z"
    },
    "id": "2GaUrqQyZ_s8",
    "outputId": "2d3e50ea-5f9c-4932-981d-8ab46910ca08"
   },
   "outputs": [
    {
     "data": {
      "image/png": "[encoded data removed]",
      "text/plain": [
       "<Figure size 432x288 with 1 Axes>"
      ]
     },
     "metadata": {
      "needs_background": "light"
     },
     "output_type": "display_data"
    }
   ],
   "source": [
    "sns.barplot(x=df_train['gender'],y=df_train['claim'],hue=df_train['smoker'])\n",
    "plt.legend()\n",
    "plt.show()"
   ]
  },
  {
   "cell_type": "markdown",
   "metadata": {
    "id": "GeM8xXQrbJuM"
   },
   "source": [
    "## bp_category vs smoker vs claim"
   ]
  },
  {
   "cell_type": "markdown",
   "metadata": {
    "id": "MyugJAOkbzra"
   },
   "source": [
    "## finding:\n",
    "       -> smoker peson having fatal hypertension have claimed the most"
   ]
  },
  {
   "cell_type": "code",
   "execution_count": 88,
   "metadata": {
    "execution": {
     "iopub.execute_input": "2023-10-11T21:49:36.434066Z",
     "iopub.status.busy": "2023-10-11T21:49:36.43355Z",
     "iopub.status.idle": "2023-10-11T21:49:36.879058Z",
     "shell.execute_reply": "2023-10-11T21:49:36.877616Z",
     "shell.execute_reply.started": "2023-10-11T21:49:36.434021Z"
    },
    "id": "qdJfn5HmTQXh",
    "outputId": "40c0edd5-084a-4328-cbb2-d0eb0428df9f"
   },
   "outputs": [
    {
     "data": {
      "image/png": "[encoded data removed]",
      "text/plain": [
       "<Figure size 432x288 with 1 Axes>"
      ]
     },
     "metadata": {
      "needs_background": "light"
     },
     "output_type": "display_data"
    }
   ],
   "source": [
    "sns.barplot(x=df_train['bp_category'],y=df_train['claim'],hue=df_train['smoker'])\n",
    "plt.legend()\n",
    "plt.show()"
   ]
  },
  {
   "cell_type": "code",
   "execution_count": 89,
   "metadata": {
    "execution": {
     "iopub.execute_input": "2023-10-11T21:49:36.880707Z",
     "iopub.status.busy": "2023-10-11T21:49:36.880351Z",
     "iopub.status.idle": "2023-10-11T21:49:36.898312Z",
     "shell.execute_reply": "2023-10-11T21:49:36.896716Z",
     "shell.execute_reply.started": "2023-10-11T21:49:36.880679Z"
    },
    "id": "QFgotFdBVkot",
    "outputId": "7d0b4e97-813a-4818-9496-a38ef7264ac4"
   },
   "outputs": [
    {
     "data": {
      "text/html": [
       "<div>\n",
       "<style scoped>\n",
       "    .dataframe tbody tr th:only-of-type {\n",
       "        vertical-align: middle;\n",
       "    }\n",
       "\n",
       "    .dataframe tbody tr th {\n",
       "        vertical-align: top;\n",
       "    }\n",
       "\n",
       "    .dataframe thead th {\n",
       "        text-align: right;\n",
       "    }\n",
       "</style>\n",
       "<table border=\"1\" class=\"dataframe\">\n",
       "  <thead>\n",
       "    <tr style=\"text-align: right;\">\n",
       "      <th></th>\n",
       "      <th>PatientID</th>\n",
       "      <th>age</th>\n",
       "      <th>gender</th>\n",
       "      <th>bmi</th>\n",
       "      <th>bloodpressure</th>\n",
       "      <th>diabetic</th>\n",
       "      <th>children</th>\n",
       "      <th>smoker</th>\n",
       "      <th>region</th>\n",
       "      <th>claim</th>\n",
       "      <th>age_category</th>\n",
       "      <th>bmi_category</th>\n",
       "      <th>bp_category</th>\n",
       "    </tr>\n",
       "  </thead>\n",
       "  <tbody>\n",
       "    <tr>\n",
       "      <th>729</th>\n",
       "      <td>730</td>\n",
       "      <td>31.0</td>\n",
       "      <td>male</td>\n",
       "      <td>28.7</td>\n",
       "      <td>107</td>\n",
       "      <td>Yes</td>\n",
       "      <td>3</td>\n",
       "      <td>No</td>\n",
       "      <td>northwest</td>\n",
       "      <td>10264.44</td>\n",
       "      <td>Adults</td>\n",
       "      <td>Overweight</td>\n",
       "      <td>extremely high</td>\n",
       "    </tr>\n",
       "    <tr>\n",
       "      <th>841</th>\n",
       "      <td>842</td>\n",
       "      <td>23.0</td>\n",
       "      <td>male</td>\n",
       "      <td>21.8</td>\n",
       "      <td>92</td>\n",
       "      <td>No</td>\n",
       "      <td>2</td>\n",
       "      <td>No</td>\n",
       "      <td>southeast</td>\n",
       "      <td>11884.05</td>\n",
       "      <td>Young adult</td>\n",
       "      <td>Healthy</td>\n",
       "      <td>High</td>\n",
       "    </tr>\n",
       "    <tr>\n",
       "      <th>345</th>\n",
       "      <td>346</td>\n",
       "      <td>33.0</td>\n",
       "      <td>male</td>\n",
       "      <td>18.9</td>\n",
       "      <td>87</td>\n",
       "      <td>Yes</td>\n",
       "      <td>3</td>\n",
       "      <td>No</td>\n",
       "      <td>southeast</td>\n",
       "      <td>4827.90</td>\n",
       "      <td>Adults</td>\n",
       "      <td>Healthy</td>\n",
       "      <td>elevated</td>\n",
       "    </tr>\n",
       "    <tr>\n",
       "      <th>756</th>\n",
       "      <td>757</td>\n",
       "      <td>26.0</td>\n",
       "      <td>male</td>\n",
       "      <td>35.6</td>\n",
       "      <td>106</td>\n",
       "      <td>Yes</td>\n",
       "      <td>4</td>\n",
       "      <td>No</td>\n",
       "      <td>northeast</td>\n",
       "      <td>10736.87</td>\n",
       "      <td>Adults</td>\n",
       "      <td>Obese</td>\n",
       "      <td>extremely high</td>\n",
       "    </tr>\n",
       "  </tbody>\n",
       "</table>\n",
       "</div>"
      ],
      "text/plain": [
       "     PatientID   age gender   bmi  bloodpressure diabetic  children smoker  \\\n",
       "729        730  31.0   male  28.7            107      Yes         3     No   \n",
       "841        842  23.0   male  21.8             92       No         2     No   \n",
       "345        346  33.0   male  18.9             87      Yes         3     No   \n",
       "756        757  26.0   male  35.6            106      Yes         4     No   \n",
       "\n",
       "        region     claim age_category bmi_category     bp_category  \n",
       "729  northwest  10264.44       Adults   Overweight  extremely high  \n",
       "841  southeast  11884.05  Young adult      Healthy            High  \n",
       "345  southeast   4827.90       Adults      Healthy        elevated  \n",
       "756  northeast  10736.87       Adults        Obese  extremely high  "
      ]
     },
     "execution_count": 89,
     "metadata": {},
     "output_type": "execute_result"
    }
   ],
   "source": [
    "df_train.sample(4)"
   ]
  },
  {
   "cell_type": "markdown",
   "metadata": {
    "id": "ZbgmSyy6dsSH"
   },
   "source": [
    "## diabetic vs smoker vs claim"
   ]
  },
  {
   "cell_type": "markdown",
   "metadata": {
    "id": "11mD5MkseELL"
   },
   "source": [
    "###finding:\n",
    "     -> diabetic and non diabetic smokers both have high claim and diabetic or  \n",
    "      non diabetic non smokers have low claim so diabetes didnt affect claim"
   ]
  },
  {
   "cell_type": "code",
   "execution_count": 90,
   "metadata": {
    "execution": {
     "iopub.execute_input": "2023-10-11T21:49:36.900429Z",
     "iopub.status.busy": "2023-10-11T21:49:36.899909Z",
     "iopub.status.idle": "2023-10-11T21:49:37.260146Z",
     "shell.execute_reply": "2023-10-11T21:49:37.258733Z",
     "shell.execute_reply.started": "2023-10-11T21:49:36.900387Z"
    },
    "id": "bY5TE3lDdlLZ",
    "outputId": "5639752c-c30d-4eec-98af-6080e0436a27"
   },
   "outputs": [
    {
     "data": {
      "image/png": "[encoded data removed]",
      "text/plain": [
       "<Figure size 432x288 with 1 Axes>"
      ]
     },
     "metadata": {
      "needs_background": "light"
     },
     "output_type": "display_data"
    }
   ],
   "source": [
    "sns.barplot(x=df_train['diabetic'],y=df_train['claim'],hue=df_train['smoker'])\n",
    "plt.legend()\n",
    "plt.show()"
   ]
  },
  {
   "cell_type": "markdown",
   "metadata": {
    "id": "Cj-J3SYreyoH"
   },
   "source": [
    "## bmi_category vs smoker vs claim"
   ]
  },
  {
   "cell_type": "markdown",
   "metadata": {
    "id": "cTkVrcCkfMaw"
   },
   "source": [
    "##finding:\n",
    "        -> obese and very obese smoker have claimed high"
   ]
  },
  {
   "cell_type": "code",
   "execution_count": 91,
   "metadata": {
    "execution": {
     "iopub.execute_input": "2023-10-11T21:49:37.262906Z",
     "iopub.status.busy": "2023-10-11T21:49:37.262399Z",
     "iopub.status.idle": "2023-10-11T21:49:37.757536Z",
     "shell.execute_reply": "2023-10-11T21:49:37.756303Z",
     "shell.execute_reply.started": "2023-10-11T21:49:37.262863Z"
    },
    "id": "1V9wvLWad8ld",
    "outputId": "e95a204b-008e-4fd1-eb1a-a958748726d2"
   },
   "outputs": [
    {
     "data": {
      "image/png": "[encoded data removed]",
      "text/plain": [
       "<Figure size 432x288 with 1 Axes>"
      ]
     },
     "metadata": {
      "needs_background": "light"
     },
     "output_type": "display_data"
    }
   ],
   "source": [
    "sns.barplot(x=df_train['bmi_category'],y=df_train['claim'],hue=df_train['smoker'])\n",
    "plt.legend()\n",
    "plt.show()"
   ]
  },
  {
   "cell_type": "markdown",
   "metadata": {
    "id": "1mZrPdg0fbvA"
   },
   "source": [
    "## region vs smoker vs claim"
   ]
  },
  {
   "cell_type": "markdown",
   "metadata": {
    "id": "cIRIqYFFfqbK"
   },
   "source": [
    "### finding:\n",
    "           -> southeast smokers have claimed the most"
   ]
  },
  {
   "cell_type": "code",
   "execution_count": 92,
   "metadata": {
    "execution": {
     "iopub.execute_input": "2023-10-11T21:49:37.760035Z",
     "iopub.status.busy": "2023-10-11T21:49:37.758813Z",
     "iopub.status.idle": "2023-10-11T21:49:38.199626Z",
     "shell.execute_reply": "2023-10-11T21:49:38.198136Z",
     "shell.execute_reply.started": "2023-10-11T21:49:37.760004Z"
    },
    "id": "rtZ_qh2ffB3m",
    "outputId": "a465cbeb-3969-41dd-a484-2a619f517f71"
   },
   "outputs": [
    {
     "data": {
      "image/png": "[encoded data removed]",
      "text/plain": [
       "<Figure size 432x288 with 1 Axes>"
      ]
     },
     "metadata": {
      "needs_background": "light"
     },
     "output_type": "display_data"
    }
   ],
   "source": [
    "sns.barplot(x=df_train['region'],y=df_train['claim'],hue=df_train['smoker'])\n",
    "plt.legend()\n",
    "plt.show()"
   ]
  },
  {
   "cell_type": "markdown",
   "metadata": {
    "id": "CoTe1NzigDIN"
   },
   "source": [
    "## bp_category vs bmi_category vs claim"
   ]
  },
  {
   "cell_type": "markdown",
   "metadata": {
    "id": "RHi5aTBPgfha"
   },
   "source": [
    "## finding :           \n",
    "          ->obese person with fatal hypertension and\n",
    "            very obese persons with stage 2 hypertension have claimed the most"
   ]
  },
  {
   "cell_type": "code",
   "execution_count": 93,
   "metadata": {
    "execution": {
     "iopub.execute_input": "2023-10-11T21:49:38.201301Z",
     "iopub.status.busy": "2023-10-11T21:49:38.201006Z",
     "iopub.status.idle": "2023-10-11T21:49:38.98758Z",
     "shell.execute_reply": "2023-10-11T21:49:38.986297Z",
     "shell.execute_reply.started": "2023-10-11T21:49:38.201275Z"
    },
    "id": "vlBUzt27fmUV",
    "outputId": "fa5a1c7a-659e-441d-9856-51b41bba9c13"
   },
   "outputs": [
    {
     "data": {
      "image/png": "[encoded data removed]",
      "text/plain": [
       "<Figure size 432x288 with 1 Axes>"
      ]
     },
     "metadata": {
      "needs_background": "light"
     },
     "output_type": "display_data"
    }
   ],
   "source": [
    "sns.barplot(x=df_train['bp_category'],y=df_train['claim'],hue=df_train['bmi_category'])\n",
    "plt.legend()\n",
    "plt.show()"
   ]
  },
  {
   "cell_type": "markdown",
   "metadata": {
    "id": "j_6yVkvWhFGs"
   },
   "source": [
    "### age_category vs smoke vs column:"
   ]
  },
  {
   "cell_type": "markdown",
   "metadata": {
    "id": "OVlAsZuZhbIF"
   },
   "source": [
    "## finding:\n",
    "       -> all smokers of any age category in dataset have claimed high"
   ]
  },
  {
   "cell_type": "code",
   "execution_count": 94,
   "metadata": {
    "execution": {
     "iopub.execute_input": "2023-10-11T21:49:38.990709Z",
     "iopub.status.busy": "2023-10-11T21:49:38.989668Z",
     "iopub.status.idle": "2023-10-11T21:49:39.399924Z",
     "shell.execute_reply": "2023-10-11T21:49:39.398401Z",
     "shell.execute_reply.started": "2023-10-11T21:49:38.990662Z"
    },
    "id": "o_4uN8ffgU55",
    "outputId": "ef1c6da9-7d83-4a6c-ad89-aa26498fe8b5"
   },
   "outputs": [
    {
     "data": {
      "image/png": "[encoded data removed]",
      "text/plain": [
       "<Figure size 432x288 with 1 Axes>"
      ]
     },
     "metadata": {
      "needs_background": "light"
     },
     "output_type": "display_data"
    }
   ],
   "source": [
    "sns.barplot(x=df_train['age_category'],y=df_train['claim'],hue=df_train['smoker'])\n",
    "plt.legend()\n",
    "plt.show()"
   ]
  },
  {
   "cell_type": "markdown",
   "metadata": {
    "id": "l_7uy9x8hw4m"
   },
   "source": [
    "### region vs bp_category vs claim:"
   ]
  },
  {
   "cell_type": "markdown",
   "metadata": {
    "id": "ydSO-cM6iEjP"
   },
   "source": [
    "## finding:\n",
    "      ->Northeastern people and southwestern people with fatal hypertension  have claimed high"
   ]
  },
  {
   "cell_type": "code",
   "execution_count": 95,
   "metadata": {
    "execution": {
     "iopub.execute_input": "2023-10-11T21:49:39.402396Z",
     "iopub.status.busy": "2023-10-11T21:49:39.40189Z",
     "iopub.status.idle": "2023-10-11T21:49:40.121014Z",
     "shell.execute_reply": "2023-10-11T21:49:40.11968Z",
     "shell.execute_reply.started": "2023-10-11T21:49:39.402351Z"
    },
    "id": "YSk2wgsAhX3p",
    "outputId": "58fffd8c-e10f-488f-cab7-a8ca9a0384e2"
   },
   "outputs": [
    {
     "data": {
      "image/png": "[encoded data removed]",
      "text/plain": [
       "<Figure size 432x288 with 1 Axes>"
      ]
     },
     "metadata": {
      "needs_background": "light"
     },
     "output_type": "display_data"
    }
   ],
   "source": [
    "sns.barplot(x=df_train['region'],y=df_train['claim'],hue=df_train['bp_category'])\n",
    "plt.legend()\n",
    "plt.show()"
   ]
  },
  {
   "cell_type": "markdown",
   "metadata": {
    "id": "HNRkUCEmij_K"
   },
   "source": [
    "## children vs smoker vs claim:"
   ]
  },
  {
   "cell_type": "markdown",
   "metadata": {
    "id": "aSblK9SBizNk"
   },
   "source": [
    "## finding :     \n",
    "       -> smokers with 2 and 3 children have claimed highest\n",
    "       -> people with 4,5 children have claimed low whether smokers or non smokers"
   ]
  },
  {
   "cell_type": "code",
   "execution_count": 96,
   "metadata": {
    "execution": {
     "iopub.execute_input": "2023-10-11T21:49:40.122975Z",
     "iopub.status.busy": "2023-10-11T21:49:40.122604Z",
     "iopub.status.idle": "2023-10-11T21:49:40.671393Z",
     "shell.execute_reply": "2023-10-11T21:49:40.6702Z",
     "shell.execute_reply.started": "2023-10-11T21:49:40.122942Z"
    },
    "id": "YmS3-XcHh96T",
    "outputId": "d13600ed-1875-430e-b5f9-f84f24d0bf29"
   },
   "outputs": [
    {
     "data": {
      "image/png": "[encoded data removed]",
      "text/plain": [
       "<Figure size 432x288 with 1 Axes>"
      ]
     },
     "metadata": {
      "needs_background": "light"
     },
     "output_type": "display_data"
    }
   ],
   "source": [
    "sns.barplot(x=df_train['children'],y=df_train['claim'],hue=df_train['smoker'])\n",
    "plt.legend()\n",
    "plt.show()"
   ]
  },
  {
   "cell_type": "markdown",
   "metadata": {
    "id": "_IJ2BQGyjPL0"
   },
   "source": [
    "## children vs region vs claim:"
   ]
  },
  {
   "cell_type": "markdown",
   "metadata": {
    "id": "deaHjoGQjmF_"
   },
   "source": [
    "## finding:\n",
    "        -> northeastern  people with 3 children have claimed high"
   ]
  },
  {
   "cell_type": "code",
   "execution_count": 97,
   "metadata": {
    "execution": {
     "iopub.execute_input": "2023-10-11T21:49:40.674094Z",
     "iopub.status.busy": "2023-10-11T21:49:40.672827Z",
     "iopub.status.idle": "2023-10-11T21:49:41.52643Z",
     "shell.execute_reply": "2023-10-11T21:49:41.524997Z",
     "shell.execute_reply.started": "2023-10-11T21:49:40.674029Z"
    },
    "id": "CaF9UwCFiuxY",
    "outputId": "233fba2e-e353-46cc-ac9f-78c662cf21c1"
   },
   "outputs": [
    {
     "data": {
      "image/png": "[encoded data removed]",
      "text/plain": [
       "<Figure size 432x288 with 1 Axes>"
      ]
     },
     "metadata": {
      "needs_background": "light"
     },
     "output_type": "display_data"
    }
   ],
   "source": [
    "sns.barplot(x=df_train['region'],y=df_train['claim'],hue=df_train['children'])\n",
    "plt.legend()\n",
    "plt.show()"
   ]
  },
  {
   "cell_type": "markdown",
   "metadata": {
    "id": "xuDz70gKjzEL"
   },
   "source": [
    "## children vs bp_category vs claim:"
   ]
  },
  {
   "cell_type": "markdown",
   "metadata": {
    "id": "po-utnUckDdJ"
   },
   "source": [
    "### finding:\n",
    "   -> people having 2,3 children with stage 2 or fatal hypertension i.e bp above 100 and 120 respectively (diastolic) have claimed high."
   ]
  },
  {
   "cell_type": "code",
   "execution_count": 98,
   "metadata": {
    "execution": {
     "iopub.execute_input": "2023-10-11T21:49:41.528717Z",
     "iopub.status.busy": "2023-10-11T21:49:41.528193Z",
     "iopub.status.idle": "2023-10-11T21:49:42.411425Z",
     "shell.execute_reply": "2023-10-11T21:49:42.40997Z",
     "shell.execute_reply.started": "2023-10-11T21:49:41.528685Z"
    },
    "id": "m_B8Sj_kjd8d",
    "outputId": "662c6981-c6cf-4f0b-cda9-779b8e32a0a1"
   },
   "outputs": [
    {
     "data": {
      "image/png": "[encoded data removed]",
      "text/plain": [
       "<Figure size 432x288 with 1 Axes>"
      ]
     },
     "metadata": {
      "needs_background": "light"
     },
     "output_type": "display_data"
    }
   ],
   "source": [
    "sns.barplot(x=df_train['children'],y=df_train['claim'],hue=df_train['bp_category'])\n",
    "plt.legend()\n",
    "plt.show()"
   ]
  },
  {
   "cell_type": "markdown",
   "metadata": {
    "id": "QISPcVG_kYGS"
   },
   "source": [
    "### children vs bmi_category vs claim:"
   ]
  },
  {
   "cell_type": "markdown",
   "metadata": {
    "id": "JCpPgm5dkimR"
   },
   "source": [
    "## finding:\n",
    "    -> people with 2,3 children and are obese or very obese i.e bmi above 30 have clamed high"
   ]
  },
  {
   "cell_type": "code",
   "execution_count": 99,
   "metadata": {
    "execution": {
     "iopub.execute_input": "2023-10-11T21:49:42.414058Z",
     "iopub.status.busy": "2023-10-11T21:49:42.413573Z",
     "iopub.status.idle": "2023-10-11T21:49:44.013899Z",
     "shell.execute_reply": "2023-10-11T21:49:44.012243Z",
     "shell.execute_reply.started": "2023-10-11T21:49:42.414016Z"
    },
    "id": "EjD5sQ7rkAGN",
    "outputId": "783444d7-564f-44ea-bcde-52fa1124d5bf"
   },
   "outputs": [
    {
     "data": {
      "image/png": "[encoded data removed]",
      "text/plain": [
       "<Figure size 432x288 with 1 Axes>"
      ]
     },
     "metadata": {
      "needs_background": "light"
     },
     "output_type": "display_data"
    }
   ],
   "source": [
    "sns.barplot(x=df_train['children'],y=df_train['claim'],hue=df_train['bmi_category'])\n",
    "plt.legend()\n",
    "plt.show()"
   ]
  },
  {
   "cell_type": "markdown",
   "metadata": {
    "id": "D14v-xOSk0gL"
   },
   "source": [
    "# Final conclusion:"
   ]
  },
  {
   "cell_type": "markdown",
   "metadata": {
    "id": "_AcVhprEk4xC"
   },
   "source": [
    "### northeastern and southeastern smoker persons suffering from hypertension at stage 2 or fatal (bp>100) and are obese or very obese(bmi>30) have claimed the highest"
   ]
  },
  {
   "cell_type": "code",
   "execution_count": null,
   "metadata": {},
   "outputs": [],
   "source": []
  },
  {
   "cell_type": "code",
   "execution_count": null,
   "metadata": {},
   "outputs": [],
   "source": []
  },
  {
   "cell_type": "code",
   "execution_count": null,
   "metadata": {},
   "outputs": [],
   "source": []
  },
  {
   "cell_type": "code",
   "execution_count": null,
   "metadata": {},
   "outputs": [],
   "source": []
  },
  {
   "cell_type": "code",
   "execution_count": null,
   "metadata": {},
   "outputs": [],
   "source": []
  },
  {
   "cell_type": "code",
   "execution_count": null,
   "metadata": {},
   "outputs": [],
   "source": []
  },
  {
   "cell_type": "code",
   "execution_count": null,
   "metadata": {},
   "outputs": [],
   "source": []
  },
  {
   "cell_type": "code",
   "execution_count": null,
   "metadata": {},
   "outputs": [],
   "source": []
  },
  {
   "cell_type": "code",
   "execution_count": null,
   "metadata": {},
   "outputs": [],
   "source": []
  },
  {
   "cell_type": "code",
   "execution_count": null,
   "metadata": {},
   "outputs": [],
   "source": []
  },
  {
   "cell_type": "code",
   "execution_count": null,
   "metadata": {},
   "outputs": [],
   "source": []
  },
  {
   "cell_type": "code",
   "execution_count": null,
   "metadata": {},
   "outputs": [],
   "source": []
  },
  {
   "cell_type": "code",
   "execution_count": null,
   "metadata": {},
   "outputs": [],
   "source": []
  },
  {
   "cell_type": "code",
   "execution_count": null,
   "metadata": {},
   "outputs": [],
   "source": []
  },
  {
   "cell_type": "code",
   "execution_count": null,
   "metadata": {},
   "outputs": [],
   "source": []
  },
  {
   "cell_type": "code",
   "execution_count": null,
   "metadata": {},
   "outputs": [],
   "source": []
  },
  {
   "cell_type": "code",
   "execution_count": null,
   "metadata": {},
   "outputs": [],
   "source": []
  },
  {
   "cell_type": "code",
   "execution_count": null,
   "metadata": {},
   "outputs": [],
   "source": []
  },
  {
   "cell_type": "code",
   "execution_count": null,
   "metadata": {},
   "outputs": [],
   "source": []
  },
  {
   "cell_type": "code",
   "execution_count": null,
   "metadata": {},
   "outputs": [],
   "source": []
  },
  {
   "cell_type": "code",
   "execution_count": null,
   "metadata": {},
   "outputs": [],
   "source": []
  },
  {
   "cell_type": "code",
   "execution_count": null,
   "metadata": {},
   "outputs": [],
   "source": []
  },
  {
   "cell_type": "code",
   "execution_count": null,
   "metadata": {},
   "outputs": [],
   "source": []
  },
  {
   "cell_type": "code",
   "execution_count": null,
   "metadata": {},
   "outputs": [],
   "source": []
  },
  {
   "cell_type": "code",
   "execution_count": null,
   "metadata": {},
   "outputs": [],
   "source": []
  },
  {
   "cell_type": "code",
   "execution_count": null,
   "metadata": {},
   "outputs": [],
   "source": []
  },
  {
   "cell_type": "code",
   "execution_count": null,
   "metadata": {},
   "outputs": [],
   "source": []
  },
  {
   "cell_type": "code",
   "execution_count": null,
   "metadata": {},
   "outputs": [],
   "source": []
  },
  {
   "cell_type": "code",
   "execution_count": null,
   "metadata": {},
   "outputs": [],
   "source": []
  },
  {
   "cell_type": "code",
   "execution_count": null,
   "metadata": {},
   "outputs": [],
   "source": []
  },
  {
   "cell_type": "code",
   "execution_count": null,
   "metadata": {},
   "outputs": [],
   "source": []
  },
  {
   "cell_type": "code",
   "execution_count": null,
   "metadata": {},
   "outputs": [],
   "source": []
  },
  {
   "cell_type": "code",
   "execution_count": null,
   "metadata": {},
   "outputs": [],
   "source": []
  },
  {
   "cell_type": "code",
   "execution_count": null,
   "metadata": {},
   "outputs": [],
   "source": []
  },
  {
   "cell_type": "code",
   "execution_count": null,
   "metadata": {},
   "outputs": [],
   "source": []
  },
  {
   "cell_type": "code",
   "execution_count": null,
   "metadata": {},
   "outputs": [],
   "source": []
  },
  {
   "cell_type": "code",
   "execution_count": null,
   "metadata": {},
   "outputs": [],
   "source": []
  },
  {
   "cell_type": "code",
   "execution_count": null,
   "metadata": {},
   "outputs": [],
   "source": []
  },
  {
   "cell_type": "code",
   "execution_count": null,
   "metadata": {},
   "outputs": [],
   "source": []
  },
  {
   "cell_type": "code",
   "execution_count": null,
   "metadata": {},
   "outputs": [],
   "source": []
  },
  {
   "cell_type": "code",
   "execution_count": null,
   "metadata": {},
   "outputs": [],
   "source": []
  },
  {
   "cell_type": "code",
   "execution_count": null,
   "metadata": {},
   "outputs": [],
   "source": []
  },
  {
   "cell_type": "code",
   "execution_count": null,
   "metadata": {},
   "outputs": [],
   "source": []
  },
  {
   "cell_type": "code",
   "execution_count": null,
   "metadata": {},
   "outputs": [],
   "source": []
  },
  {
   "cell_type": "code",
   "execution_count": null,
   "metadata": {},
   "outputs": [],
   "source": []
  },
  {
   "cell_type": "code",
   "execution_count": null,
   "metadata": {},
   "outputs": [],
   "source": []
  },
  {
   "cell_type": "code",
   "execution_count": null,
   "metadata": {},
   "outputs": [],
   "source": []
  },
  {
   "cell_type": "code",
   "execution_count": null,
   "metadata": {},
   "outputs": [],
   "source": []
  },
  {
   "cell_type": "code",
   "execution_count": null,
   "metadata": {},
   "outputs": [],
   "source": []
  },
  {
   "cell_type": "code",
   "execution_count": null,
   "metadata": {},
   "outputs": [],
   "source": []
  },
  {
   "cell_type": "code",
   "execution_count": null,
   "metadata": {},
   "outputs": [],
   "source": []
  }
 ],
 "metadata": {
  "kernelspec": {
   "display_name": "Python 3 (ipykernel)",
   "language": "python",
   "name": "python3"
  },
  "language_info": {
   "codemirror_mode": {
    "name": "ipython",
    "version": 3
   },
   "file_extension": ".py",
   "mimetype": "text/x-python",
   "name": "python",
   "nbconvert_exporter": "python",
   "pygments_lexer": "ipython3",
   "version": "3.10.9"
  }
 },
 "nbformat": 4,
 "nbformat_minor": 4
}
