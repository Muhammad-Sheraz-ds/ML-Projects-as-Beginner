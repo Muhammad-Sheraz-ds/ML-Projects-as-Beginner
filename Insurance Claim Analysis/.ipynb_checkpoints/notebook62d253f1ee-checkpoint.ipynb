{
 "cells": [
  {
   "cell_type": "markdown",
   "metadata": {
    "id": "ny5g65a5mGXs"
   },
   "source": [
    "# Importing libraries"
   ]
  },
  {
   "cell_type": "code",
   "execution_count": null,
   "metadata": {
    "execution": {
     "iopub.execute_input": "2023-10-11T21:49:25.791718Z",
     "iopub.status.busy": "2023-10-11T21:49:25.791302Z",
     "iopub.status.idle": "2023-10-11T21:49:25.798034Z",
     "shell.execute_reply": "2023-10-11T21:49:25.79663Z",
     "shell.execute_reply.started": "2023-10-11T21:49:25.79169Z"
    },
    "id": "Vjy-pnhkjEuL"
   },
   "outputs": [],
   "source": [
    "import numpy as np\n",
    "import pandas as pd\n",
    "import matplotlib.pyplot as plt\n",
    "import seaborn as sns\n",
    "from scipy import stats\n",
    "from  scipy.stats import norm"
   ]
  },
  {
   "cell_type": "markdown",
   "metadata": {
    "id": "loghoiiOmDTJ"
   },
   "source": [
    "# Importing data:"
   ]
  },
  {
   "cell_type": "code",
   "execution_count": null,
   "metadata": {
    "execution": {
     "iopub.execute_input": "2023-10-11T21:49:25.804974Z",
     "iopub.status.busy": "2023-10-11T21:49:25.804626Z",
     "iopub.status.idle": "2023-10-11T21:49:25.839122Z",
     "shell.execute_reply": "2023-10-11T21:49:25.837769Z",
     "shell.execute_reply.started": "2023-10-11T21:49:25.804947Z"
    },
    "id": "Y9gRRoHTTfmv",
    "outputId": "d0d35eea-54ef-4755-a0e4-51b9e91118d0"
   },
   "outputs": [],
   "source": [
    "df_train = pd.read_csv('/kaggle/input/insurance-claim-analysis-demographic-and-health/insurance_data.csv')\n",
    "df_train"
   ]
  },
  {
   "cell_type": "markdown",
   "metadata": {
    "id": "fK0ke4sQmOjj"
   },
   "source": [
    "# About each feature\n",
    "\n",
    "PatientID (Index): Category - Identifier, Type - Categorical\n",
    "\n",
    "An identifier for each row.\n",
    "age: Category - Demographic, Type - Numerical\n",
    "\n",
    "The age of the patient.\n",
    "gender: Category - Demographic, Type - Categorical\n",
    "\n",
    "The gender of the patient (e.g., male).\n",
    "bmi: Category - Health, Type - Numerical\n",
    "\n",
    "The Body Mass Index (BMI) of the patient.\n",
    "bloodpressure: Category - Health, Type - Numerical\n",
    "\n",
    "The blood pressure of the patient.\n",
    "diabetic: Category - Health, Type - Categorical\n",
    "\n",
    "Indicates whether the patient is diabetic (e.g., Yes or No).\n",
    "children: Category - Demographic, Type - Numerical\n",
    "\n",
    "The number of children the patient has.\n",
    "smoker: Category - Lifestyle, Type - Categorical\n",
    "\n",
    "Indicates whether the patient is a smoker (e.g., Yes or No).\n",
    "region: Category - Demographic, Type - Categorical\n",
    "\n",
    "The region where the patient is located (e.g., southeast or northwest).\n",
    "claim: Category - Financial, Type - Numerical\n",
    "\n",
    "The insurance claim amount associated with the patient.\n"
   ]
  },
  {
   "cell_type": "markdown",
   "metadata": {
    "id": "mE4W1ErmUGTv"
   },
   "source": [
    "# Data cleaning"
   ]
  },
  {
   "cell_type": "code",
   "execution_count": null,
   "metadata": {
    "execution": {
     "iopub.execute_input": "2023-10-11T21:49:25.841706Z",
     "iopub.status.busy": "2023-10-11T21:49:25.841388Z",
     "iopub.status.idle": "2023-10-11T21:49:25.853975Z",
     "shell.execute_reply": "2023-10-11T21:49:25.85253Z",
     "shell.execute_reply.started": "2023-10-11T21:49:25.841681Z"
    },
    "id": "RXZtWW3mT5VI",
    "outputId": "505bb301-ab71-4905-fd6a-c405d3b842a1"
   },
   "outputs": [],
   "source": [
    "total = df_train.isnull().sum()\n",
    "percent = (total / len(df_train)) * 100\n",
    "missing_values = pd.concat([total, percent], axis=1, keys=['Total', 'Percent'])\n",
    "print(missing_values)\n",
    "df_train = df_train.drop('index',axis=1)"
   ]
  },
  {
   "cell_type": "code",
   "execution_count": null,
   "metadata": {
    "execution": {
     "iopub.execute_input": "2023-10-11T21:49:25.855633Z",
     "iopub.status.busy": "2023-10-11T21:49:25.855253Z",
     "iopub.status.idle": "2023-10-11T21:49:25.868994Z",
     "shell.execute_reply": "2023-10-11T21:49:25.867606Z",
     "shell.execute_reply.started": "2023-10-11T21:49:25.855603Z"
    },
    "id": "lfW7vyEzDHpW",
    "outputId": "52f9031e-0d5e-4d7f-ec59-92432e52f455"
   },
   "outputs": [],
   "source": [
    "mean_age = np.mean(df_train['age'])\n",
    "# Fill null values in the 'age' column with the mean age\n",
    "df_train['age'].fillna(mean_age, inplace=True)\n",
    "\n",
    "# Check if there are any missing values in the 'age' column after filling\n",
    "missing_values = df_train['age'].isnull().sum()\n",
    "print(\"Missing values in 'age' column after filling:\", missing_values)\n"
   ]
  },
  {
   "cell_type": "code",
   "execution_count": null,
   "metadata": {
    "execution": {
     "iopub.execute_input": "2023-10-11T21:49:25.872195Z",
     "iopub.status.busy": "2023-10-11T21:49:25.871857Z",
     "iopub.status.idle": "2023-10-11T21:49:25.890667Z",
     "shell.execute_reply": "2023-10-11T21:49:25.889443Z",
     "shell.execute_reply.started": "2023-10-11T21:49:25.872167Z"
    },
    "id": "w3BTdsE2FSGs",
    "outputId": "ecf8754e-d61c-4407-890e-d63a7986a140"
   },
   "outputs": [],
   "source": [
    "df_train.dropna(subset=['region'],inplace=True)\n",
    "\n",
    "# Check if there are any missing values in the 'region' column after droping\n",
    "missing_values = df_train['region'].isnull().sum()\n",
    "print(\"Missing values in 'region' column after filling:\", missing_values)"
   ]
  },
  {
   "cell_type": "markdown",
   "metadata": {
    "id": "q2QAmsBBWGHu"
   },
   "source": []
  },
  {
   "cell_type": "code",
   "execution_count": null,
   "metadata": {
    "execution": {
     "iopub.execute_input": "2023-10-11T21:49:25.893743Z",
     "iopub.status.busy": "2023-10-11T21:49:25.892444Z",
     "iopub.status.idle": "2023-10-11T21:49:25.932275Z",
     "shell.execute_reply": "2023-10-11T21:49:25.930793Z",
     "shell.execute_reply.started": "2023-10-11T21:49:25.893698Z"
    },
    "id": "CkE42HXyUWWO",
    "outputId": "ec59dde1-43dd-4573-dac8-b7ea80967f55"
   },
   "outputs": [],
   "source": [
    "df_train.describe()"
   ]
  },
  {
   "cell_type": "markdown",
   "metadata": {
    "id": "KACsLCBLWLfo"
   },
   "source": [
    "# Column types"
   ]
  },
  {
   "cell_type": "markdown",
   "metadata": {
    "id": "RkGBxvmgWTie"
   },
   "source": [
    "## Numerical : Patient ID, age,bmi,bloodpressure,children,claim\n",
    "\n",
    "## Categorical : gender,diabetic,smoker,region\n"
   ]
  },
  {
   "cell_type": "code",
   "execution_count": null,
   "metadata": {
    "execution": {
     "iopub.execute_input": "2023-10-11T21:49:25.934642Z",
     "iopub.status.busy": "2023-10-11T21:49:25.934081Z",
     "iopub.status.idle": "2023-10-11T21:49:25.952948Z",
     "shell.execute_reply": "2023-10-11T21:49:25.951441Z",
     "shell.execute_reply.started": "2023-10-11T21:49:25.934602Z"
    },
    "id": "FblG1XpZV3K9",
    "outputId": "25afef99-1935-4983-9583-84fcac521fc1"
   },
   "outputs": [],
   "source": [
    "df_train.sample(5)"
   ]
  },
  {
   "cell_type": "code",
   "execution_count": null,
   "metadata": {
    "id": "bfaEdUrTUODL"
   },
   "outputs": [],
   "source": []
  },
  {
   "cell_type": "markdown",
   "metadata": {
    "id": "EWpQE0guXdqX"
   },
   "source": [
    "# Univariate analysis"
   ]
  },
  {
   "cell_type": "markdown",
   "metadata": {
    "id": "fjwCOGwNYpWe"
   },
   "source": [
    "### Age"
   ]
  },
  {
   "cell_type": "markdown",
   "metadata": {
    "id": "kR_2UaiKceY1"
   },
   "source": [
    "Conclusion:\n",
    "\n",
    "-> Age has 5 missing values\n",
    "\n",
    "-> data has two peaks and skewness of  0.11 so data is distriubuted bimodaly which means two age groups have claimed insurance most so one new column can be added to identify these age groups\n",
    "\n",
    "-> there are no outliers\n",
    "\n",
    "-> max age is recorded 60 and mean age is 38 which shows very old people have not been insured"
   ]
  },
  {
   "cell_type": "code",
   "execution_count": null,
   "metadata": {
    "execution": {
     "iopub.execute_input": "2023-10-11T21:49:25.955581Z",
     "iopub.status.busy": "2023-10-11T21:49:25.954854Z",
     "iopub.status.idle": "2023-10-11T21:49:25.97254Z",
     "shell.execute_reply": "2023-10-11T21:49:25.970886Z",
     "shell.execute_reply.started": "2023-10-11T21:49:25.955539Z"
    },
    "id": "BysGBF_aV-cE",
    "outputId": "10fa3ae8-86de-4473-b21c-bf42919deade"
   },
   "outputs": [],
   "source": [
    "df_train['age'].describe()"
   ]
  },
  {
   "cell_type": "code",
   "execution_count": null,
   "metadata": {
    "execution": {
     "iopub.execute_input": "2023-10-11T21:49:25.974683Z",
     "iopub.status.busy": "2023-10-11T21:49:25.974044Z",
     "iopub.status.idle": "2023-10-11T21:49:26.451238Z",
     "shell.execute_reply": "2023-10-11T21:49:26.450069Z",
     "shell.execute_reply.started": "2023-10-11T21:49:25.974647Z"
    },
    "id": "DJOxjQ6oYv0j",
    "outputId": "f0891784-7c87-4adf-912d-a642a54d8b1f"
   },
   "outputs": [],
   "source": [
    "sns.displot(df_train['age'],kde=True)"
   ]
  },
  {
   "cell_type": "code",
   "execution_count": null,
   "metadata": {
    "execution": {
     "iopub.execute_input": "2023-10-11T21:49:26.453033Z",
     "iopub.status.busy": "2023-10-11T21:49:26.452705Z",
     "iopub.status.idle": "2023-10-11T21:49:26.72889Z",
     "shell.execute_reply": "2023-10-11T21:49:26.727705Z",
     "shell.execute_reply.started": "2023-10-11T21:49:26.453004Z"
    },
    "id": "YK1hmf7FY5B8",
    "outputId": "cf7359d1-a39a-489f-e6a6-66d5dd6be69f"
   },
   "outputs": [],
   "source": [
    "df_train['age'].plot(kind='kde')"
   ]
  },
  {
   "cell_type": "code",
   "execution_count": null,
   "metadata": {
    "execution": {
     "iopub.execute_input": "2023-10-11T21:49:26.732679Z",
     "iopub.status.busy": "2023-10-11T21:49:26.732177Z",
     "iopub.status.idle": "2023-10-11T21:49:26.739043Z",
     "shell.execute_reply": "2023-10-11T21:49:26.737775Z",
     "shell.execute_reply.started": "2023-10-11T21:49:26.732649Z"
    },
    "id": "o6mvytUcZXNU",
    "outputId": "1acd597f-3cbb-4f47-bdc4-5f2fb08975eb"
   },
   "outputs": [],
   "source": [
    "print('skewness in age is ' ,df_train['age'].skew())"
   ]
  },
  {
   "cell_type": "code",
   "execution_count": null,
   "metadata": {
    "execution": {
     "iopub.execute_input": "2023-10-11T21:49:26.742538Z",
     "iopub.status.busy": "2023-10-11T21:49:26.741184Z",
     "iopub.status.idle": "2023-10-11T21:49:26.959382Z",
     "shell.execute_reply": "2023-10-11T21:49:26.958221Z",
     "shell.execute_reply.started": "2023-10-11T21:49:26.742402Z"
    },
    "id": "0STNGPNlZi17",
    "outputId": "4760cd36-4861-4acf-ec54-177761989305"
   },
   "outputs": [],
   "source": [
    "df_train['age'].plot(kind='box')"
   ]
  },
  {
   "cell_type": "markdown",
   "metadata": {
    "id": "8NEQfBlrb5u5"
   },
   "source": [
    "### Feature engineering on age:\n",
    "#### Categorizing age:"
   ]
  },
  {
   "cell_type": "code",
   "execution_count": null,
   "metadata": {
    "execution": {
     "iopub.execute_input": "2023-10-11T21:49:26.962588Z",
     "iopub.status.busy": "2023-10-11T21:49:26.961637Z",
     "iopub.status.idle": "2023-10-11T21:49:26.970174Z",
     "shell.execute_reply": "2023-10-11T21:49:26.969217Z",
     "shell.execute_reply.started": "2023-10-11T21:49:26.962539Z"
    },
    "id": "3pd1fxWqb4pq"
   },
   "outputs": [],
   "source": [
    "def age_categorizer(age):\n",
    "  if 18<age<24:\n",
    "    return \"Young adult\"\n",
    "  if 24<=age<=39:\n",
    "    return \"Adults\"\n",
    "  if 40<=age:\n",
    "    return \"Senior adults\"\n",
    "df_train['age_category']=df_train['age'].apply(age_categorizer)"
   ]
  },
  {
   "cell_type": "markdown",
   "metadata": {
    "id": "s8x9phERrmjs"
   },
   "source": [
    "analyzing age categories:"
   ]
  },
  {
   "cell_type": "markdown",
   "metadata": {
    "id": "x9bpsjLfsMVX"
   },
   "source": [
    "finding:                                                                               -> 46% persons are senior adults age above 40 and 44.2% persons are adults which is causing two peaks in data\n"
   ]
  },
  {
   "cell_type": "code",
   "execution_count": null,
   "metadata": {
    "execution": {
     "iopub.execute_input": "2023-10-11T21:49:26.972864Z",
     "iopub.status.busy": "2023-10-11T21:49:26.971626Z",
     "iopub.status.idle": "2023-10-11T21:49:27.106817Z",
     "shell.execute_reply": "2023-10-11T21:49:27.105565Z",
     "shell.execute_reply.started": "2023-10-11T21:49:26.97282Z"
    },
    "id": "UJZO1qmwrl6s",
    "outputId": "983e1ecf-c668-4685-a5ab-f99baf58efdc"
   },
   "outputs": [],
   "source": [
    "age_count=df_train['age_category'].value_counts()\n",
    "plt.pie(age_count,labels=age_count.index,autopct='%1.1f%%')\n",
    "plt.show()"
   ]
  },
  {
   "cell_type": "code",
   "execution_count": null,
   "metadata": {
    "id": "d2jxu_vXDA_v"
   },
   "outputs": [],
   "source": []
  },
  {
   "cell_type": "markdown",
   "metadata": {
    "id": "QS9ef3PrAmdP"
   },
   "source": [
    "### bmi"
   ]
  },
  {
   "cell_type": "markdown",
   "metadata": {
    "id": "1uWF7YaBDIzb"
   },
   "source": [
    "Conclusion :\n",
    "\n",
    "->distribution is perfectly normal\n",
    "\n",
    "->  skewness is very minimal\n",
    "\n",
    "-> boxplot indicated some serious outliers ,, bmi above 50 shows very obese and its very fatal"
   ]
  },
  {
   "cell_type": "code",
   "execution_count": null,
   "metadata": {
    "execution": {
     "iopub.execute_input": "2023-10-11T21:49:27.109609Z",
     "iopub.status.busy": "2023-10-11T21:49:27.108497Z",
     "iopub.status.idle": "2023-10-11T21:49:27.433652Z",
     "shell.execute_reply": "2023-10-11T21:49:27.432891Z",
     "shell.execute_reply.started": "2023-10-11T21:49:27.109561Z"
    },
    "id": "dpARxQgoApf4",
    "outputId": "10ae2e6c-256d-4322-b440-0d0c3e9a4f74"
   },
   "outputs": [],
   "source": [
    "sns.distplot(df_train['bmi'])"
   ]
  },
  {
   "cell_type": "markdown",
   "metadata": {
    "id": "64Xu8x6qd0H1"
   },
   "source": []
  },
  {
   "cell_type": "code",
   "execution_count": null,
   "metadata": {
    "execution": {
     "iopub.execute_input": "2023-10-11T21:49:27.435191Z",
     "iopub.status.busy": "2023-10-11T21:49:27.434784Z",
     "iopub.status.idle": "2023-10-11T21:49:27.445855Z",
     "shell.execute_reply": "2023-10-11T21:49:27.444539Z",
     "shell.execute_reply.started": "2023-10-11T21:49:27.435166Z"
    },
    "id": "ici0CG0Bb3L_",
    "outputId": "20d76922-cbb1-4ab4-eede-7444ec3c15f8"
   },
   "outputs": [],
   "source": [
    "df_train['bmi'].describe()"
   ]
  },
  {
   "cell_type": "code",
   "execution_count": null,
   "metadata": {
    "execution": {
     "iopub.execute_input": "2023-10-11T21:49:27.447908Z",
     "iopub.status.busy": "2023-10-11T21:49:27.447401Z",
     "iopub.status.idle": "2023-10-11T21:49:27.783996Z",
     "shell.execute_reply": "2023-10-11T21:49:27.782614Z",
     "shell.execute_reply.started": "2023-10-11T21:49:27.447873Z"
    },
    "id": "qKfJofY0Bnr_",
    "outputId": "f98044ca-0ae4-48d8-aa02-71372f1a7264"
   },
   "outputs": [],
   "source": [
    "df_train['bmi'].plot(kind='kde')"
   ]
  },
  {
   "cell_type": "code",
   "execution_count": null,
   "metadata": {
    "execution": {
     "iopub.execute_input": "2023-10-11T21:49:27.786803Z",
     "iopub.status.busy": "2023-10-11T21:49:27.786292Z",
     "iopub.status.idle": "2023-10-11T21:49:27.795599Z",
     "shell.execute_reply": "2023-10-11T21:49:27.794375Z",
     "shell.execute_reply.started": "2023-10-11T21:49:27.786758Z"
    },
    "id": "oGqBnl5UB1qm",
    "outputId": "e1e60eac-403e-44a6-d592-30b596e2d6b0"
   },
   "outputs": [],
   "source": [
    "df_train['bmi'].skew()"
   ]
  },
  {
   "cell_type": "code",
   "execution_count": null,
   "metadata": {
    "execution": {
     "iopub.execute_input": "2023-10-11T21:49:27.797574Z",
     "iopub.status.busy": "2023-10-11T21:49:27.797217Z",
     "iopub.status.idle": "2023-10-11T21:49:28.025199Z",
     "shell.execute_reply": "2023-10-11T21:49:28.023598Z",
     "shell.execute_reply.started": "2023-10-11T21:49:27.797537Z"
    },
    "id": "ezg69sg9B5kE",
    "outputId": "fb47311a-cb9d-48cf-bee9-81a89bceddd6"
   },
   "outputs": [],
   "source": [
    "df_train['bmi'].plot(kind='box')"
   ]
  },
  {
   "cell_type": "code",
   "execution_count": null,
   "metadata": {
    "execution": {
     "iopub.execute_input": "2023-10-11T21:49:28.027824Z",
     "iopub.status.busy": "2023-10-11T21:49:28.027314Z",
     "iopub.status.idle": "2023-10-11T21:49:28.04259Z",
     "shell.execute_reply": "2023-10-11T21:49:28.040992Z",
     "shell.execute_reply.started": "2023-10-11T21:49:28.027781Z"
    },
    "id": "rSuX-x2ECDtE",
    "outputId": "1fb77361-0839-4f59-d4d2-dc5659de3183"
   },
   "outputs": [],
   "source": [
    "df_train[df_train['bmi']>35].count()"
   ]
  },
  {
   "cell_type": "markdown",
   "metadata": {
    "id": "SEvGr3CUexaa"
   },
   "source": [
    "### Feature engineering on bmi (categorizing)"
   ]
  },
  {
   "cell_type": "code",
   "execution_count": null,
   "metadata": {
    "execution": {
     "iopub.execute_input": "2023-10-11T21:49:28.044738Z",
     "iopub.status.busy": "2023-10-11T21:49:28.044137Z",
     "iopub.status.idle": "2023-10-11T21:49:28.057378Z",
     "shell.execute_reply": "2023-10-11T21:49:28.056031Z",
     "shell.execute_reply.started": "2023-10-11T21:49:28.044705Z"
    },
    "id": "sjAeqtS_e5IB"
   },
   "outputs": [],
   "source": [
    "def bmi_categorizer(bmi):\n",
    "    if bmi < 18.5:\n",
    "        return \"Underweight\"\n",
    "    elif 18.5 <= bmi < 24.9:\n",
    "        return \"Healthy\"\n",
    "    elif 25 <= bmi < 29.9:\n",
    "        return \"Overweight\"\n",
    "    elif bmi >= 30 and bmi < 40:\n",
    "        return \"Obese\"\n",
    "    else:\n",
    "        return \"Very Obese\"\n",
    "\n",
    "# Assuming you have a 'bmi' column in your DataFrame 'df_train'\n",
    "df_train['bmi_category'] = df_train['bmi'].apply(bmi_categorizer)\n"
   ]
  },
  {
   "cell_type": "markdown",
   "metadata": {
    "id": "0PwBX5iFoD1B"
   },
   "source": [
    "### Analysis on bmi category feature"
   ]
  },
  {
   "cell_type": "markdown",
   "metadata": {
    "id": "ROzq2waWql_k"
   },
   "source": [
    "finding:                                                                                          \n",
    "     -> Most of people almost 46% are obese i.e 615 persons                                                        \n",
    "     -> 8.1% i.e 92 person were severely obese causing health problems\n"
   ]
  },
  {
   "cell_type": "code",
   "execution_count": null,
   "metadata": {
    "execution": {
     "iopub.execute_input": "2023-10-11T21:49:28.059502Z",
     "iopub.status.busy": "2023-10-11T21:49:28.058996Z",
     "iopub.status.idle": "2023-10-11T21:49:28.214335Z",
     "shell.execute_reply": "2023-10-11T21:49:28.212801Z",
     "shell.execute_reply.started": "2023-10-11T21:49:28.059472Z"
    },
    "id": "loZYhKKCoNjx",
    "outputId": "9d0bdaa0-2c97-4dc2-bffa-6450cbac2eff"
   },
   "outputs": [],
   "source": [
    "#plotting pie chart\n",
    "bmi_count = df_train['bmi_category'].value_counts()\n",
    "plt.pie(bmi_count,labels=bmi_count.index,autopct='%1.1f%%')\n",
    "plt.show()"
   ]
  },
  {
   "cell_type": "code",
   "execution_count": null,
   "metadata": {
    "execution": {
     "iopub.execute_input": "2023-10-11T21:49:28.218209Z",
     "iopub.status.busy": "2023-10-11T21:49:28.217036Z",
     "iopub.status.idle": "2023-10-11T21:49:28.235956Z",
     "shell.execute_reply": "2023-10-11T21:49:28.234218Z",
     "shell.execute_reply.started": "2023-10-11T21:49:28.218151Z"
    },
    "id": "Ax62HshEprVk",
    "outputId": "85e2f7b8-f388-4cf8-bd4f-177816aa6462"
   },
   "outputs": [],
   "source": [
    "df_train[df_train['bmi']>40].count()"
   ]
  },
  {
   "cell_type": "code",
   "execution_count": null,
   "metadata": {
    "execution": {
     "iopub.execute_input": "2023-10-11T21:49:28.240359Z",
     "iopub.status.busy": "2023-10-11T21:49:28.239067Z",
     "iopub.status.idle": "2023-10-11T21:49:28.257961Z",
     "shell.execute_reply": "2023-10-11T21:49:28.256357Z",
     "shell.execute_reply.started": "2023-10-11T21:49:28.2403Z"
    },
    "id": "IBspYIXwqEkc",
    "outputId": "4873b2f5-7a56-43af-827a-9dd38b815766"
   },
   "outputs": [],
   "source": [
    "df_train[df_train['bmi_category']=='Healthy'].count()"
   ]
  },
  {
   "cell_type": "code",
   "execution_count": null,
   "metadata": {
    "execution": {
     "iopub.execute_input": "2023-10-11T21:49:28.261977Z",
     "iopub.status.busy": "2023-10-11T21:49:28.260757Z",
     "iopub.status.idle": "2023-10-11T21:49:28.282408Z",
     "shell.execute_reply": "2023-10-11T21:49:28.281263Z",
     "shell.execute_reply.started": "2023-10-11T21:49:28.26192Z"
    },
    "id": "ooJp9Om6qcFw",
    "outputId": "d349755c-4aad-401d-c4b1-d66d6c4367c6"
   },
   "outputs": [],
   "source": [
    "df_train[df_train['bmi_category']=='Obese'].count()"
   ]
  },
  {
   "cell_type": "markdown",
   "metadata": {
    "id": "qiBKfcffEFwb"
   },
   "source": [
    "### bloodpressure"
   ]
  },
  {
   "cell_type": "markdown",
   "metadata": {
    "id": "u91yLsykGkx4"
   },
   "source": [
    "conclusion:\n",
    "\n",
    "-> data is highly positively skewed with skewness of 1.48\n",
    "\n",
    "-> boxplot shows some serious outliers which is cause of positive skewness\n",
    "\n",
    "-> bp higher than 120 is counted 55 , so 55 persons  due to bp shootup"
   ]
  },
  {
   "cell_type": "code",
   "execution_count": null,
   "metadata": {
    "execution": {
     "iopub.execute_input": "2023-10-11T21:49:28.284837Z",
     "iopub.status.busy": "2023-10-11T21:49:28.284393Z",
     "iopub.status.idle": "2023-10-11T21:49:28.61375Z",
     "shell.execute_reply": "2023-10-11T21:49:28.612601Z",
     "shell.execute_reply.started": "2023-10-11T21:49:28.2848Z"
    },
    "id": "5JUV5Nq4EEpD",
    "outputId": "46b2240f-86c4-424b-cba3-cf619f0b8c6c"
   },
   "outputs": [],
   "source": [
    "sns.distplot(df_train['bloodpressure'])"
   ]
  },
  {
   "cell_type": "code",
   "execution_count": null,
   "metadata": {
    "execution": {
     "iopub.execute_input": "2023-10-11T21:49:28.62282Z",
     "iopub.status.busy": "2023-10-11T21:49:28.621754Z",
     "iopub.status.idle": "2023-10-11T21:49:28.631635Z",
     "shell.execute_reply": "2023-10-11T21:49:28.630125Z",
     "shell.execute_reply.started": "2023-10-11T21:49:28.622783Z"
    },
    "id": "lmwClsQhDyzK",
    "outputId": "cdb8fa09-8e8e-48f1-d3c1-0a8204ed8321"
   },
   "outputs": [],
   "source": [
    "df_train['bloodpressure'].skew()"
   ]
  },
  {
   "cell_type": "code",
   "execution_count": null,
   "metadata": {
    "execution": {
     "iopub.execute_input": "2023-10-11T21:49:28.634283Z",
     "iopub.status.busy": "2023-10-11T21:49:28.6334Z",
     "iopub.status.idle": "2023-10-11T21:49:28.963875Z",
     "shell.execute_reply": "2023-10-11T21:49:28.962647Z",
     "shell.execute_reply.started": "2023-10-11T21:49:28.634237Z"
    },
    "id": "0kQJ7YgvC7rM",
    "outputId": "3a641dac-8140-47b4-c98c-de9cd8bc72c0"
   },
   "outputs": [],
   "source": [
    "df_train['bloodpressure'].plot(kind='kde')"
   ]
  },
  {
   "cell_type": "code",
   "execution_count": null,
   "metadata": {
    "execution": {
     "iopub.execute_input": "2023-10-11T21:49:28.966336Z",
     "iopub.status.busy": "2023-10-11T21:49:28.965292Z",
     "iopub.status.idle": "2023-10-11T21:49:29.232022Z",
     "shell.execute_reply": "2023-10-11T21:49:29.230666Z",
     "shell.execute_reply.started": "2023-10-11T21:49:28.966302Z"
    },
    "id": "uKAeTWiCWsR5",
    "outputId": "451c2c2d-2514-487c-93da-c803976f0adb"
   },
   "outputs": [],
   "source": [
    "col=df_train[df_train['bloodpressure']>130]\n",
    "col['bloodpressure'].plot(kind='hist')"
   ]
  },
  {
   "cell_type": "code",
   "execution_count": null,
   "metadata": {
    "execution": {
     "iopub.execute_input": "2023-10-11T21:49:29.23401Z",
     "iopub.status.busy": "2023-10-11T21:49:29.233602Z",
     "iopub.status.idle": "2023-10-11T21:49:29.24507Z",
     "shell.execute_reply": "2023-10-11T21:49:29.244006Z",
     "shell.execute_reply.started": "2023-10-11T21:49:29.233972Z"
    },
    "id": "voVXcN7rEd-J",
    "outputId": "19c9c5c1-bb30-4cb0-9d56-b0f6722662af"
   },
   "outputs": [],
   "source": [
    "df_train['bloodpressure'].describe()"
   ]
  },
  {
   "cell_type": "code",
   "execution_count": null,
   "metadata": {
    "execution": {
     "iopub.execute_input": "2023-10-11T21:49:29.247177Z",
     "iopub.status.busy": "2023-10-11T21:49:29.246454Z",
     "iopub.status.idle": "2023-10-11T21:49:29.47134Z",
     "shell.execute_reply": "2023-10-11T21:49:29.470082Z",
     "shell.execute_reply.started": "2023-10-11T21:49:29.247139Z"
    },
    "id": "17kzQDr8Et5w",
    "outputId": "a2319ef6-64aa-4c6e-acc5-337730ec737c"
   },
   "outputs": [],
   "source": [
    "df_train['bloodpressure'].plot(kind='box')"
   ]
  },
  {
   "cell_type": "code",
   "execution_count": null,
   "metadata": {
    "execution": {
     "iopub.execute_input": "2023-10-11T21:49:29.473752Z",
     "iopub.status.busy": "2023-10-11T21:49:29.473249Z",
     "iopub.status.idle": "2023-10-11T21:49:29.507651Z",
     "shell.execute_reply": "2023-10-11T21:49:29.506101Z",
     "shell.execute_reply.started": "2023-10-11T21:49:29.473707Z"
    },
    "id": "RsA3ykbaFd91",
    "outputId": "e5582a9a-7969-4fef-89ac-9cd28c8feadd"
   },
   "outputs": [],
   "source": [
    "df_train[df_train['bloodpressure']<120]"
   ]
  },
  {
   "cell_type": "code",
   "execution_count": null,
   "metadata": {
    "execution": {
     "iopub.execute_input": "2023-10-11T21:49:29.509868Z",
     "iopub.status.busy": "2023-10-11T21:49:29.509495Z",
     "iopub.status.idle": "2023-10-11T21:49:29.523992Z",
     "shell.execute_reply": "2023-10-11T21:49:29.522257Z",
     "shell.execute_reply.started": "2023-10-11T21:49:29.509838Z"
    },
    "id": "VjTtuqMDF-_r",
    "outputId": "0460a493-652a-4d58-b685-42839d2363c1"
   },
   "outputs": [],
   "source": [
    "df_train[df_train['bloodpressure']<120].count()"
   ]
  },
  {
   "cell_type": "markdown",
   "metadata": {
    "id": "k7ARTimloqxG"
   },
   "source": [
    "## Feature engineering on bloodpressure (categorizing):\n"
   ]
  },
  {
   "cell_type": "code",
   "execution_count": null,
   "metadata": {
    "execution": {
     "iopub.execute_input": "2023-10-11T21:49:29.526999Z",
     "iopub.status.busy": "2023-10-11T21:49:29.526327Z",
     "iopub.status.idle": "2023-10-11T21:49:29.543641Z",
     "shell.execute_reply": "2023-10-11T21:49:29.542271Z",
     "shell.execute_reply.started": "2023-10-11T21:49:29.526967Z"
    },
    "id": "EAmquTu9pqln",
    "outputId": "1054d23a-a5ba-4d45-b53c-34ec0964f724"
   },
   "outputs": [],
   "source": [
    "df_train[df_train['bloodpressure']<80].count()"
   ]
  },
  {
   "cell_type": "markdown",
   "metadata": {
    "id": "AMdjjMtfp6Q4"
   },
   "source": [
    "no one has low bloodpressure"
   ]
  },
  {
   "cell_type": "code",
   "execution_count": null,
   "metadata": {
    "execution": {
     "iopub.execute_input": "2023-10-11T21:49:29.54587Z",
     "iopub.status.busy": "2023-10-11T21:49:29.545434Z",
     "iopub.status.idle": "2023-10-11T21:49:29.556863Z",
     "shell.execute_reply": "2023-10-11T21:49:29.555865Z",
     "shell.execute_reply.started": "2023-10-11T21:49:29.545831Z"
    },
    "id": "QqNIF3X2ozRg"
   },
   "outputs": [],
   "source": [
    "def bp_categorizer(bp):\n",
    "    if 80<=bp < 89:\n",
    "        return \"elevated\"\n",
    "    elif 90<= bp <= 99:\n",
    "        return \"High\"\n",
    "    elif  99< bp <100:\n",
    "        return \"very high\"\n",
    "    elif 100<=bp<120:\n",
    "        return \"extremely high\"\n",
    "    else:\n",
    "        return \"fatal\"\n",
    "\n",
    "# Assuming you have a 'bmi' column in your DataFrame 'df_train'\n",
    "df_train['bp_category'] = df_train['bloodpressure'].apply(bp_categorizer)\n"
   ]
  },
  {
   "cell_type": "markdown",
   "metadata": {
    "id": "HMBHmsrq93kS"
   },
   "source": [
    "### Lets find which how much people have high bp and their cause of death might be high bp"
   ]
  },
  {
   "cell_type": "markdown",
   "metadata": {
    "id": "IiOfbnziAq8R"
   },
   "source": [
    "### finding:                                         \n",
    "        -> There is high chance that many people have been died due to high bloodpressure or they are patients of hypertension\n",
    "        -> 37.2% of people were suffering from stage 1 hypertension with bp higher than 90 (diastolic)\n",
    "        -> 19.1% have stage 2 hypertension in this all category all are having more than 100 mmHg(diastolic)\n",
    "        -> 8.7% have higher than 120 and some also have higher than 140\n",
    "        bloodpressure which is fatal and we can say bp shootup is cause of\n",
    "        death of these 117 pesons\n",
    "        -> Approx Total 813 persons were suffering from hyper tension,out of\n",
    "        which 498 on stage 1, 315 on stage 2 and 117 were probably died due to\n",
    "        it because they had high bp than 120 and 55 person had higher than 145"
   ]
  },
  {
   "cell_type": "code",
   "execution_count": null,
   "metadata": {
    "execution": {
     "iopub.execute_input": "2023-10-11T21:49:29.55818Z",
     "iopub.status.busy": "2023-10-11T21:49:29.557884Z",
     "iopub.status.idle": "2023-10-11T21:49:29.703909Z",
     "shell.execute_reply": "2023-10-11T21:49:29.702208Z",
     "shell.execute_reply.started": "2023-10-11T21:49:29.558154Z"
    },
    "id": "CeVTxHRC-GVi",
    "outputId": "e93e5db1-5f0a-493c-d3f3-607aeb9373c0"
   },
   "outputs": [],
   "source": [
    "category_counts = df_train['bp_category'].value_counts()\n",
    "plt.pie(category_counts,labels= category_counts.index,  autopct='%1.1f%%')\n",
    "plt.show()"
   ]
  },
  {
   "cell_type": "code",
   "execution_count": null,
   "metadata": {
    "execution": {
     "iopub.execute_input": "2023-10-11T21:49:29.707674Z",
     "iopub.status.busy": "2023-10-11T21:49:29.706067Z",
     "iopub.status.idle": "2023-10-11T21:49:29.726422Z",
     "shell.execute_reply": "2023-10-11T21:49:29.724942Z",
     "shell.execute_reply.started": "2023-10-11T21:49:29.707605Z"
    },
    "id": "jgyIW_9xD0eb",
    "outputId": "1be4f5d1-d1ea-4e84-9a0c-1248b9971393"
   },
   "outputs": [],
   "source": [
    "df_train[df_train['bloodpressure']>=90].count()"
   ]
  },
  {
   "cell_type": "code",
   "execution_count": null,
   "metadata": {
    "execution": {
     "iopub.execute_input": "2023-10-11T21:49:29.729915Z",
     "iopub.status.busy": "2023-10-11T21:49:29.728748Z",
     "iopub.status.idle": "2023-10-11T21:49:29.758283Z",
     "shell.execute_reply": "2023-10-11T21:49:29.7567Z",
     "shell.execute_reply.started": "2023-10-11T21:49:29.729856Z"
    },
    "id": "ii2HJaRqEJ1Y",
    "outputId": "6d02fb75-b049-4a36-aede-5a7e6aa7c2f1"
   },
   "outputs": [],
   "source": [
    "df_train[df_train['bloodpressure']>=100].count()"
   ]
  },
  {
   "cell_type": "code",
   "execution_count": null,
   "metadata": {
    "execution": {
     "iopub.execute_input": "2023-10-11T21:49:29.761935Z",
     "iopub.status.busy": "2023-10-11T21:49:29.760796Z",
     "iopub.status.idle": "2023-10-11T21:49:29.776438Z",
     "shell.execute_reply": "2023-10-11T21:49:29.775218Z",
     "shell.execute_reply.started": "2023-10-11T21:49:29.761873Z"
    },
    "id": "UvmHKKPNDZGp",
    "outputId": "800aedfe-5e82-46b5-a623-91e044069540"
   },
   "outputs": [],
   "source": [
    "df_train[df_train['bp_category']=='fatal'].count()"
   ]
  },
  {
   "cell_type": "markdown",
   "metadata": {
    "id": "Pn8_kj15Ivpd"
   },
   "source": [
    "### Claim:"
   ]
  },
  {
   "cell_type": "markdown",
   "metadata": {
    "id": "zs4IlpxbK4h3"
   },
   "source": [
    "conclusion:\n",
    "\n",
    "-> highly skewed data with positve skewness of 1.5\n",
    "\n",
    "-> there are more than 150 outliers which shows some people have been given more claim. there could be multiple reasons we will find in further analysis\n",
    "\n"
   ]
  },
  {
   "cell_type": "code",
   "execution_count": null,
   "metadata": {
    "execution": {
     "iopub.execute_input": "2023-10-11T21:49:29.779695Z",
     "iopub.status.busy": "2023-10-11T21:49:29.778093Z",
     "iopub.status.idle": "2023-10-11T21:49:30.256934Z",
     "shell.execute_reply": "2023-10-11T21:49:30.25549Z",
     "shell.execute_reply.started": "2023-10-11T21:49:29.779649Z"
    },
    "id": "0NaUL2gWH2T6",
    "outputId": "75278b3e-e36d-4f6c-dd60-bef3d331d0ea"
   },
   "outputs": [],
   "source": [
    "sns.displot(df_train['claim'],kde=True)\n",
    "plt.show()"
   ]
  },
  {
   "cell_type": "code",
   "execution_count": null,
   "metadata": {
    "execution": {
     "iopub.execute_input": "2023-10-11T21:49:30.259334Z",
     "iopub.status.busy": "2023-10-11T21:49:30.258998Z",
     "iopub.status.idle": "2023-10-11T21:49:30.543572Z",
     "shell.execute_reply": "2023-10-11T21:49:30.542345Z",
     "shell.execute_reply.started": "2023-10-11T21:49:30.259298Z"
    },
    "id": "Ank2sY__JIch",
    "outputId": "a5b47be6-caa4-4a67-fc72-28906eb42893"
   },
   "outputs": [],
   "source": [
    "df_train['claim'].plot(kind='kde')"
   ]
  },
  {
   "cell_type": "code",
   "execution_count": null,
   "metadata": {
    "execution": {
     "iopub.execute_input": "2023-10-11T21:49:30.546072Z",
     "iopub.status.busy": "2023-10-11T21:49:30.545057Z",
     "iopub.status.idle": "2023-10-11T21:49:30.554286Z",
     "shell.execute_reply": "2023-10-11T21:49:30.553588Z",
     "shell.execute_reply.started": "2023-10-11T21:49:30.54604Z"
    },
    "id": "dRmrskMGJSj0",
    "outputId": "b49fd356-3eab-4c65-cd71-fda59c8043fe"
   },
   "outputs": [],
   "source": [
    "df_train['claim'].skew()"
   ]
  },
  {
   "cell_type": "code",
   "execution_count": null,
   "metadata": {
    "execution": {
     "iopub.execute_input": "2023-10-11T21:49:30.556765Z",
     "iopub.status.busy": "2023-10-11T21:49:30.555632Z",
     "iopub.status.idle": "2023-10-11T21:49:30.578938Z",
     "shell.execute_reply": "2023-10-11T21:49:30.57785Z",
     "shell.execute_reply.started": "2023-10-11T21:49:30.55673Z"
    },
    "id": "VfFsZLIRJZyR",
    "outputId": "84b823fe-e629-4485-f471-e66213e3858d"
   },
   "outputs": [],
   "source": [
    "df_train['claim'].describe()"
   ]
  },
  {
   "cell_type": "code",
   "execution_count": null,
   "metadata": {
    "execution": {
     "iopub.execute_input": "2023-10-11T21:49:30.581343Z",
     "iopub.status.busy": "2023-10-11T21:49:30.580438Z",
     "iopub.status.idle": "2023-10-11T21:49:30.773092Z",
     "shell.execute_reply": "2023-10-11T21:49:30.771621Z",
     "shell.execute_reply.started": "2023-10-11T21:49:30.581308Z"
    },
    "id": "T69bdDalJfEQ",
    "outputId": "0c249fc5-659d-4dc5-b7f1-734e8b3d6c89"
   },
   "outputs": [],
   "source": [
    "df_train['claim'].plot(kind='box')"
   ]
  },
  {
   "cell_type": "code",
   "execution_count": null,
   "metadata": {
    "execution": {
     "iopub.execute_input": "2023-10-11T21:49:30.775876Z",
     "iopub.status.busy": "2023-10-11T21:49:30.775352Z",
     "iopub.status.idle": "2023-10-11T21:49:30.790067Z",
     "shell.execute_reply": "2023-10-11T21:49:30.788732Z",
     "shell.execute_reply.started": "2023-10-11T21:49:30.77583Z"
    },
    "id": "9aYGl7CBJpXU",
    "outputId": "13216b4b-89de-454b-d4fa-6cdcf9378b23"
   },
   "outputs": [],
   "source": [
    "df_train[df_train['claim']>30000].count()"
   ]
  },
  {
   "cell_type": "code",
   "execution_count": null,
   "metadata": {
    "execution": {
     "iopub.execute_input": "2023-10-11T21:49:30.792805Z",
     "iopub.status.busy": "2023-10-11T21:49:30.792407Z",
     "iopub.status.idle": "2023-10-11T21:49:30.805981Z",
     "shell.execute_reply": "2023-10-11T21:49:30.80474Z",
     "shell.execute_reply.started": "2023-10-11T21:49:30.792774Z"
    },
    "id": "0us7MLd8KGSM",
    "outputId": "9ca976fb-d635-4ef7-ab3c-00fc470736b2"
   },
   "outputs": [],
   "source": [
    "df_train[df_train['claim']<30000].count()"
   ]
  },
  {
   "cell_type": "code",
   "execution_count": null,
   "metadata": {
    "execution": {
     "iopub.execute_input": "2023-10-11T21:49:30.808476Z",
     "iopub.status.busy": "2023-10-11T21:49:30.807649Z",
     "iopub.status.idle": "2023-10-11T21:49:30.821385Z",
     "shell.execute_reply": "2023-10-11T21:49:30.82057Z",
     "shell.execute_reply.started": "2023-10-11T21:49:30.808431Z"
    },
    "id": "KHNQHK0qLQjW",
    "outputId": "4df35d9c-6507-44eb-cd8f-3d95eba147da"
   },
   "outputs": [],
   "source": [
    "stats.iqr(df_train['claim'])"
   ]
  },
  {
   "cell_type": "markdown",
   "metadata": {
    "id": "qfow6jCcOVrG"
   },
   "source": [
    "### Gender"
   ]
  },
  {
   "cell_type": "markdown",
   "metadata": {
    "id": "YEU60h5LPrX9"
   },
   "source": [
    "Conclusion:\n",
    "\n",
    "->  male and female are almost in same quantity"
   ]
  },
  {
   "cell_type": "code",
   "execution_count": null,
   "metadata": {
    "execution": {
     "iopub.execute_input": "2023-10-11T21:49:30.823638Z",
     "iopub.status.busy": "2023-10-11T21:49:30.822605Z",
     "iopub.status.idle": "2023-10-11T21:49:30.837115Z",
     "shell.execute_reply": "2023-10-11T21:49:30.836246Z",
     "shell.execute_reply.started": "2023-10-11T21:49:30.823597Z"
    },
    "id": "q9r370MaOUPg",
    "outputId": "6fff362f-8026-4479-b1bb-00067055fb1b"
   },
   "outputs": [],
   "source": [
    "df_train['gender'].value_counts()"
   ]
  },
  {
   "cell_type": "code",
   "execution_count": null,
   "metadata": {
    "execution": {
     "iopub.execute_input": "2023-10-11T21:49:30.839055Z",
     "iopub.status.busy": "2023-10-11T21:49:30.838187Z",
     "iopub.status.idle": "2023-10-11T21:49:31.07621Z",
     "shell.execute_reply": "2023-10-11T21:49:31.07493Z",
     "shell.execute_reply.started": "2023-10-11T21:49:30.839018Z"
    },
    "id": "b5xy_ooaOfuH",
    "outputId": "9d110b58-ec49-4c62-e076-d251f2a54145"
   },
   "outputs": [],
   "source": [
    "df_train['gender'].value_counts().plot(kind='bar')"
   ]
  },
  {
   "cell_type": "code",
   "execution_count": null,
   "metadata": {
    "execution": {
     "iopub.execute_input": "2023-10-11T21:49:31.078717Z",
     "iopub.status.busy": "2023-10-11T21:49:31.078286Z",
     "iopub.status.idle": "2023-10-11T21:49:31.215166Z",
     "shell.execute_reply": "2023-10-11T21:49:31.213468Z",
     "shell.execute_reply.started": "2023-10-11T21:49:31.078677Z"
    },
    "id": "p7ugiTa3Om-Y",
    "outputId": "d8b0558c-8855-4ede-eecb-87a7ba9c129f"
   },
   "outputs": [],
   "source": [
    "df_train['gender'].value_counts().plot(kind='pie',autopct='%0.1f%%')"
   ]
  },
  {
   "cell_type": "code",
   "execution_count": null,
   "metadata": {
    "execution": {
     "iopub.execute_input": "2023-10-11T21:49:31.218774Z",
     "iopub.status.busy": "2023-10-11T21:49:31.21755Z",
     "iopub.status.idle": "2023-10-11T21:49:31.233269Z",
     "shell.execute_reply": "2023-10-11T21:49:31.23121Z",
     "shell.execute_reply.started": "2023-10-11T21:49:31.218712Z"
    },
    "id": "zal1x_UIPDFa",
    "outputId": "eff254a2-cb3e-41a1-e8bf-6a333e0fe430"
   },
   "outputs": [],
   "source": [
    "df_train['gender'].isnull().sum()"
   ]
  },
  {
   "cell_type": "code",
   "execution_count": null,
   "metadata": {
    "execution": {
     "iopub.execute_input": "2023-10-11T21:49:31.237203Z",
     "iopub.status.busy": "2023-10-11T21:49:31.236072Z",
     "iopub.status.idle": "2023-10-11T21:49:31.25804Z",
     "shell.execute_reply": "2023-10-11T21:49:31.256853Z",
     "shell.execute_reply.started": "2023-10-11T21:49:31.237157Z"
    },
    "id": "r34uDvOmPIaB",
    "outputId": "537222c1-a356-4297-df11-c438c71941c7"
   },
   "outputs": [],
   "source": [
    "df_train.head()"
   ]
  },
  {
   "cell_type": "markdown",
   "metadata": {
    "id": "ww12ttd9QaYQ"
   },
   "source": [
    "### diabetic"
   ]
  },
  {
   "cell_type": "markdown",
   "metadata": {
    "id": "MaSw6pyURG2k"
   },
   "source": [
    "conclusion:\n",
    "-> most patients are non diabetic but there is no more difference"
   ]
  },
  {
   "cell_type": "code",
   "execution_count": null,
   "metadata": {
    "execution": {
     "iopub.execute_input": "2023-10-11T21:49:31.260984Z",
     "iopub.status.busy": "2023-10-11T21:49:31.26013Z",
     "iopub.status.idle": "2023-10-11T21:49:31.271456Z",
     "shell.execute_reply": "2023-10-11T21:49:31.270282Z",
     "shell.execute_reply.started": "2023-10-11T21:49:31.260944Z"
    },
    "id": "UvMG2D0NPOOZ",
    "outputId": "91044895-59f1-488e-b2b4-f64660ffd68b"
   },
   "outputs": [],
   "source": [
    "df_train['diabetic'].value_counts()"
   ]
  },
  {
   "cell_type": "code",
   "execution_count": null,
   "metadata": {
    "execution": {
     "iopub.execute_input": "2023-10-11T21:49:31.27402Z",
     "iopub.status.busy": "2023-10-11T21:49:31.27299Z",
     "iopub.status.idle": "2023-10-11T21:49:31.434682Z",
     "shell.execute_reply": "2023-10-11T21:49:31.433595Z",
     "shell.execute_reply.started": "2023-10-11T21:49:31.273982Z"
    },
    "id": "eZC4qM0yQnDp",
    "outputId": "9021b71f-48e4-4d25-e9e0-1f757650c054"
   },
   "outputs": [],
   "source": [
    "df_train['diabetic'].value_counts().plot(kind='bar')"
   ]
  },
  {
   "cell_type": "code",
   "execution_count": null,
   "metadata": {
    "execution": {
     "iopub.execute_input": "2023-10-11T21:49:31.437024Z",
     "iopub.status.busy": "2023-10-11T21:49:31.436369Z",
     "iopub.status.idle": "2023-10-11T21:49:31.533269Z",
     "shell.execute_reply": "2023-10-11T21:49:31.532228Z",
     "shell.execute_reply.started": "2023-10-11T21:49:31.436986Z"
    },
    "id": "TZq4g_0zQ0nQ",
    "outputId": "b5992273-f194-43b0-e18a-148d58a5b353"
   },
   "outputs": [],
   "source": [
    "df_train['diabetic'].value_counts().plot(kind='pie',autopct='%0.1f%%')"
   ]
  },
  {
   "cell_type": "markdown",
   "metadata": {
    "id": "y_JyoT4NRW8q"
   },
   "source": [
    "### Children:"
   ]
  },
  {
   "cell_type": "markdown",
   "metadata": {
    "id": "kR3L0srGSQdn"
   },
   "source": [
    "conclusion :  most people are children less and number of children is increasing upto 5"
   ]
  },
  {
   "cell_type": "code",
   "execution_count": null,
   "metadata": {
    "execution": {
     "iopub.execute_input": "2023-10-11T21:49:31.535712Z",
     "iopub.status.busy": "2023-10-11T21:49:31.534727Z",
     "iopub.status.idle": "2023-10-11T21:49:31.545568Z",
     "shell.execute_reply": "2023-10-11T21:49:31.544423Z",
     "shell.execute_reply.started": "2023-10-11T21:49:31.535674Z"
    },
    "id": "SUk_4mlERAcu",
    "outputId": "1ee1bf0b-4a7b-4455-bdf1-9f3d0acbda00"
   },
   "outputs": [],
   "source": [
    "df_train['children'].value_counts()"
   ]
  },
  {
   "cell_type": "code",
   "execution_count": null,
   "metadata": {
    "execution": {
     "iopub.execute_input": "2023-10-11T21:49:31.5482Z",
     "iopub.status.busy": "2023-10-11T21:49:31.54714Z",
     "iopub.status.idle": "2023-10-11T21:49:31.785053Z",
     "shell.execute_reply": "2023-10-11T21:49:31.783683Z",
     "shell.execute_reply.started": "2023-10-11T21:49:31.548161Z"
    },
    "id": "ShfJePVjRlL_",
    "outputId": "1873e146-a621-4d7e-8f84-7ee2f422bde5"
   },
   "outputs": [],
   "source": [
    "df_train['children'].value_counts().plot(kind='bar')"
   ]
  },
  {
   "cell_type": "code",
   "execution_count": null,
   "metadata": {
    "execution": {
     "iopub.execute_input": "2023-10-11T21:49:31.786865Z",
     "iopub.status.busy": "2023-10-11T21:49:31.786495Z",
     "iopub.status.idle": "2023-10-11T21:49:31.913981Z",
     "shell.execute_reply": "2023-10-11T21:49:31.912809Z",
     "shell.execute_reply.started": "2023-10-11T21:49:31.786836Z"
    },
    "id": "tK-bewDuRqGG",
    "outputId": "47e4d137-1a15-48d6-f7f1-c80731fd497e"
   },
   "outputs": [],
   "source": [
    "df_train['children'].value_counts().plot(kind='pie',autopct='%0.1f%%')"
   ]
  },
  {
   "cell_type": "markdown",
   "metadata": {
    "id": "_IfE4vQgSqKG"
   },
   "source": [
    "### smoker"
   ]
  },
  {
   "cell_type": "markdown",
   "metadata": {
    "id": "7aDFUalFTKCK"
   },
   "source": [
    "conclusion:\n",
    " 80% percent people are not smokers"
   ]
  },
  {
   "cell_type": "code",
   "execution_count": null,
   "metadata": {
    "id": "YWgcwpCHTJc5"
   },
   "outputs": [],
   "source": []
  },
  {
   "cell_type": "code",
   "execution_count": null,
   "metadata": {
    "execution": {
     "iopub.execute_input": "2023-10-11T21:49:31.91712Z",
     "iopub.status.busy": "2023-10-11T21:49:31.915954Z",
     "iopub.status.idle": "2023-10-11T21:49:31.93832Z",
     "shell.execute_reply": "2023-10-11T21:49:31.936437Z",
     "shell.execute_reply.started": "2023-10-11T21:49:31.917064Z"
    },
    "id": "tvXTcZXNRyaV",
    "outputId": "12afc25a-1d48-473d-e36d-0eb6c56368e0"
   },
   "outputs": [],
   "source": [
    "df_train['smoker'].value_counts()"
   ]
  },
  {
   "cell_type": "code",
   "execution_count": null,
   "metadata": {
    "execution": {
     "iopub.execute_input": "2023-10-11T21:49:31.942933Z",
     "iopub.status.busy": "2023-10-11T21:49:31.941275Z",
     "iopub.status.idle": "2023-10-11T21:49:32.234169Z",
     "shell.execute_reply": "2023-10-11T21:49:32.232774Z",
     "shell.execute_reply.started": "2023-10-11T21:49:31.942841Z"
    },
    "id": "5U72RgBZSxUe",
    "outputId": "0c7c897c-92cd-46f3-cd2d-e0b289e6ac14"
   },
   "outputs": [],
   "source": [
    "df_train['smoker'].value_counts().plot(kind='bar')"
   ]
  },
  {
   "cell_type": "code",
   "execution_count": null,
   "metadata": {
    "execution": {
     "iopub.execute_input": "2023-10-11T21:49:32.236739Z",
     "iopub.status.busy": "2023-10-11T21:49:32.236031Z",
     "iopub.status.idle": "2023-10-11T21:49:32.378939Z",
     "shell.execute_reply": "2023-10-11T21:49:32.377717Z",
     "shell.execute_reply.started": "2023-10-11T21:49:32.236699Z"
    },
    "id": "afbLKXAFS2Hd",
    "outputId": "551a6c27-53df-4546-c904-8f483691dddb"
   },
   "outputs": [],
   "source": [
    "df_train['smoker'].value_counts().plot(kind='pie',autopct='%0.1f%%')"
   ]
  },
  {
   "cell_type": "markdown",
   "metadata": {
    "id": "z9FGlChMTaZk"
   },
   "source": [
    "### region"
   ]
  },
  {
   "cell_type": "markdown",
   "metadata": {
    "id": "SaN3UXdlT11g"
   },
   "source": [
    "conclusion : most people are from southeast then northwest then southwest then northwest"
   ]
  },
  {
   "cell_type": "code",
   "execution_count": null,
   "metadata": {
    "execution": {
     "iopub.execute_input": "2023-10-11T21:49:32.382155Z",
     "iopub.status.busy": "2023-10-11T21:49:32.381231Z",
     "iopub.status.idle": "2023-10-11T21:49:32.401587Z",
     "shell.execute_reply": "2023-10-11T21:49:32.400093Z",
     "shell.execute_reply.started": "2023-10-11T21:49:32.382097Z"
    },
    "id": "EvebL2tRTCJu",
    "outputId": "036cc4e8-1e15-4869-be26-c96607066d26"
   },
   "outputs": [],
   "source": [
    "df_train['region'].value_counts()"
   ]
  },
  {
   "cell_type": "code",
   "execution_count": null,
   "metadata": {
    "execution": {
     "iopub.execute_input": "2023-10-11T21:49:32.407383Z",
     "iopub.status.busy": "2023-10-11T21:49:32.405115Z",
     "iopub.status.idle": "2023-10-11T21:49:32.67346Z",
     "shell.execute_reply": "2023-10-11T21:49:32.6722Z",
     "shell.execute_reply.started": "2023-10-11T21:49:32.407328Z"
    },
    "id": "myz0bi_tTgbr",
    "outputId": "ef2ad26e-0fda-4e27-ce13-e83ac8139d5a"
   },
   "outputs": [],
   "source": [
    "df_train['region'].value_counts().plot(kind='bar')"
   ]
  },
  {
   "cell_type": "code",
   "execution_count": null,
   "metadata": {
    "execution": {
     "iopub.execute_input": "2023-10-11T21:49:32.676039Z",
     "iopub.status.busy": "2023-10-11T21:49:32.67549Z",
     "iopub.status.idle": "2023-10-11T21:49:32.847092Z",
     "shell.execute_reply": "2023-10-11T21:49:32.845935Z",
     "shell.execute_reply.started": "2023-10-11T21:49:32.675985Z"
    },
    "id": "0Wi-syovTngg",
    "outputId": "a91ff71c-92e0-40ac-969d-ff0ef24cb3cc"
   },
   "outputs": [],
   "source": [
    "df_train['region'].value_counts().plot(kind='pie',autopct='%0.1f%%')"
   ]
  },
  {
   "cell_type": "code",
   "execution_count": null,
   "metadata": {
    "execution": {
     "iopub.execute_input": "2023-10-11T21:49:32.850261Z",
     "iopub.status.busy": "2023-10-11T21:49:32.848738Z",
     "iopub.status.idle": "2023-10-11T21:49:32.885065Z",
     "shell.execute_reply": "2023-10-11T21:49:32.883715Z",
     "shell.execute_reply.started": "2023-10-11T21:49:32.85021Z"
    },
    "id": "0s4tzk5oTvKL",
    "outputId": "62defad3-0d3b-4060-f55e-3aa11156d29b"
   },
   "outputs": [],
   "source": [
    "df_train.sample(5)"
   ]
  },
  {
   "cell_type": "markdown",
   "metadata": {
    "id": "3jKnNzmqiiu1"
   },
   "source": [
    "# BiVARIATE ANALYSIS:"
   ]
  },
  {
   "cell_type": "markdown",
   "metadata": {
    "id": "EDTFt6I-MCiQ"
   },
   "source": [
    "## Numerical vs Numerical"
   ]
  },
  {
   "cell_type": "code",
   "execution_count": null,
   "metadata": {
    "execution": {
     "iopub.execute_input": "2023-10-11T21:49:32.888235Z",
     "iopub.status.busy": "2023-10-11T21:49:32.886689Z",
     "iopub.status.idle": "2023-10-11T21:49:33.18936Z",
     "shell.execute_reply": "2023-10-11T21:49:33.188211Z",
     "shell.execute_reply.started": "2023-10-11T21:49:32.888181Z"
    },
    "id": "EkB2Se6WKYyH",
    "outputId": "dba2a243-a32e-4aad-d189-1cee2445ab70"
   },
   "outputs": [],
   "source": [
    "plt.scatter(df_train['age'],df_train['bmi'])\n",
    "plt.title('age VS bmi relation')\n",
    "plt.show()"
   ]
  },
  {
   "cell_type": "markdown",
   "metadata": {
    "id": "zdOASsSwJbyM"
   },
   "source": [
    "### bloodpressure vs claim:"
   ]
  },
  {
   "cell_type": "markdown",
   "metadata": {
    "id": "9n7eqrkcJf2J"
   },
   "source": [
    "correlation between bloodpressure and claim is 0.53 so they are most related with respect to heatmap"
   ]
  },
  {
   "cell_type": "markdown",
   "metadata": {
    "id": "-K43Eo79Jx-J"
   },
   "source": [
    "finding:\n",
    "\n",
    "\n",
    "      -> people having hypertension on stage 1 have low claim and they're in majority\n",
    "      -> some people having fatal hypertension have high claim so high bloospressure can cause high claim"
   ]
  },
  {
   "cell_type": "code",
   "execution_count": null,
   "metadata": {
    "execution": {
     "iopub.execute_input": "2023-10-11T21:49:33.192822Z",
     "iopub.status.busy": "2023-10-11T21:49:33.191462Z",
     "iopub.status.idle": "2023-10-11T21:49:33.494818Z",
     "shell.execute_reply": "2023-10-11T21:49:33.493282Z",
     "shell.execute_reply.started": "2023-10-11T21:49:33.192773Z"
    },
    "id": "2TOigeqbOgb0",
    "outputId": "539aa203-f33b-4e63-ffa8-130c23bcab08"
   },
   "outputs": [],
   "source": [
    "plt.scatter(df_train['bloodpressure'],df_train['claim'])\n",
    "plt.title('bloodpressure vs claim')\n",
    "plt.show()"
   ]
  },
  {
   "cell_type": "markdown",
   "metadata": {
    "id": "bBGiLHnbKHQl"
   },
   "source": [
    "### claim vs bp_category:"
   ]
  },
  {
   "cell_type": "markdown",
   "metadata": {
    "id": "Wp3YrYDRLqtV"
   },
   "source": [
    "### finding:\n",
    "->persons having fatal bp i.e severe hypertension have high claim so high bp caused high claim"
   ]
  },
  {
   "cell_type": "code",
   "execution_count": null,
   "metadata": {
    "execution": {
     "iopub.execute_input": "2023-10-11T21:49:33.49768Z",
     "iopub.status.busy": "2023-10-11T21:49:33.497147Z",
     "iopub.status.idle": "2023-10-11T21:49:33.831351Z",
     "shell.execute_reply": "2023-10-11T21:49:33.829812Z",
     "shell.execute_reply.started": "2023-10-11T21:49:33.497636Z"
    },
    "id": "FaOPRhjVKPbX",
    "outputId": "c2f7289d-3338-45bd-90ac-a28510baafaf"
   },
   "outputs": [],
   "source": [
    "sns.barplot(x=df_train['bp_category'],y=df_train['claim'])\n",
    "plt.xlabel('bp_category')\n",
    "plt.ylabel('claim')\n",
    "plt.show()"
   ]
  },
  {
   "cell_type": "markdown",
   "metadata": {
    "id": "X6q7_KJPSLDn"
   },
   "source": [
    "### age and claim"
   ]
  },
  {
   "cell_type": "markdown",
   "metadata": {
    "id": "Uz-IJp-DT5sI"
   },
   "source": [
    "no relation as corr is only 0.2 AND graphs are constant too"
   ]
  },
  {
   "cell_type": "code",
   "execution_count": null,
   "metadata": {
    "execution": {
     "iopub.execute_input": "2023-10-11T21:49:33.834589Z",
     "iopub.status.busy": "2023-10-11T21:49:33.833768Z",
     "iopub.status.idle": "2023-10-11T21:49:34.085376Z",
     "shell.execute_reply": "2023-10-11T21:49:34.08373Z",
     "shell.execute_reply.started": "2023-10-11T21:49:33.834535Z"
    },
    "id": "QKfQKC6EQaCp",
    "outputId": "93a78d97-650b-435f-95ed-65fe65eb7fd2"
   },
   "outputs": [],
   "source": [
    "plt.scatter(df_train['age'],df_train['claim'])\n",
    "plt.show()"
   ]
  },
  {
   "cell_type": "code",
   "execution_count": null,
   "metadata": {
    "execution": {
     "iopub.execute_input": "2023-10-11T21:49:34.08729Z",
     "iopub.status.busy": "2023-10-11T21:49:34.086951Z",
     "iopub.status.idle": "2023-10-11T21:49:34.097213Z",
     "shell.execute_reply": "2023-10-11T21:49:34.095994Z",
     "shell.execute_reply.started": "2023-10-11T21:49:34.08726Z"
    },
    "id": "4n8p3zlVMzo2",
    "outputId": "51af7ffa-7769-4ffc-ace9-50268adbf53a"
   },
   "outputs": [],
   "source": [
    "correlation = df_train['claim'].corr(df_train['age'])\n",
    "correlation"
   ]
  },
  {
   "cell_type": "markdown",
   "metadata": {
    "id": "aGfQAkBUvwqE"
   },
   "source": [
    "### Gender vs bloodpressure:"
   ]
  },
  {
   "cell_type": "code",
   "execution_count": null,
   "metadata": {
    "execution": {
     "iopub.execute_input": "2023-10-11T21:49:34.099183Z",
     "iopub.status.busy": "2023-10-11T21:49:34.098783Z",
     "iopub.status.idle": "2023-10-11T21:49:34.398022Z",
     "shell.execute_reply": "2023-10-11T21:49:34.396358Z",
     "shell.execute_reply.started": "2023-10-11T21:49:34.099106Z"
    },
    "id": "UTjAUjaLTSZ6",
    "outputId": "39445a79-193a-4236-e49a-35fd8b4a1599"
   },
   "outputs": [],
   "source": [
    "## plotting a barplot to find which gender had the fatal hypertension\n",
    "sns.barplot(x=df_train['gender'],y=df_train['bloodpressure'])\n",
    "plt.xlabel('gender')\n",
    "plt.ylabel('bloodpressure')\n",
    "plt.title('gender vs bloodpressure')\n",
    "plt.show()"
   ]
  },
  {
   "cell_type": "markdown",
   "metadata": {
    "id": "Y89R9X64xqnK"
   },
   "source": [
    "### gender vs bmi_category"
   ]
  },
  {
   "cell_type": "code",
   "execution_count": null,
   "metadata": {
    "execution": {
     "iopub.execute_input": "2023-10-11T21:49:34.400746Z",
     "iopub.status.busy": "2023-10-11T21:49:34.400342Z",
     "iopub.status.idle": "2023-10-11T21:49:34.4234Z",
     "shell.execute_reply": "2023-10-11T21:49:34.421805Z",
     "shell.execute_reply.started": "2023-10-11T21:49:34.400717Z"
    },
    "id": "iXLR91KDxgI5",
    "outputId": "19a11518-eff1-4d70-c316-13c7012502e3"
   },
   "outputs": [],
   "source": [
    "table = pd.crosstab(df_train['gender'],df_train['bmi_category'],normalize=True)\n",
    "print(table)"
   ]
  },
  {
   "cell_type": "markdown",
   "metadata": {
    "id": "rKBeSr0Gycfp"
   },
   "source": [
    "### finding:\n",
    " there is no much difference in male and female bmi_categories which means almost each categories has same amount of distribution of male and female"
   ]
  },
  {
   "cell_type": "markdown",
   "metadata": {
    "id": "Jhuq9j_wcOvE"
   },
   "source": [
    "## smoker vs bp_category:"
   ]
  },
  {
   "cell_type": "code",
   "execution_count": null,
   "metadata": {
    "execution": {
     "iopub.execute_input": "2023-10-11T21:49:34.425195Z",
     "iopub.status.busy": "2023-10-11T21:49:34.424896Z",
     "iopub.status.idle": "2023-10-11T21:49:34.435015Z",
     "shell.execute_reply": "2023-10-11T21:49:34.433355Z",
     "shell.execute_reply.started": "2023-10-11T21:49:34.425171Z"
    },
    "id": "Bzg3JaTFcTdn",
    "outputId": "23cb3b1c-c5de-4791-842c-51bb35c01ede"
   },
   "outputs": [],
   "source": [
    "\n",
    "smoker_count= df_train['smoker'].value_counts()\n",
    "smoker_count"
   ]
  },
  {
   "cell_type": "code",
   "execution_count": null,
   "metadata": {
    "execution": {
     "iopub.execute_input": "2023-10-11T21:49:34.437735Z",
     "iopub.status.busy": "2023-10-11T21:49:34.437249Z",
     "iopub.status.idle": "2023-10-11T21:49:34.464815Z",
     "shell.execute_reply": "2023-10-11T21:49:34.463914Z",
     "shell.execute_reply.started": "2023-10-11T21:49:34.437695Z"
    },
    "id": "XRgtnyYhcwnu",
    "outputId": "c4afe7f2-a181-4b3a-83e3-47af10620484"
   },
   "outputs": [],
   "source": [
    "pd.crosstab(df_train['smoker'],df_train['bp_category'],normalize=True)"
   ]
  },
  {
   "cell_type": "markdown",
   "metadata": {
    "id": "iAnVxM5azHQo"
   },
   "source": [
    "## diabetic vs claim:"
   ]
  },
  {
   "cell_type": "markdown",
   "metadata": {
    "id": "SJuHDOqIGYk4"
   },
   "source": [
    " Finding:\n",
    "\n",
    " Both diabetic and non-diabetic individuals show an equal distribution of claims, suggesting that diabetes does not appear to be a significant factor in determining claim frequency.\""
   ]
  },
  {
   "cell_type": "code",
   "execution_count": null,
   "metadata": {
    "execution": {
     "iopub.execute_input": "2023-10-11T21:49:34.473894Z",
     "iopub.status.busy": "2023-10-11T21:49:34.47328Z",
     "iopub.status.idle": "2023-10-11T21:49:34.481306Z",
     "shell.execute_reply": "2023-10-11T21:49:34.480495Z",
     "shell.execute_reply.started": "2023-10-11T21:49:34.473849Z"
    },
    "id": "a2FYIlRxyOrI",
    "outputId": "82a39ca2-dc7b-4ec1-ba43-11268cff49ef"
   },
   "outputs": [],
   "source": [
    "\n",
    "diabetic_count= df_train['diabetic'].value_counts()\n",
    "diabetic_count"
   ]
  },
  {
   "cell_type": "code",
   "execution_count": null,
   "metadata": {
    "execution": {
     "iopub.execute_input": "2023-10-11T21:49:34.483538Z",
     "iopub.status.busy": "2023-10-11T21:49:34.483213Z",
     "iopub.status.idle": "2023-10-11T21:49:34.77702Z",
     "shell.execute_reply": "2023-10-11T21:49:34.775682Z",
     "shell.execute_reply.started": "2023-10-11T21:49:34.483495Z"
    },
    "id": "poECRcaJzcs1",
    "outputId": "1fcf6f3b-49d7-4d12-ed89-30c5a0d73fa8"
   },
   "outputs": [],
   "source": [
    "sns.barplot(x=df_train['diabetic'],y=df_train['claim'])"
   ]
  },
  {
   "cell_type": "markdown",
   "metadata": {
    "id": "TNSLpxMCdCPm"
   },
   "source": []
  },
  {
   "cell_type": "markdown",
   "metadata": {
    "id": "vOw0PvlMHV13"
   },
   "source": [
    "### bmi vs diabetic"
   ]
  },
  {
   "cell_type": "markdown",
   "metadata": {
    "id": "Sz2lUpNjJJQj"
   },
   "source": [
    "### finding: diabetes is not affecting bmi"
   ]
  },
  {
   "cell_type": "code",
   "execution_count": null,
   "metadata": {
    "execution": {
     "iopub.execute_input": "2023-10-11T21:49:34.779229Z",
     "iopub.status.busy": "2023-10-11T21:49:34.778938Z",
     "iopub.status.idle": "2023-10-11T21:49:35.062425Z",
     "shell.execute_reply": "2023-10-11T21:49:35.061225Z",
     "shell.execute_reply.started": "2023-10-11T21:49:34.779204Z"
    },
    "id": "6F5as8vSz231",
    "outputId": "0ad0e9b2-34d1-4660-aab8-7210d8642a8a"
   },
   "outputs": [],
   "source": [
    "sns.barplot(x=df_train['diabetic'],y=df_train['bmi'])\n",
    "plt.xlabel('diabetic')\n",
    "plt.ylabel('bmi')\n",
    "plt.title('bmi vs diabetic')\n",
    "plt.show()"
   ]
  },
  {
   "cell_type": "code",
   "execution_count": null,
   "metadata": {
    "execution": {
     "iopub.execute_input": "2023-10-11T21:49:35.064591Z",
     "iopub.status.busy": "2023-10-11T21:49:35.064232Z",
     "iopub.status.idle": "2023-10-11T21:49:35.08848Z",
     "shell.execute_reply": "2023-10-11T21:49:35.08747Z",
     "shell.execute_reply.started": "2023-10-11T21:49:35.064551Z"
    },
    "id": "jCtE_w8LIA-L",
    "outputId": "4e2df521-13d4-4e55-d1d2-1fe7217ff888"
   },
   "outputs": [],
   "source": [
    "pd.crosstab(df_train['diabetic'],df_train['bmi_category'],normalize=True)"
   ]
  },
  {
   "cell_type": "code",
   "execution_count": null,
   "metadata": {
    "execution": {
     "iopub.execute_input": "2023-10-11T21:49:35.091379Z",
     "iopub.status.busy": "2023-10-11T21:49:35.089978Z",
     "iopub.status.idle": "2023-10-11T21:49:35.110891Z",
     "shell.execute_reply": "2023-10-11T21:49:35.109076Z",
     "shell.execute_reply.started": "2023-10-11T21:49:35.09133Z"
    },
    "id": "q8ZCfIUAI1Gc",
    "outputId": "2bf8fdc1-7230-47ff-c96f-d006d6e99447"
   },
   "outputs": [],
   "source": [
    "df_train.sample(5)"
   ]
  },
  {
   "cell_type": "markdown",
   "metadata": {
    "id": "2ewtwbOIOW6k"
   },
   "source": [
    "### Children vs claim:"
   ]
  },
  {
   "cell_type": "markdown",
   "metadata": {
    "id": "VmsItg4yQ8iS"
   },
   "source": [
    "### finding:\n",
    "        \n",
    "         -> so people having less children have more claim so we can say relation is inverse somehow"
   ]
  },
  {
   "cell_type": "code",
   "execution_count": null,
   "metadata": {
    "execution": {
     "iopub.execute_input": "2023-10-11T21:49:35.113114Z",
     "iopub.status.busy": "2023-10-11T21:49:35.112664Z",
     "iopub.status.idle": "2023-10-11T21:49:35.377949Z",
     "shell.execute_reply": "2023-10-11T21:49:35.37649Z",
     "shell.execute_reply.started": "2023-10-11T21:49:35.113072Z"
    },
    "id": "KPgFj3S6OVJZ",
    "outputId": "02a3a25c-8839-4593-e0a8-664f4fc7107e"
   },
   "outputs": [],
   "source": [
    "plt.scatter(df_train['children'],df_train['claim'])\n",
    "plt.show()"
   ]
  },
  {
   "cell_type": "markdown",
   "metadata": {
    "id": "jrAPPn_gRmLZ"
   },
   "source": [
    "## Smoker vs Claim:"
   ]
  },
  {
   "cell_type": "markdown",
   "metadata": {
    "id": "RwNZpaD4Sat4"
   },
   "source": [
    "finding:\n",
    "\n",
    "-> smoker persons have high claim"
   ]
  },
  {
   "cell_type": "code",
   "execution_count": null,
   "metadata": {
    "execution": {
     "iopub.execute_input": "2023-10-11T21:49:35.380312Z",
     "iopub.status.busy": "2023-10-11T21:49:35.379813Z",
     "iopub.status.idle": "2023-10-11T21:49:35.693488Z",
     "shell.execute_reply": "2023-10-11T21:49:35.690623Z",
     "shell.execute_reply.started": "2023-10-11T21:49:35.380269Z"
    },
    "id": "BKBP9eAHQGEu",
    "outputId": "82d793f9-97f6-4c38-b878-471a4f819bad"
   },
   "outputs": [],
   "source": [
    "sns.barplot(x=df_train['smoker'],y=df_train['claim'])\n",
    "plt.xlabel('Smoker')\n",
    "plt.ylabel('claim')\n",
    "plt.title('Smoker vs claim')\n",
    "plt.show()"
   ]
  },
  {
   "cell_type": "markdown",
   "metadata": {
    "id": "hkGg9SKkS-DI"
   },
   "source": [
    "## region vs claim:\n",
    "\n",
    "\n"
   ]
  },
  {
   "cell_type": "markdown",
   "metadata": {
    "id": "mrxBeSyYTYNi"
   },
   "source": [
    "### finding:\n",
    "     -> people from northeast have more claim  however only 17.3% people belong from northeast region"
   ]
  },
  {
   "cell_type": "code",
   "execution_count": null,
   "metadata": {
    "execution": {
     "iopub.execute_input": "2023-10-11T21:49:35.696791Z",
     "iopub.status.busy": "2023-10-11T21:49:35.695403Z",
     "iopub.status.idle": "2023-10-11T21:49:36.077485Z",
     "shell.execute_reply": "2023-10-11T21:49:36.076127Z",
     "shell.execute_reply.started": "2023-10-11T21:49:35.696751Z"
    },
    "id": "NqymO-CUSKxu",
    "outputId": "bce727b5-dcab-41a5-8dfc-3033483f311e"
   },
   "outputs": [],
   "source": [
    "sns.barplot(x=df_train['region'],y=df_train['claim'])\n",
    "plt.xlabel('Region')\n",
    "plt.ylabel('claim')\n",
    "plt.title('Region vs claim')\n",
    "plt.show()"
   ]
  },
  {
   "cell_type": "markdown",
   "metadata": {
    "id": "BO1hMUtaVrPt"
   },
   "source": [
    "# Multivariate analysis:"
   ]
  },
  {
   "cell_type": "markdown",
   "metadata": {
    "id": "AjZEDnJNZ2_G"
   },
   "source": [
    "## Smoker vs gender vs claim"
   ]
  },
  {
   "cell_type": "markdown",
   "metadata": {
    "id": "l5kMA0SVaa4n"
   },
   "source": [
    "### finding:\n",
    "       ->  both male and female smokers have  higher claims than non smokers"
   ]
  },
  {
   "cell_type": "code",
   "execution_count": null,
   "metadata": {
    "execution": {
     "iopub.execute_input": "2023-10-11T21:49:36.080387Z",
     "iopub.status.busy": "2023-10-11T21:49:36.079874Z",
     "iopub.status.idle": "2023-10-11T21:49:36.430349Z",
     "shell.execute_reply": "2023-10-11T21:49:36.429156Z",
     "shell.execute_reply.started": "2023-10-11T21:49:36.080345Z"
    },
    "id": "2GaUrqQyZ_s8",
    "outputId": "2d3e50ea-5f9c-4932-981d-8ab46910ca08"
   },
   "outputs": [],
   "source": [
    "sns.barplot(x=df_train['gender'],y=df_train['claim'],hue=df_train['smoker'])\n",
    "plt.legend()\n",
    "plt.show()"
   ]
  },
  {
   "cell_type": "markdown",
   "metadata": {
    "id": "GeM8xXQrbJuM"
   },
   "source": [
    "## bp_category vs smoker vs claim"
   ]
  },
  {
   "cell_type": "markdown",
   "metadata": {
    "id": "MyugJAOkbzra"
   },
   "source": [
    "## finding:\n",
    "       -> smoker peson having fatal hypertension have claimed the most"
   ]
  },
  {
   "cell_type": "code",
   "execution_count": null,
   "metadata": {
    "execution": {
     "iopub.execute_input": "2023-10-11T21:49:36.434066Z",
     "iopub.status.busy": "2023-10-11T21:49:36.43355Z",
     "iopub.status.idle": "2023-10-11T21:49:36.879058Z",
     "shell.execute_reply": "2023-10-11T21:49:36.877616Z",
     "shell.execute_reply.started": "2023-10-11T21:49:36.434021Z"
    },
    "id": "qdJfn5HmTQXh",
    "outputId": "40c0edd5-084a-4328-cbb2-d0eb0428df9f"
   },
   "outputs": [],
   "source": [
    "sns.barplot(x=df_train['bp_category'],y=df_train['claim'],hue=df_train['smoker'])\n",
    "plt.legend()\n",
    "plt.show()"
   ]
  },
  {
   "cell_type": "code",
   "execution_count": null,
   "metadata": {
    "execution": {
     "iopub.execute_input": "2023-10-11T21:49:36.880707Z",
     "iopub.status.busy": "2023-10-11T21:49:36.880351Z",
     "iopub.status.idle": "2023-10-11T21:49:36.898312Z",
     "shell.execute_reply": "2023-10-11T21:49:36.896716Z",
     "shell.execute_reply.started": "2023-10-11T21:49:36.880679Z"
    },
    "id": "QFgotFdBVkot",
    "outputId": "7d0b4e97-813a-4818-9496-a38ef7264ac4"
   },
   "outputs": [],
   "source": [
    "df_train.sample(4)"
   ]
  },
  {
   "cell_type": "markdown",
   "metadata": {
    "id": "ZbgmSyy6dsSH"
   },
   "source": [
    "## diabetic vs smoker vs claim"
   ]
  },
  {
   "cell_type": "markdown",
   "metadata": {
    "id": "11mD5MkseELL"
   },
   "source": [
    "###finding:\n",
    "     -> diabetic and non diabetic smokers both have high claim and diabetic or  \n",
    "      non diabetic non smokers have low claim so diabetes didnt affect claim"
   ]
  },
  {
   "cell_type": "code",
   "execution_count": null,
   "metadata": {
    "execution": {
     "iopub.execute_input": "2023-10-11T21:49:36.900429Z",
     "iopub.status.busy": "2023-10-11T21:49:36.899909Z",
     "iopub.status.idle": "2023-10-11T21:49:37.260146Z",
     "shell.execute_reply": "2023-10-11T21:49:37.258733Z",
     "shell.execute_reply.started": "2023-10-11T21:49:36.900387Z"
    },
    "id": "bY5TE3lDdlLZ",
    "outputId": "5639752c-c30d-4eec-98af-6080e0436a27"
   },
   "outputs": [],
   "source": [
    "sns.barplot(x=df_train['diabetic'],y=df_train['claim'],hue=df_train['smoker'])\n",
    "plt.legend()\n",
    "plt.show()"
   ]
  },
  {
   "cell_type": "markdown",
   "metadata": {
    "id": "Cj-J3SYreyoH"
   },
   "source": [
    "## bmi_category vs smoker vs claim"
   ]
  },
  {
   "cell_type": "markdown",
   "metadata": {
    "id": "cTkVrcCkfMaw"
   },
   "source": [
    "##finding:\n",
    "        -> obese and very obese smoker have claimed high"
   ]
  },
  {
   "cell_type": "code",
   "execution_count": null,
   "metadata": {
    "execution": {
     "iopub.execute_input": "2023-10-11T21:49:37.262906Z",
     "iopub.status.busy": "2023-10-11T21:49:37.262399Z",
     "iopub.status.idle": "2023-10-11T21:49:37.757536Z",
     "shell.execute_reply": "2023-10-11T21:49:37.756303Z",
     "shell.execute_reply.started": "2023-10-11T21:49:37.262863Z"
    },
    "id": "1V9wvLWad8ld",
    "outputId": "e95a204b-008e-4fd1-eb1a-a958748726d2"
   },
   "outputs": [],
   "source": [
    "sns.barplot(x=df_train['bmi_category'],y=df_train['claim'],hue=df_train['smoker'])\n",
    "plt.legend()\n",
    "plt.show()"
   ]
  },
  {
   "cell_type": "markdown",
   "metadata": {
    "id": "1mZrPdg0fbvA"
   },
   "source": [
    "## region vs smoker vs claim"
   ]
  },
  {
   "cell_type": "markdown",
   "metadata": {
    "id": "cIRIqYFFfqbK"
   },
   "source": [
    "### finding:\n",
    "           -> southeast smokers have claimed the most"
   ]
  },
  {
   "cell_type": "code",
   "execution_count": null,
   "metadata": {
    "execution": {
     "iopub.execute_input": "2023-10-11T21:49:37.760035Z",
     "iopub.status.busy": "2023-10-11T21:49:37.758813Z",
     "iopub.status.idle": "2023-10-11T21:49:38.199626Z",
     "shell.execute_reply": "2023-10-11T21:49:38.198136Z",
     "shell.execute_reply.started": "2023-10-11T21:49:37.760004Z"
    },
    "id": "rtZ_qh2ffB3m",
    "outputId": "a465cbeb-3969-41dd-a484-2a619f517f71"
   },
   "outputs": [],
   "source": [
    "sns.barplot(x=df_train['region'],y=df_train['claim'],hue=df_train['smoker'])\n",
    "plt.legend()\n",
    "plt.show()"
   ]
  },
  {
   "cell_type": "markdown",
   "metadata": {
    "id": "CoTe1NzigDIN"
   },
   "source": [
    "## bp_category vs bmi_category vs claim"
   ]
  },
  {
   "cell_type": "markdown",
   "metadata": {
    "id": "RHi5aTBPgfha"
   },
   "source": [
    "## finding :           \n",
    "          ->obese person with fatal hypertension and\n",
    "            very obese persons with stage 2 hypertension have claimed the most"
   ]
  },
  {
   "cell_type": "code",
   "execution_count": null,
   "metadata": {
    "execution": {
     "iopub.execute_input": "2023-10-11T21:49:38.201301Z",
     "iopub.status.busy": "2023-10-11T21:49:38.201006Z",
     "iopub.status.idle": "2023-10-11T21:49:38.98758Z",
     "shell.execute_reply": "2023-10-11T21:49:38.986297Z",
     "shell.execute_reply.started": "2023-10-11T21:49:38.201275Z"
    },
    "id": "vlBUzt27fmUV",
    "outputId": "fa5a1c7a-659e-441d-9856-51b41bba9c13"
   },
   "outputs": [],
   "source": [
    "sns.barplot(x=df_train['bp_category'],y=df_train['claim'],hue=df_train['bmi_category'])\n",
    "plt.legend()\n",
    "plt.show()"
   ]
  },
  {
   "cell_type": "markdown",
   "metadata": {
    "id": "j_6yVkvWhFGs"
   },
   "source": [
    "### age_category vs smoke vs column:"
   ]
  },
  {
   "cell_type": "markdown",
   "metadata": {
    "id": "OVlAsZuZhbIF"
   },
   "source": [
    "## finding:\n",
    "       -> all smokers of any age category in dataset have claimed high"
   ]
  },
  {
   "cell_type": "code",
   "execution_count": null,
   "metadata": {
    "execution": {
     "iopub.execute_input": "2023-10-11T21:49:38.990709Z",
     "iopub.status.busy": "2023-10-11T21:49:38.989668Z",
     "iopub.status.idle": "2023-10-11T21:49:39.399924Z",
     "shell.execute_reply": "2023-10-11T21:49:39.398401Z",
     "shell.execute_reply.started": "2023-10-11T21:49:38.990662Z"
    },
    "id": "o_4uN8ffgU55",
    "outputId": "ef1c6da9-7d83-4a6c-ad89-aa26498fe8b5"
   },
   "outputs": [],
   "source": [
    "sns.barplot(x=df_train['age_category'],y=df_train['claim'],hue=df_train['smoker'])\n",
    "plt.legend()\n",
    "plt.show()"
   ]
  },
  {
   "cell_type": "markdown",
   "metadata": {
    "id": "l_7uy9x8hw4m"
   },
   "source": [
    "### region vs bp_category vs claim:"
   ]
  },
  {
   "cell_type": "markdown",
   "metadata": {
    "id": "ydSO-cM6iEjP"
   },
   "source": [
    "## finding:\n",
    "      ->Northeastern people and southwestern people with fatal hypertension  have claimed high"
   ]
  },
  {
   "cell_type": "code",
   "execution_count": null,
   "metadata": {
    "execution": {
     "iopub.execute_input": "2023-10-11T21:49:39.402396Z",
     "iopub.status.busy": "2023-10-11T21:49:39.40189Z",
     "iopub.status.idle": "2023-10-11T21:49:40.121014Z",
     "shell.execute_reply": "2023-10-11T21:49:40.11968Z",
     "shell.execute_reply.started": "2023-10-11T21:49:39.402351Z"
    },
    "id": "YSk2wgsAhX3p",
    "outputId": "58fffd8c-e10f-488f-cab7-a8ca9a0384e2"
   },
   "outputs": [],
   "source": [
    "sns.barplot(x=df_train['region'],y=df_train['claim'],hue=df_train['bp_category'])\n",
    "plt.legend()\n",
    "plt.show()"
   ]
  },
  {
   "cell_type": "markdown",
   "metadata": {
    "id": "HNRkUCEmij_K"
   },
   "source": [
    "## children vs smoker vs claim:"
   ]
  },
  {
   "cell_type": "markdown",
   "metadata": {
    "id": "aSblK9SBizNk"
   },
   "source": [
    "## finding :     \n",
    "       -> smokers with 2 and 3 children have claimed highest\n",
    "       -> people with 4,5 children have claimed low whether smokers or non smokers"
   ]
  },
  {
   "cell_type": "code",
   "execution_count": null,
   "metadata": {
    "execution": {
     "iopub.execute_input": "2023-10-11T21:49:40.122975Z",
     "iopub.status.busy": "2023-10-11T21:49:40.122604Z",
     "iopub.status.idle": "2023-10-11T21:49:40.671393Z",
     "shell.execute_reply": "2023-10-11T21:49:40.6702Z",
     "shell.execute_reply.started": "2023-10-11T21:49:40.122942Z"
    },
    "id": "YmS3-XcHh96T",
    "outputId": "d13600ed-1875-430e-b5f9-f84f24d0bf29"
   },
   "outputs": [],
   "source": [
    "sns.barplot(x=df_train['children'],y=df_train['claim'],hue=df_train['smoker'])\n",
    "plt.legend()\n",
    "plt.show()"
   ]
  },
  {
   "cell_type": "markdown",
   "metadata": {
    "id": "_IJ2BQGyjPL0"
   },
   "source": [
    "## children vs region vs claim:"
   ]
  },
  {
   "cell_type": "markdown",
   "metadata": {
    "id": "deaHjoGQjmF_"
   },
   "source": [
    "## finding:\n",
    "        -> northeastern  people with 3 children have claimed high"
   ]
  },
  {
   "cell_type": "code",
   "execution_count": null,
   "metadata": {
    "execution": {
     "iopub.execute_input": "2023-10-11T21:49:40.674094Z",
     "iopub.status.busy": "2023-10-11T21:49:40.672827Z",
     "iopub.status.idle": "2023-10-11T21:49:41.52643Z",
     "shell.execute_reply": "2023-10-11T21:49:41.524997Z",
     "shell.execute_reply.started": "2023-10-11T21:49:40.674029Z"
    },
    "id": "CaF9UwCFiuxY",
    "outputId": "233fba2e-e353-46cc-ac9f-78c662cf21c1"
   },
   "outputs": [],
   "source": [
    "sns.barplot(x=df_train['region'],y=df_train['claim'],hue=df_train['children'])\n",
    "plt.legend()\n",
    "plt.show()"
   ]
  },
  {
   "cell_type": "markdown",
   "metadata": {
    "id": "xuDz70gKjzEL"
   },
   "source": [
    "## children vs bp_category vs claim:"
   ]
  },
  {
   "cell_type": "markdown",
   "metadata": {
    "id": "po-utnUckDdJ"
   },
   "source": [
    "### finding:\n",
    "   -> people having 2,3 children with stage 2 or fatal hypertension i.e bp above 100 and 120 respectively (diastolic) have claimed high."
   ]
  },
  {
   "cell_type": "code",
   "execution_count": null,
   "metadata": {
    "execution": {
     "iopub.execute_input": "2023-10-11T21:49:41.528717Z",
     "iopub.status.busy": "2023-10-11T21:49:41.528193Z",
     "iopub.status.idle": "2023-10-11T21:49:42.411425Z",
     "shell.execute_reply": "2023-10-11T21:49:42.40997Z",
     "shell.execute_reply.started": "2023-10-11T21:49:41.528685Z"
    },
    "id": "m_B8Sj_kjd8d",
    "outputId": "662c6981-c6cf-4f0b-cda9-779b8e32a0a1"
   },
   "outputs": [],
   "source": [
    "sns.barplot(x=df_train['children'],y=df_train['claim'],hue=df_train['bp_category'])\n",
    "plt.legend()\n",
    "plt.show()"
   ]
  },
  {
   "cell_type": "markdown",
   "metadata": {
    "id": "QISPcVG_kYGS"
   },
   "source": [
    "### children vs bmi_category vs claim:"
   ]
  },
  {
   "cell_type": "markdown",
   "metadata": {
    "id": "JCpPgm5dkimR"
   },
   "source": [
    "## finding:\n",
    "    -> people with 2,3 children and are obese or very obese i.e bmi above 30 have clamed high"
   ]
  },
  {
   "cell_type": "code",
   "execution_count": null,
   "metadata": {
    "execution": {
     "iopub.execute_input": "2023-10-11T21:49:42.414058Z",
     "iopub.status.busy": "2023-10-11T21:49:42.413573Z",
     "iopub.status.idle": "2023-10-11T21:49:44.013899Z",
     "shell.execute_reply": "2023-10-11T21:49:44.012243Z",
     "shell.execute_reply.started": "2023-10-11T21:49:42.414016Z"
    },
    "id": "EjD5sQ7rkAGN",
    "outputId": "783444d7-564f-44ea-bcde-52fa1124d5bf"
   },
   "outputs": [],
   "source": [
    "sns.barplot(x=df_train['children'],y=df_train['claim'],hue=df_train['bmi_category'])\n",
    "plt.legend()\n",
    "plt.show()"
   ]
  },
  {
   "cell_type": "markdown",
   "metadata": {
    "id": "D14v-xOSk0gL"
   },
   "source": [
    "# Final conclusion:"
   ]
  },
  {
   "cell_type": "markdown",
   "metadata": {
    "id": "_AcVhprEk4xC"
   },
   "source": [
    "### northeastern and southeastern smoker persons suffering from hypertension at stage 2 or fatal (bp>100) and are obese or very obese(bmi>30) have claimed the highest"
   ]
  },
  {
   "cell_type": "code",
   "execution_count": null,
   "metadata": {},
   "outputs": [],
   "source": []
  }
 ],
 "metadata": {
  "kernelspec": {
   "display_name": "Python 3",
   "language": "python",
   "name": "python3"
  },
  "language_info": {
   "codemirror_mode": {
    "name": "ipython",
    "version": 3
   },
   "file_extension": ".py",
   "mimetype": "text/x-python",
   "name": "python",
   "nbconvert_exporter": "python",
   "pygments_lexer": "ipython3",
   "version": "3.6.4"
  }
 },
 "nbformat": 4,
 "nbformat_minor": 4
}
